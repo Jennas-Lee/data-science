{
 "cells": [
  {
   "cell_type": "code",
   "execution_count": 2,
   "metadata": {
    "collapsed": true
   },
   "outputs": [],
   "source": [
    "### Set 1\n",
    "\n",
    "import pandas as pd\n",
    "\n",
    "# df = pd.read_csv('DS_Sample_1.csv', sep=',')\n",
    "df = pd.read_csv('../../../datasets/level2/DS_Sample_1.csv', sep=',')\n",
    "df['CUST_ID']=df['CUST_ID'].astype('int')\n",
    "\n",
    "df['CREDIT_LIMIT']=df['CREDIT_LIMIT'].fillna(df['CREDIT_LIMIT'].mean())\n",
    "df['MINIMUM_PAYMENTS']=df['MINIMUM_PAYMENTS'].fillna(df['MINIMUM_PAYMENTS'].mean())"
   ]
  },
  {
   "cell_type": "code",
   "execution_count": 3,
   "outputs": [
    {
     "data": {
      "text/plain": "0.9484046188238867"
     },
     "execution_count": 3,
     "metadata": {},
     "output_type": "execute_result"
    }
   ],
   "source": [
    "# 1번 문제\n",
    "\n",
    "mylist=list(set(df.TENURE.tolist()))\n",
    "\n",
    "corrs=[]\n",
    "for mylis in mylist:\n",
    "    df2=df[df['TENURE']==mylis]\n",
    "    corrs.append(df2[['BALANCE', 'CREDIT_LIMIT']].corr().iloc[1,0])\n",
    "\n",
    "df3=pd.DataFrame({'TENURE':mylist,'corrs':corrs})\n",
    "\n",
    "answer=df3.sort_values(by='corrs',ascending=False).corrs.iloc[0]\n",
    "answer"
   ],
   "metadata": {
    "collapsed": false
   }
  },
  {
   "cell_type": "code",
   "execution_count": 14,
   "outputs": [
    {
     "name": "stdout",
     "output_type": "stream",
     "text": [
      "    BALANCE  BALANCE_FREQUENCY  PURCHASES  ONEOFF_PURCHASES  \\\n",
      "0 -0.848343          -0.419669  -0.441715         -0.373861   \n",
      "1  0.282650           0.012125  -0.468782         -0.373861   \n",
      "\n",
      "   INSTALLMENTS_PURCHASES  CASH_ADVANCE  PURCHASES_FREQUENCY  \\\n",
      "0               -0.395103     -0.482113            -0.872264   \n",
      "1               -0.470068      1.877528            -1.281917   \n",
      "\n",
      "   ONEOFF_PURCHASES_FREQUENCY  PURCHASES_INSTALLMENTS_FREQUENCY  \\\n",
      "0                   -0.803919                         -0.719260   \n",
      "1                   -0.803919                         -0.923941   \n",
      "\n",
      "   CASH_ADVANCE_FREQUENCY  CASH_ADVANCE_TRX  PURCHASES_TRX  CREDIT_LIMIT  \\\n",
      "0               -0.684358         -0.457689      -0.563834     -1.161088   \n",
      "1                0.513236          0.065384      -0.627743      0.149950   \n",
      "\n",
      "   PAYMENTS  MINIMUM_PAYMENTS  PRC_FULL_PAYMENT    TENURE  \n",
      "0 -0.557117         -0.443503         -0.465311  0.282288  \n",
      "1  0.360394         -0.086116          0.331426  0.282288  \n",
      "2 : 0.30752815304560793\n",
      "3 : 0.19636128772937608\n",
      "4 : 0.20715098494639908\n",
      "5 : 0.1927405614448325\n"
     ]
    }
   ],
   "source": [
    "# 2번 문제\n",
    "\n",
    "df4=df.copy()\n",
    "df4=df4.drop(['CUST_ID'],axis=1)\n",
    "for col in df4.columns.tolist():\n",
    "    df4[col]= (df[col] - df[col].mean()) / df[col].std()\n",
    "\n",
    "print(df4.head(2))\n",
    "\n",
    "from sklearn.cluster import KMeans\n",
    "from sklearn.metrics import silhouette_samples, silhouette_score\n",
    "\n",
    "for n_cluster in [2,3,4,5]:\n",
    "    cluster = KMeans(n_clusters=n_cluster, random_state=1234)\n",
    "    cluster_labels = cluster.fit_predict(df4)\n",
    "    silhouette_avg = silhouette_score(df4, cluster_labels)\n",
    "    print(n_cluster, ':',silhouette_avg)"
   ],
   "metadata": {
    "collapsed": false
   }
  },
  {
   "cell_type": "code",
   "execution_count": 16,
   "outputs": [
    {
     "data": {
      "text/plain": "    BALANCE  BALANCE_FREQUENCY  PURCHASES  ONEOFF_PURCHASES  \\\n0 -0.848768          -0.419879  -0.441936         -0.374048   \n1  0.282791           0.012131  -0.469017         -0.374048   \n\n   INSTALLMENTS_PURCHASES  CASH_ADVANCE  PURCHASES_FREQUENCY  \\\n0               -0.395301     -0.482354            -0.872701   \n1               -0.470304      1.878468            -1.282558   \n\n   ONEOFF_PURCHASES_FREQUENCY  PURCHASES_INSTALLMENTS_FREQUENCY  \\\n0                   -0.804321                         -0.719620   \n1                   -0.804321                         -0.924403   \n\n   CASH_ADVANCE_FREQUENCY  CASH_ADVANCE_TRX  PURCHASES_TRX  CREDIT_LIMIT  \\\n0               -0.684701         -0.457918      -0.564116     -1.161669   \n1                0.513493          0.065417      -0.628057      0.150025   \n\n   PAYMENTS  MINIMUM_PAYMENTS  PRC_FULL_PAYMENT    TENURE  \n0 -0.557396         -0.443725         -0.465544  0.282429  \n1  0.360574         -0.086159          0.331592  0.282429  ",
      "text/html": "<div>\n<style scoped>\n    .dataframe tbody tr th:only-of-type {\n        vertical-align: middle;\n    }\n\n    .dataframe tbody tr th {\n        vertical-align: top;\n    }\n\n    .dataframe thead th {\n        text-align: right;\n    }\n</style>\n<table border=\"1\" class=\"dataframe\">\n  <thead>\n    <tr style=\"text-align: right;\">\n      <th></th>\n      <th>BALANCE</th>\n      <th>BALANCE_FREQUENCY</th>\n      <th>PURCHASES</th>\n      <th>ONEOFF_PURCHASES</th>\n      <th>INSTALLMENTS_PURCHASES</th>\n      <th>CASH_ADVANCE</th>\n      <th>PURCHASES_FREQUENCY</th>\n      <th>ONEOFF_PURCHASES_FREQUENCY</th>\n      <th>PURCHASES_INSTALLMENTS_FREQUENCY</th>\n      <th>CASH_ADVANCE_FREQUENCY</th>\n      <th>CASH_ADVANCE_TRX</th>\n      <th>PURCHASES_TRX</th>\n      <th>CREDIT_LIMIT</th>\n      <th>PAYMENTS</th>\n      <th>MINIMUM_PAYMENTS</th>\n      <th>PRC_FULL_PAYMENT</th>\n      <th>TENURE</th>\n    </tr>\n  </thead>\n  <tbody>\n    <tr>\n      <th>0</th>\n      <td>-0.848768</td>\n      <td>-0.419879</td>\n      <td>-0.441936</td>\n      <td>-0.374048</td>\n      <td>-0.395301</td>\n      <td>-0.482354</td>\n      <td>-0.872701</td>\n      <td>-0.804321</td>\n      <td>-0.719620</td>\n      <td>-0.684701</td>\n      <td>-0.457918</td>\n      <td>-0.564116</td>\n      <td>-1.161669</td>\n      <td>-0.557396</td>\n      <td>-0.443725</td>\n      <td>-0.465544</td>\n      <td>0.282429</td>\n    </tr>\n    <tr>\n      <th>1</th>\n      <td>0.282791</td>\n      <td>0.012131</td>\n      <td>-0.469017</td>\n      <td>-0.374048</td>\n      <td>-0.470304</td>\n      <td>1.878468</td>\n      <td>-1.282558</td>\n      <td>-0.804321</td>\n      <td>-0.924403</td>\n      <td>0.513493</td>\n      <td>0.065417</td>\n      <td>-0.628057</td>\n      <td>0.150025</td>\n      <td>0.360574</td>\n      <td>-0.086159</td>\n      <td>0.331592</td>\n      <td>0.282429</td>\n    </tr>\n  </tbody>\n</table>\n</div>"
     },
     "execution_count": 16,
     "metadata": {},
     "output_type": "execute_result"
    }
   ],
   "source": [
    "from sklearn.preprocessing import StandardScaler\n",
    "\n",
    "scaler = StandardScaler()\n",
    "scaler.fit(df4)\n",
    "pd.DataFrame(scaler.transform(df4), columns=df4.columns).head(2)"
   ],
   "metadata": {
    "collapsed": false
   }
  },
  {
   "cell_type": "code",
   "execution_count": 18,
   "outputs": [
    {
     "data": {
      "text/plain": "3946.187525252525"
     },
     "execution_count": 18,
     "metadata": {},
     "output_type": "execute_result"
    }
   ],
   "source": [
    "# 위에 따라 clsuter = 2를 선택\n",
    "\n",
    "cluster = KMeans(n_clusters=2, random_state=1234)\n",
    "df['label'] = cluster.fit_predict(df4)\n",
    "answer=df.groupby(by='label').mean()['ONEOFF_PURCHASES'].max()\n",
    "answer"
   ],
   "metadata": {
    "collapsed": false
   }
  },
  {
   "cell_type": "code",
   "execution_count": 19,
   "outputs": [
    {
     "name": "stdout",
     "output_type": "stream",
     "text": [
      "13536 4464\n"
     ]
    },
    {
     "name": "stderr",
     "output_type": "stream",
     "text": [
      "C:\\Users\\Lee\\AppData\\Local\\Temp\\ipykernel_8992\\2469323490.py:13: SettingWithCopyWarning: \n",
      "A value is trying to be set on a copy of a slice from a DataFrame.\n",
      "Try using .loc[row_indexer,col_indexer] = value instead\n",
      "\n",
      "See the caveats in the documentation: https://pandas.pydata.org/pandas-docs/stable/user_guide/indexing.html#returning-a-view-versus-a-copy\n",
      "  df_test['predict']=clf.predict(df_test.drop(['CUST_ID', 'ONEOFF_PURCHASES'], axis=1))\n"
     ]
    },
    {
     "data": {
      "text/plain": "2316.0072386657453"
     },
     "execution_count": 19,
     "metadata": {},
     "output_type": "execute_result"
    }
   ],
   "source": [
    "# 3번 문제\n",
    "\n",
    "from sklearn import tree\n",
    "df=df.drop(['label'],axis=1)\n",
    "\n",
    "df_train=df[df['CUST_ID']%4!=0]\n",
    "df_test=df[df['CUST_ID']%4==0]\n",
    "\n",
    "print(df_train.size, df_test.size)\n",
    "\n",
    "clf = tree.DecisionTreeRegressor(max_depth=5, random_state=1234)\n",
    "dlf = clf.fit(df_train.drop(['CUST_ID', 'ONEOFF_PURCHASES'],axis=1),df_train['ONEOFF_PURCHASES'])\n",
    "df_test['predict']=clf.predict(df_test.drop(['CUST_ID', 'ONEOFF_PURCHASES'], axis=1))\n",
    "\n",
    "answer = ( ( (df_test['ONEOFF_PURCHASES']-df_test['predict']) ** 2).mean() ) ** (1/2)\n",
    "answer\n",
    "answer = ( ( (df_test['ONEOFF_PURCHASES']-df_test['predict']) ** 2).mean() ) ** (1/2)\n",
    "answer"
   ],
   "metadata": {
    "collapsed": false
   }
  },
  {
   "cell_type": "code",
   "execution_count": null,
   "outputs": [],
   "source": [],
   "metadata": {
    "collapsed": false
   }
  }
 ],
 "metadata": {
  "kernelspec": {
   "display_name": "Python 3",
   "language": "python",
   "name": "python3"
  },
  "language_info": {
   "codemirror_mode": {
    "name": "ipython",
    "version": 2
   },
   "file_extension": ".py",
   "mimetype": "text/x-python",
   "name": "python",
   "nbconvert_exporter": "python",
   "pygments_lexer": "ipython2",
   "version": "2.7.6"
  }
 },
 "nbformat": 4,
 "nbformat_minor": 0
}
