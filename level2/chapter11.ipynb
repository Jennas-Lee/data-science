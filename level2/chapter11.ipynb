{
 "cells": [
  {
   "cell_type": "markdown",
   "source": [
    "# 상관 분석"
   ],
   "metadata": {
    "collapsed": false
   }
  },
  {
   "cell_type": "code",
   "execution_count": 1,
   "metadata": {
    "collapsed": true
   },
   "outputs": [],
   "source": [
    "import pandas as pd\n",
    "from scipy.stats import pearsonr, spearmanr, kendalltau"
   ]
  },
  {
   "cell_type": "code",
   "execution_count": 2,
   "outputs": [
    {
     "data": {
      "text/plain": "              datetime  season  holiday  workingday  weather  temp   atemp  \\\n0  2011-01-01 00:00:00       1        0           0        1  9.84  14.395   \n1  2011-01-01 01:00:00       1        0           0        1  9.02  13.635   \n\n   humidity  windspeed  casual  registered  count  \n0        81        0.0       3          13     16  \n1        80        0.0       8          32     40  ",
      "text/html": "<div>\n<style scoped>\n    .dataframe tbody tr th:only-of-type {\n        vertical-align: middle;\n    }\n\n    .dataframe tbody tr th {\n        vertical-align: top;\n    }\n\n    .dataframe thead th {\n        text-align: right;\n    }\n</style>\n<table border=\"1\" class=\"dataframe\">\n  <thead>\n    <tr style=\"text-align: right;\">\n      <th></th>\n      <th>datetime</th>\n      <th>season</th>\n      <th>holiday</th>\n      <th>workingday</th>\n      <th>weather</th>\n      <th>temp</th>\n      <th>atemp</th>\n      <th>humidity</th>\n      <th>windspeed</th>\n      <th>casual</th>\n      <th>registered</th>\n      <th>count</th>\n    </tr>\n  </thead>\n  <tbody>\n    <tr>\n      <th>0</th>\n      <td>2011-01-01 00:00:00</td>\n      <td>1</td>\n      <td>0</td>\n      <td>0</td>\n      <td>1</td>\n      <td>9.84</td>\n      <td>14.395</td>\n      <td>81</td>\n      <td>0.0</td>\n      <td>3</td>\n      <td>13</td>\n      <td>16</td>\n    </tr>\n    <tr>\n      <th>1</th>\n      <td>2011-01-01 01:00:00</td>\n      <td>1</td>\n      <td>0</td>\n      <td>0</td>\n      <td>1</td>\n      <td>9.02</td>\n      <td>13.635</td>\n      <td>80</td>\n      <td>0.0</td>\n      <td>8</td>\n      <td>32</td>\n      <td>40</td>\n    </tr>\n  </tbody>\n</table>\n</div>"
     },
     "execution_count": 2,
     "metadata": {},
     "output_type": "execute_result"
    }
   ],
   "source": [
    "df = pd.read_csv('../datasets/bike.csv')\n",
    "df.head(2)"
   ],
   "metadata": {
    "collapsed": false
   }
  },
  {
   "cell_type": "code",
   "execution_count": 4,
   "outputs": [
    {
     "name": "stderr",
     "output_type": "stream",
     "text": [
      "C:\\Users\\Lee\\AppData\\Local\\Temp\\ipykernel_19152\\1134722465.py:1: FutureWarning: The default value of numeric_only in DataFrame.corr is deprecated. In a future version, it will default to False. Select only valid columns or specify the value of numeric_only to silence this warning.\n",
      "  df.corr()\n"
     ]
    },
    {
     "data": {
      "text/plain": "              season   holiday  workingday   weather      temp     atemp  \\\nseason      1.000000  0.029368   -0.008126  0.008879  0.258689  0.264744   \nholiday     0.029368  1.000000   -0.250491 -0.007074  0.000295 -0.005215   \nworkingday -0.008126 -0.250491    1.000000  0.033772  0.029966  0.024660   \nweather     0.008879 -0.007074    0.033772  1.000000 -0.055035 -0.055376   \ntemp        0.258689  0.000295    0.029966 -0.055035  1.000000  0.984948   \natemp       0.264744 -0.005215    0.024660 -0.055376  0.984948  1.000000   \nhumidity    0.190610  0.001929   -0.010880  0.406244 -0.064949 -0.043536   \nwindspeed  -0.147121  0.008409    0.013373  0.007261 -0.017852 -0.057473   \ncasual      0.096758  0.043799   -0.319111 -0.135918  0.467097  0.462067   \nregistered  0.164011 -0.020956    0.119460 -0.109340  0.318571  0.314635   \ncount       0.163439 -0.005393    0.011594 -0.128655  0.394454  0.389784   \n\n            humidity  windspeed    casual  registered     count  \nseason      0.190610  -0.147121  0.096758    0.164011  0.163439  \nholiday     0.001929   0.008409  0.043799   -0.020956 -0.005393  \nworkingday -0.010880   0.013373 -0.319111    0.119460  0.011594  \nweather     0.406244   0.007261 -0.135918   -0.109340 -0.128655  \ntemp       -0.064949  -0.017852  0.467097    0.318571  0.394454  \natemp      -0.043536  -0.057473  0.462067    0.314635  0.389784  \nhumidity    1.000000  -0.318607 -0.348187   -0.265458 -0.317371  \nwindspeed  -0.318607   1.000000  0.092276    0.091052  0.101369  \ncasual     -0.348187   0.092276  1.000000    0.497250  0.690414  \nregistered -0.265458   0.091052  0.497250    1.000000  0.970948  \ncount      -0.317371   0.101369  0.690414    0.970948  1.000000  ",
      "text/html": "<div>\n<style scoped>\n    .dataframe tbody tr th:only-of-type {\n        vertical-align: middle;\n    }\n\n    .dataframe tbody tr th {\n        vertical-align: top;\n    }\n\n    .dataframe thead th {\n        text-align: right;\n    }\n</style>\n<table border=\"1\" class=\"dataframe\">\n  <thead>\n    <tr style=\"text-align: right;\">\n      <th></th>\n      <th>season</th>\n      <th>holiday</th>\n      <th>workingday</th>\n      <th>weather</th>\n      <th>temp</th>\n      <th>atemp</th>\n      <th>humidity</th>\n      <th>windspeed</th>\n      <th>casual</th>\n      <th>registered</th>\n      <th>count</th>\n    </tr>\n  </thead>\n  <tbody>\n    <tr>\n      <th>season</th>\n      <td>1.000000</td>\n      <td>0.029368</td>\n      <td>-0.008126</td>\n      <td>0.008879</td>\n      <td>0.258689</td>\n      <td>0.264744</td>\n      <td>0.190610</td>\n      <td>-0.147121</td>\n      <td>0.096758</td>\n      <td>0.164011</td>\n      <td>0.163439</td>\n    </tr>\n    <tr>\n      <th>holiday</th>\n      <td>0.029368</td>\n      <td>1.000000</td>\n      <td>-0.250491</td>\n      <td>-0.007074</td>\n      <td>0.000295</td>\n      <td>-0.005215</td>\n      <td>0.001929</td>\n      <td>0.008409</td>\n      <td>0.043799</td>\n      <td>-0.020956</td>\n      <td>-0.005393</td>\n    </tr>\n    <tr>\n      <th>workingday</th>\n      <td>-0.008126</td>\n      <td>-0.250491</td>\n      <td>1.000000</td>\n      <td>0.033772</td>\n      <td>0.029966</td>\n      <td>0.024660</td>\n      <td>-0.010880</td>\n      <td>0.013373</td>\n      <td>-0.319111</td>\n      <td>0.119460</td>\n      <td>0.011594</td>\n    </tr>\n    <tr>\n      <th>weather</th>\n      <td>0.008879</td>\n      <td>-0.007074</td>\n      <td>0.033772</td>\n      <td>1.000000</td>\n      <td>-0.055035</td>\n      <td>-0.055376</td>\n      <td>0.406244</td>\n      <td>0.007261</td>\n      <td>-0.135918</td>\n      <td>-0.109340</td>\n      <td>-0.128655</td>\n    </tr>\n    <tr>\n      <th>temp</th>\n      <td>0.258689</td>\n      <td>0.000295</td>\n      <td>0.029966</td>\n      <td>-0.055035</td>\n      <td>1.000000</td>\n      <td>0.984948</td>\n      <td>-0.064949</td>\n      <td>-0.017852</td>\n      <td>0.467097</td>\n      <td>0.318571</td>\n      <td>0.394454</td>\n    </tr>\n    <tr>\n      <th>atemp</th>\n      <td>0.264744</td>\n      <td>-0.005215</td>\n      <td>0.024660</td>\n      <td>-0.055376</td>\n      <td>0.984948</td>\n      <td>1.000000</td>\n      <td>-0.043536</td>\n      <td>-0.057473</td>\n      <td>0.462067</td>\n      <td>0.314635</td>\n      <td>0.389784</td>\n    </tr>\n    <tr>\n      <th>humidity</th>\n      <td>0.190610</td>\n      <td>0.001929</td>\n      <td>-0.010880</td>\n      <td>0.406244</td>\n      <td>-0.064949</td>\n      <td>-0.043536</td>\n      <td>1.000000</td>\n      <td>-0.318607</td>\n      <td>-0.348187</td>\n      <td>-0.265458</td>\n      <td>-0.317371</td>\n    </tr>\n    <tr>\n      <th>windspeed</th>\n      <td>-0.147121</td>\n      <td>0.008409</td>\n      <td>0.013373</td>\n      <td>0.007261</td>\n      <td>-0.017852</td>\n      <td>-0.057473</td>\n      <td>-0.318607</td>\n      <td>1.000000</td>\n      <td>0.092276</td>\n      <td>0.091052</td>\n      <td>0.101369</td>\n    </tr>\n    <tr>\n      <th>casual</th>\n      <td>0.096758</td>\n      <td>0.043799</td>\n      <td>-0.319111</td>\n      <td>-0.135918</td>\n      <td>0.467097</td>\n      <td>0.462067</td>\n      <td>-0.348187</td>\n      <td>0.092276</td>\n      <td>1.000000</td>\n      <td>0.497250</td>\n      <td>0.690414</td>\n    </tr>\n    <tr>\n      <th>registered</th>\n      <td>0.164011</td>\n      <td>-0.020956</td>\n      <td>0.119460</td>\n      <td>-0.109340</td>\n      <td>0.318571</td>\n      <td>0.314635</td>\n      <td>-0.265458</td>\n      <td>0.091052</td>\n      <td>0.497250</td>\n      <td>1.000000</td>\n      <td>0.970948</td>\n    </tr>\n    <tr>\n      <th>count</th>\n      <td>0.163439</td>\n      <td>-0.005393</td>\n      <td>0.011594</td>\n      <td>-0.128655</td>\n      <td>0.394454</td>\n      <td>0.389784</td>\n      <td>-0.317371</td>\n      <td>0.101369</td>\n      <td>0.690414</td>\n      <td>0.970948</td>\n      <td>1.000000</td>\n    </tr>\n  </tbody>\n</table>\n</div>"
     },
     "execution_count": 4,
     "metadata": {},
     "output_type": "execute_result"
    }
   ],
   "source": [
    "df.corr()"
   ],
   "metadata": {
    "collapsed": false
   }
  },
  {
   "cell_type": "code",
   "execution_count": 5,
   "outputs": [
    {
     "data": {
      "text/plain": "              casual  registered     count\ncasual      1.000000    0.497250  0.690414\nregistered  0.497250    1.000000  0.970948\ncount       0.690414    0.970948  1.000000",
      "text/html": "<div>\n<style scoped>\n    .dataframe tbody tr th:only-of-type {\n        vertical-align: middle;\n    }\n\n    .dataframe tbody tr th {\n        vertical-align: top;\n    }\n\n    .dataframe thead th {\n        text-align: right;\n    }\n</style>\n<table border=\"1\" class=\"dataframe\">\n  <thead>\n    <tr style=\"text-align: right;\">\n      <th></th>\n      <th>casual</th>\n      <th>registered</th>\n      <th>count</th>\n    </tr>\n  </thead>\n  <tbody>\n    <tr>\n      <th>casual</th>\n      <td>1.000000</td>\n      <td>0.497250</td>\n      <td>0.690414</td>\n    </tr>\n    <tr>\n      <th>registered</th>\n      <td>0.497250</td>\n      <td>1.000000</td>\n      <td>0.970948</td>\n    </tr>\n    <tr>\n      <th>count</th>\n      <td>0.690414</td>\n      <td>0.970948</td>\n      <td>1.000000</td>\n    </tr>\n  </tbody>\n</table>\n</div>"
     },
     "execution_count": 5,
     "metadata": {},
     "output_type": "execute_result"
    }
   ],
   "source": [
    "df[[\"casual\", \"registered\", \"count\"]].corr()"
   ],
   "metadata": {
    "collapsed": false
   }
  },
  {
   "cell_type": "code",
   "execution_count": 6,
   "outputs": [
    {
     "data": {
      "text/plain": "              casual  registered     count\ncasual      1.000000    0.582213  0.666411\nregistered  0.582213    1.000000  0.919346\ncount       0.666411    0.919346  1.000000",
      "text/html": "<div>\n<style scoped>\n    .dataframe tbody tr th:only-of-type {\n        vertical-align: middle;\n    }\n\n    .dataframe tbody tr th {\n        vertical-align: top;\n    }\n\n    .dataframe thead th {\n        text-align: right;\n    }\n</style>\n<table border=\"1\" class=\"dataframe\">\n  <thead>\n    <tr style=\"text-align: right;\">\n      <th></th>\n      <th>casual</th>\n      <th>registered</th>\n      <th>count</th>\n    </tr>\n  </thead>\n  <tbody>\n    <tr>\n      <th>casual</th>\n      <td>1.000000</td>\n      <td>0.582213</td>\n      <td>0.666411</td>\n    </tr>\n    <tr>\n      <th>registered</th>\n      <td>0.582213</td>\n      <td>1.000000</td>\n      <td>0.919346</td>\n    </tr>\n    <tr>\n      <th>count</th>\n      <td>0.666411</td>\n      <td>0.919346</td>\n      <td>1.000000</td>\n    </tr>\n  </tbody>\n</table>\n</div>"
     },
     "execution_count": 6,
     "metadata": {},
     "output_type": "execute_result"
    }
   ],
   "source": [
    "df[[\"casual\", \"registered\", \"count\"]].corr(method='kendall')"
   ],
   "metadata": {
    "collapsed": false
   }
  },
  {
   "cell_type": "code",
   "execution_count": 7,
   "outputs": [
    {
     "data": {
      "text/plain": "              casual  registered     count\ncasual      1.000000    0.775785  0.847378\nregistered  0.775785    1.000000  0.988901\ncount       0.847378    0.988901  1.000000",
      "text/html": "<div>\n<style scoped>\n    .dataframe tbody tr th:only-of-type {\n        vertical-align: middle;\n    }\n\n    .dataframe tbody tr th {\n        vertical-align: top;\n    }\n\n    .dataframe thead th {\n        text-align: right;\n    }\n</style>\n<table border=\"1\" class=\"dataframe\">\n  <thead>\n    <tr style=\"text-align: right;\">\n      <th></th>\n      <th>casual</th>\n      <th>registered</th>\n      <th>count</th>\n    </tr>\n  </thead>\n  <tbody>\n    <tr>\n      <th>casual</th>\n      <td>1.000000</td>\n      <td>0.775785</td>\n      <td>0.847378</td>\n    </tr>\n    <tr>\n      <th>registered</th>\n      <td>0.775785</td>\n      <td>1.000000</td>\n      <td>0.988901</td>\n    </tr>\n    <tr>\n      <th>count</th>\n      <td>0.847378</td>\n      <td>0.988901</td>\n      <td>1.000000</td>\n    </tr>\n  </tbody>\n</table>\n</div>"
     },
     "execution_count": 7,
     "metadata": {},
     "output_type": "execute_result"
    }
   ],
   "source": [
    "df[[\"casual\", \"registered\", \"count\"]].corr(method='spearman')"
   ],
   "metadata": {
    "collapsed": false
   }
  },
  {
   "cell_type": "code",
   "execution_count": 8,
   "outputs": [
    {
     "data": {
      "text/plain": "PearsonRResult(statistic=0.49724968508700834, pvalue=0.0)"
     },
     "execution_count": 8,
     "metadata": {},
     "output_type": "execute_result"
    }
   ],
   "source": [
    "pearsonr(df[\"casual\"], df[\"registered\"])"
   ],
   "metadata": {
    "collapsed": false
   }
  },
  {
   "cell_type": "code",
   "execution_count": 9,
   "outputs": [
    {
     "name": "stdout",
     "output_type": "stream",
     "text": [
      "0.49724968508700834\n",
      "0.0\n"
     ]
    }
   ],
   "source": [
    "stat, p = pearsonr(df[\"casual\"], df[\"registered\"])\n",
    "print(stat)\n",
    "print(p)"
   ],
   "metadata": {
    "collapsed": false
   }
  },
  {
   "cell_type": "markdown",
   "source": [
    "### 1. 기온, 체감온도, 상대습도, 총 자전거 대여 숫자의 상관관계를 분석하였을 때 가장 낮은 상관계수는 얼마인가?\n",
    "\n",
    "bike.csv 파일 사용\n",
    "데이터 속성에 맞는 적절한 상관분석 기법 사용\n",
    "자전거 대여 숫자는 `casual` 변수를 사용\n",
    "\n",
    "1. -0.04\n",
    "2. -0.35\n",
    "3. -0.31\n",
    "4. -0.24"
   ],
   "metadata": {
    "collapsed": false
   }
  },
  {
   "cell_type": "code",
   "execution_count": 10,
   "outputs": [
    {
     "data": {
      "text/plain": "              datetime  season  holiday  workingday  weather  temp   atemp  \\\n0  2011-01-01 00:00:00       1        0           0        1  9.84  14.395   \n1  2011-01-01 01:00:00       1        0           0        1  9.02  13.635   \n2  2011-01-01 02:00:00       1        0           0        1  9.02  13.635   \n3  2011-01-01 03:00:00       1        0           0        1  9.84  14.395   \n4  2011-01-01 04:00:00       1        0           0        1  9.84  14.395   \n\n   humidity  windspeed  casual  registered  count  \n0        81        0.0       3          13     16  \n1        80        0.0       8          32     40  \n2        80        0.0       5          27     32  \n3        75        0.0       3          10     13  \n4        75        0.0       0           1      1  ",
      "text/html": "<div>\n<style scoped>\n    .dataframe tbody tr th:only-of-type {\n        vertical-align: middle;\n    }\n\n    .dataframe tbody tr th {\n        vertical-align: top;\n    }\n\n    .dataframe thead th {\n        text-align: right;\n    }\n</style>\n<table border=\"1\" class=\"dataframe\">\n  <thead>\n    <tr style=\"text-align: right;\">\n      <th></th>\n      <th>datetime</th>\n      <th>season</th>\n      <th>holiday</th>\n      <th>workingday</th>\n      <th>weather</th>\n      <th>temp</th>\n      <th>atemp</th>\n      <th>humidity</th>\n      <th>windspeed</th>\n      <th>casual</th>\n      <th>registered</th>\n      <th>count</th>\n    </tr>\n  </thead>\n  <tbody>\n    <tr>\n      <th>0</th>\n      <td>2011-01-01 00:00:00</td>\n      <td>1</td>\n      <td>0</td>\n      <td>0</td>\n      <td>1</td>\n      <td>9.84</td>\n      <td>14.395</td>\n      <td>81</td>\n      <td>0.0</td>\n      <td>3</td>\n      <td>13</td>\n      <td>16</td>\n    </tr>\n    <tr>\n      <th>1</th>\n      <td>2011-01-01 01:00:00</td>\n      <td>1</td>\n      <td>0</td>\n      <td>0</td>\n      <td>1</td>\n      <td>9.02</td>\n      <td>13.635</td>\n      <td>80</td>\n      <td>0.0</td>\n      <td>8</td>\n      <td>32</td>\n      <td>40</td>\n    </tr>\n    <tr>\n      <th>2</th>\n      <td>2011-01-01 02:00:00</td>\n      <td>1</td>\n      <td>0</td>\n      <td>0</td>\n      <td>1</td>\n      <td>9.02</td>\n      <td>13.635</td>\n      <td>80</td>\n      <td>0.0</td>\n      <td>5</td>\n      <td>27</td>\n      <td>32</td>\n    </tr>\n    <tr>\n      <th>3</th>\n      <td>2011-01-01 03:00:00</td>\n      <td>1</td>\n      <td>0</td>\n      <td>0</td>\n      <td>1</td>\n      <td>9.84</td>\n      <td>14.395</td>\n      <td>75</td>\n      <td>0.0</td>\n      <td>3</td>\n      <td>10</td>\n      <td>13</td>\n    </tr>\n    <tr>\n      <th>4</th>\n      <td>2011-01-01 04:00:00</td>\n      <td>1</td>\n      <td>0</td>\n      <td>0</td>\n      <td>1</td>\n      <td>9.84</td>\n      <td>14.395</td>\n      <td>75</td>\n      <td>0.0</td>\n      <td>0</td>\n      <td>1</td>\n      <td>1</td>\n    </tr>\n  </tbody>\n</table>\n</div>"
     },
     "execution_count": 10,
     "metadata": {},
     "output_type": "execute_result"
    }
   ],
   "source": [
    "df.head()"
   ],
   "metadata": {
    "collapsed": false
   }
  },
  {
   "cell_type": "code",
   "execution_count": 12,
   "outputs": [
    {
     "data": {
      "text/plain": "              temp     atemp  humidity    casual\ntemp      1.000000  0.984948 -0.064949  0.467097\natemp     0.984948  1.000000 -0.043536  0.462067\nhumidity -0.064949 -0.043536  1.000000 -0.348187\ncasual    0.467097  0.462067 -0.348187  1.000000",
      "text/html": "<div>\n<style scoped>\n    .dataframe tbody tr th:only-of-type {\n        vertical-align: middle;\n    }\n\n    .dataframe tbody tr th {\n        vertical-align: top;\n    }\n\n    .dataframe thead th {\n        text-align: right;\n    }\n</style>\n<table border=\"1\" class=\"dataframe\">\n  <thead>\n    <tr style=\"text-align: right;\">\n      <th></th>\n      <th>temp</th>\n      <th>atemp</th>\n      <th>humidity</th>\n      <th>casual</th>\n    </tr>\n  </thead>\n  <tbody>\n    <tr>\n      <th>temp</th>\n      <td>1.000000</td>\n      <td>0.984948</td>\n      <td>-0.064949</td>\n      <td>0.467097</td>\n    </tr>\n    <tr>\n      <th>atemp</th>\n      <td>0.984948</td>\n      <td>1.000000</td>\n      <td>-0.043536</td>\n      <td>0.462067</td>\n    </tr>\n    <tr>\n      <th>humidity</th>\n      <td>-0.064949</td>\n      <td>-0.043536</td>\n      <td>1.000000</td>\n      <td>-0.348187</td>\n    </tr>\n    <tr>\n      <th>casual</th>\n      <td>0.467097</td>\n      <td>0.462067</td>\n      <td>-0.348187</td>\n      <td>1.000000</td>\n    </tr>\n  </tbody>\n</table>\n</div>"
     },
     "execution_count": 12,
     "metadata": {},
     "output_type": "execute_result"
    }
   ],
   "source": [
    "# temp : 기온, atemp : 체감온도, humidity : 상대습도, casual: 자전거 대여 숫자\n",
    "df[[\"temp\", \"atemp\", \"humidity\", \"casual\"]].corr()\n",
    "\n",
    "# -(마이너스)에서는 값이 클 수록 낮은 것이기 때문에 -0.34 < -0.04임"
   ],
   "metadata": {
    "collapsed": false
   }
  },
  {
   "cell_type": "code",
   "execution_count": 13,
   "outputs": [
    {
     "data": {
      "text/plain": "          temp  atemp  humidity  casual\ntemp      1.00   0.98     -0.06    0.47\natemp     0.98   1.00     -0.04    0.46\nhumidity -0.06  -0.04      1.00   -0.35\ncasual    0.47   0.46     -0.35    1.00",
      "text/html": "<div>\n<style scoped>\n    .dataframe tbody tr th:only-of-type {\n        vertical-align: middle;\n    }\n\n    .dataframe tbody tr th {\n        vertical-align: top;\n    }\n\n    .dataframe thead th {\n        text-align: right;\n    }\n</style>\n<table border=\"1\" class=\"dataframe\">\n  <thead>\n    <tr style=\"text-align: right;\">\n      <th></th>\n      <th>temp</th>\n      <th>atemp</th>\n      <th>humidity</th>\n      <th>casual</th>\n    </tr>\n  </thead>\n  <tbody>\n    <tr>\n      <th>temp</th>\n      <td>1.00</td>\n      <td>0.98</td>\n      <td>-0.06</td>\n      <td>0.47</td>\n    </tr>\n    <tr>\n      <th>atemp</th>\n      <td>0.98</td>\n      <td>1.00</td>\n      <td>-0.04</td>\n      <td>0.46</td>\n    </tr>\n    <tr>\n      <th>humidity</th>\n      <td>-0.06</td>\n      <td>-0.04</td>\n      <td>1.00</td>\n      <td>-0.35</td>\n    </tr>\n    <tr>\n      <th>casual</th>\n      <td>0.47</td>\n      <td>0.46</td>\n      <td>-0.35</td>\n      <td>1.00</td>\n    </tr>\n  </tbody>\n</table>\n</div>"
     },
     "execution_count": 13,
     "metadata": {},
     "output_type": "execute_result"
    }
   ],
   "source": [
    "df[[\"temp\", \"atemp\", \"humidity\", \"casual\"]].corr().round(2)"
   ],
   "metadata": {
    "collapsed": false
   }
  },
  {
   "cell_type": "markdown",
   "source": [
    "### 2. 계절별로 체감온도와 자전거 대여 숫자의 상관관계를 알아보고자 한다. 이 때 적절한 상관분석기법을 사용하였을 때 상관계수로 옳은 것은?\n",
    "\n",
    "bike.csv 파일 사용\n",
    "자전거 대여 숫자는 `casual` 변수를 사용\n",
    "\n",
    "1. 봄 : 0.444\n",
    "2. 여름 : 0.378\n",
    "3. 가을 : 0.382\n",
    "4. 겨울 : 0.478"
   ],
   "metadata": {
    "collapsed": false
   }
  },
  {
   "cell_type": "code",
   "execution_count": 14,
   "outputs": [
    {
     "data": {
      "text/plain": "              datetime  season  holiday  workingday  weather  temp   atemp  \\\n0  2011-01-01 00:00:00       1        0           0        1  9.84  14.395   \n1  2011-01-01 01:00:00       1        0           0        1  9.02  13.635   \n2  2011-01-01 02:00:00       1        0           0        1  9.02  13.635   \n3  2011-01-01 03:00:00       1        0           0        1  9.84  14.395   \n4  2011-01-01 04:00:00       1        0           0        1  9.84  14.395   \n\n   humidity  windspeed  casual  registered  count  \n0        81        0.0       3          13     16  \n1        80        0.0       8          32     40  \n2        80        0.0       5          27     32  \n3        75        0.0       3          10     13  \n4        75        0.0       0           1      1  ",
      "text/html": "<div>\n<style scoped>\n    .dataframe tbody tr th:only-of-type {\n        vertical-align: middle;\n    }\n\n    .dataframe tbody tr th {\n        vertical-align: top;\n    }\n\n    .dataframe thead th {\n        text-align: right;\n    }\n</style>\n<table border=\"1\" class=\"dataframe\">\n  <thead>\n    <tr style=\"text-align: right;\">\n      <th></th>\n      <th>datetime</th>\n      <th>season</th>\n      <th>holiday</th>\n      <th>workingday</th>\n      <th>weather</th>\n      <th>temp</th>\n      <th>atemp</th>\n      <th>humidity</th>\n      <th>windspeed</th>\n      <th>casual</th>\n      <th>registered</th>\n      <th>count</th>\n    </tr>\n  </thead>\n  <tbody>\n    <tr>\n      <th>0</th>\n      <td>2011-01-01 00:00:00</td>\n      <td>1</td>\n      <td>0</td>\n      <td>0</td>\n      <td>1</td>\n      <td>9.84</td>\n      <td>14.395</td>\n      <td>81</td>\n      <td>0.0</td>\n      <td>3</td>\n      <td>13</td>\n      <td>16</td>\n    </tr>\n    <tr>\n      <th>1</th>\n      <td>2011-01-01 01:00:00</td>\n      <td>1</td>\n      <td>0</td>\n      <td>0</td>\n      <td>1</td>\n      <td>9.02</td>\n      <td>13.635</td>\n      <td>80</td>\n      <td>0.0</td>\n      <td>8</td>\n      <td>32</td>\n      <td>40</td>\n    </tr>\n    <tr>\n      <th>2</th>\n      <td>2011-01-01 02:00:00</td>\n      <td>1</td>\n      <td>0</td>\n      <td>0</td>\n      <td>1</td>\n      <td>9.02</td>\n      <td>13.635</td>\n      <td>80</td>\n      <td>0.0</td>\n      <td>5</td>\n      <td>27</td>\n      <td>32</td>\n    </tr>\n    <tr>\n      <th>3</th>\n      <td>2011-01-01 03:00:00</td>\n      <td>1</td>\n      <td>0</td>\n      <td>0</td>\n      <td>1</td>\n      <td>9.84</td>\n      <td>14.395</td>\n      <td>75</td>\n      <td>0.0</td>\n      <td>3</td>\n      <td>10</td>\n      <td>13</td>\n    </tr>\n    <tr>\n      <th>4</th>\n      <td>2011-01-01 04:00:00</td>\n      <td>1</td>\n      <td>0</td>\n      <td>0</td>\n      <td>1</td>\n      <td>9.84</td>\n      <td>14.395</td>\n      <td>75</td>\n      <td>0.0</td>\n      <td>0</td>\n      <td>1</td>\n      <td>1</td>\n    </tr>\n  </tbody>\n</table>\n</div>"
     },
     "execution_count": 14,
     "metadata": {},
     "output_type": "execute_result"
    }
   ],
   "source": [
    "df.head()"
   ],
   "metadata": {
    "collapsed": false
   }
  },
  {
   "cell_type": "code",
   "execution_count": 24,
   "outputs": [
    {
     "data": {
      "text/plain": "               atemp  casual\nseason                      \n1      atemp   1.000   0.478\n       casual  0.478   1.000\n2      atemp   1.000   0.378\n       casual  0.378   1.000\n3      atemp   1.000   0.381\n       casual  0.381   1.000\n4      atemp   1.000   0.444\n       casual  0.444   1.000",
      "text/html": "<div>\n<style scoped>\n    .dataframe tbody tr th:only-of-type {\n        vertical-align: middle;\n    }\n\n    .dataframe tbody tr th {\n        vertical-align: top;\n    }\n\n    .dataframe thead th {\n        text-align: right;\n    }\n</style>\n<table border=\"1\" class=\"dataframe\">\n  <thead>\n    <tr style=\"text-align: right;\">\n      <th></th>\n      <th></th>\n      <th>atemp</th>\n      <th>casual</th>\n    </tr>\n    <tr>\n      <th>season</th>\n      <th></th>\n      <th></th>\n      <th></th>\n    </tr>\n  </thead>\n  <tbody>\n    <tr>\n      <th rowspan=\"2\" valign=\"top\">1</th>\n      <th>atemp</th>\n      <td>1.000</td>\n      <td>0.478</td>\n    </tr>\n    <tr>\n      <th>casual</th>\n      <td>0.478</td>\n      <td>1.000</td>\n    </tr>\n    <tr>\n      <th rowspan=\"2\" valign=\"top\">2</th>\n      <th>atemp</th>\n      <td>1.000</td>\n      <td>0.378</td>\n    </tr>\n    <tr>\n      <th>casual</th>\n      <td>0.378</td>\n      <td>1.000</td>\n    </tr>\n    <tr>\n      <th rowspan=\"2\" valign=\"top\">3</th>\n      <th>atemp</th>\n      <td>1.000</td>\n      <td>0.381</td>\n    </tr>\n    <tr>\n      <th>casual</th>\n      <td>0.381</td>\n      <td>1.000</td>\n    </tr>\n    <tr>\n      <th rowspan=\"2\" valign=\"top\">4</th>\n      <th>atemp</th>\n      <td>1.000</td>\n      <td>0.444</td>\n    </tr>\n    <tr>\n      <th>casual</th>\n      <td>0.444</td>\n      <td>1.000</td>\n    </tr>\n  </tbody>\n</table>\n</div>"
     },
     "execution_count": 24,
     "metadata": {},
     "output_type": "execute_result"
    }
   ],
   "source": [
    "df.groupby('season')[[\"atemp\", \"casual\"]].corr().round(3) # 그룹핑 한 후 필터링\n",
    "# df[[\"atemp\", \"casual\"]].groupby(\"season\").corr().round(3)   # 필터링 한 후 그룹핑"
   ],
   "metadata": {
    "collapsed": false
   }
  },
  {
   "cell_type": "code",
   "execution_count": 27,
   "outputs": [
    {
     "data": {
      "text/plain": "   season level_1  atemp  casual\n0       1   atemp  1.000   0.478\n1       1  casual  0.478   1.000\n2       2   atemp  1.000   0.378\n3       2  casual  0.378   1.000\n4       3   atemp  1.000   0.381\n5       3  casual  0.381   1.000\n6       4   atemp  1.000   0.444\n7       4  casual  0.444   1.000",
      "text/html": "<div>\n<style scoped>\n    .dataframe tbody tr th:only-of-type {\n        vertical-align: middle;\n    }\n\n    .dataframe tbody tr th {\n        vertical-align: top;\n    }\n\n    .dataframe thead th {\n        text-align: right;\n    }\n</style>\n<table border=\"1\" class=\"dataframe\">\n  <thead>\n    <tr style=\"text-align: right;\">\n      <th></th>\n      <th>season</th>\n      <th>level_1</th>\n      <th>atemp</th>\n      <th>casual</th>\n    </tr>\n  </thead>\n  <tbody>\n    <tr>\n      <th>0</th>\n      <td>1</td>\n      <td>atemp</td>\n      <td>1.000</td>\n      <td>0.478</td>\n    </tr>\n    <tr>\n      <th>1</th>\n      <td>1</td>\n      <td>casual</td>\n      <td>0.478</td>\n      <td>1.000</td>\n    </tr>\n    <tr>\n      <th>2</th>\n      <td>2</td>\n      <td>atemp</td>\n      <td>1.000</td>\n      <td>0.378</td>\n    </tr>\n    <tr>\n      <th>3</th>\n      <td>2</td>\n      <td>casual</td>\n      <td>0.378</td>\n      <td>1.000</td>\n    </tr>\n    <tr>\n      <th>4</th>\n      <td>3</td>\n      <td>atemp</td>\n      <td>1.000</td>\n      <td>0.381</td>\n    </tr>\n    <tr>\n      <th>5</th>\n      <td>3</td>\n      <td>casual</td>\n      <td>0.381</td>\n      <td>1.000</td>\n    </tr>\n    <tr>\n      <th>6</th>\n      <td>4</td>\n      <td>atemp</td>\n      <td>1.000</td>\n      <td>0.444</td>\n    </tr>\n    <tr>\n      <th>7</th>\n      <td>4</td>\n      <td>casual</td>\n      <td>0.444</td>\n      <td>1.000</td>\n    </tr>\n  </tbody>\n</table>\n</div>"
     },
     "execution_count": 27,
     "metadata": {},
     "output_type": "execute_result"
    }
   ],
   "source": [
    "df_corr = df.groupby('season')[[\"atemp\", \"casual\"]].corr().round(3)\n",
    "df_corr = df_corr.reset_index()\n",
    "df_corr"
   ],
   "metadata": {
    "collapsed": false
   }
  },
  {
   "cell_type": "code",
   "execution_count": 31,
   "outputs": [
    {
     "data": {
      "text/plain": "   season level_1  atemp  casual\n1       1  casual  0.478     1.0\n3       2  casual  0.378     1.0\n5       3  casual  0.381     1.0\n7       4  casual  0.444     1.0",
      "text/html": "<div>\n<style scoped>\n    .dataframe tbody tr th:only-of-type {\n        vertical-align: middle;\n    }\n\n    .dataframe tbody tr th {\n        vertical-align: top;\n    }\n\n    .dataframe thead th {\n        text-align: right;\n    }\n</style>\n<table border=\"1\" class=\"dataframe\">\n  <thead>\n    <tr style=\"text-align: right;\">\n      <th></th>\n      <th>season</th>\n      <th>level_1</th>\n      <th>atemp</th>\n      <th>casual</th>\n    </tr>\n  </thead>\n  <tbody>\n    <tr>\n      <th>1</th>\n      <td>1</td>\n      <td>casual</td>\n      <td>0.478</td>\n      <td>1.0</td>\n    </tr>\n    <tr>\n      <th>3</th>\n      <td>2</td>\n      <td>casual</td>\n      <td>0.378</td>\n      <td>1.0</td>\n    </tr>\n    <tr>\n      <th>5</th>\n      <td>3</td>\n      <td>casual</td>\n      <td>0.381</td>\n      <td>1.0</td>\n    </tr>\n    <tr>\n      <th>7</th>\n      <td>4</td>\n      <td>casual</td>\n      <td>0.444</td>\n      <td>1.0</td>\n    </tr>\n  </tbody>\n</table>\n</div>"
     },
     "execution_count": 31,
     "metadata": {},
     "output_type": "execute_result"
    }
   ],
   "source": [
    "df_corr = df_corr.loc[df_corr[\"atemp\"] < 1, ]\n",
    "df_corr"
   ],
   "metadata": {
    "collapsed": false
   }
  },
  {
   "cell_type": "markdown",
   "source": [
    "### 3. 날씨에 따른 기온과 자전거 대여의 상관계수 변화를 알아보고자 한다. 말씨가 맑은 날과 그렇지 않은 날의 상관계수 차이의 절대값은 얼마인가?\n",
    "\n",
    "bike.csv 파일 사용하며 weather 변수의 값이 1인 것이 맑은 날\n",
    "자전거 대여 숫자는 `casual` 변수를 사용\n",
    "\n",
    "1. 0.464\n",
    "2. 0.448\n",
    "3. 0.167\n",
    "4. 0.025"
   ],
   "metadata": {
    "collapsed": false
   }
  },
  {
   "cell_type": "code",
   "execution_count": 32,
   "outputs": [
    {
     "data": {
      "text/plain": "              datetime  season  holiday  workingday  weather  temp   atemp  \\\n0  2011-01-01 00:00:00       1        0           0        1  9.84  14.395   \n1  2011-01-01 01:00:00       1        0           0        1  9.02  13.635   \n2  2011-01-01 02:00:00       1        0           0        1  9.02  13.635   \n3  2011-01-01 03:00:00       1        0           0        1  9.84  14.395   \n4  2011-01-01 04:00:00       1        0           0        1  9.84  14.395   \n\n   humidity  windspeed  casual  registered  count  \n0        81        0.0       3          13     16  \n1        80        0.0       8          32     40  \n2        80        0.0       5          27     32  \n3        75        0.0       3          10     13  \n4        75        0.0       0           1      1  ",
      "text/html": "<div>\n<style scoped>\n    .dataframe tbody tr th:only-of-type {\n        vertical-align: middle;\n    }\n\n    .dataframe tbody tr th {\n        vertical-align: top;\n    }\n\n    .dataframe thead th {\n        text-align: right;\n    }\n</style>\n<table border=\"1\" class=\"dataframe\">\n  <thead>\n    <tr style=\"text-align: right;\">\n      <th></th>\n      <th>datetime</th>\n      <th>season</th>\n      <th>holiday</th>\n      <th>workingday</th>\n      <th>weather</th>\n      <th>temp</th>\n      <th>atemp</th>\n      <th>humidity</th>\n      <th>windspeed</th>\n      <th>casual</th>\n      <th>registered</th>\n      <th>count</th>\n    </tr>\n  </thead>\n  <tbody>\n    <tr>\n      <th>0</th>\n      <td>2011-01-01 00:00:00</td>\n      <td>1</td>\n      <td>0</td>\n      <td>0</td>\n      <td>1</td>\n      <td>9.84</td>\n      <td>14.395</td>\n      <td>81</td>\n      <td>0.0</td>\n      <td>3</td>\n      <td>13</td>\n      <td>16</td>\n    </tr>\n    <tr>\n      <th>1</th>\n      <td>2011-01-01 01:00:00</td>\n      <td>1</td>\n      <td>0</td>\n      <td>0</td>\n      <td>1</td>\n      <td>9.02</td>\n      <td>13.635</td>\n      <td>80</td>\n      <td>0.0</td>\n      <td>8</td>\n      <td>32</td>\n      <td>40</td>\n    </tr>\n    <tr>\n      <th>2</th>\n      <td>2011-01-01 02:00:00</td>\n      <td>1</td>\n      <td>0</td>\n      <td>0</td>\n      <td>1</td>\n      <td>9.02</td>\n      <td>13.635</td>\n      <td>80</td>\n      <td>0.0</td>\n      <td>5</td>\n      <td>27</td>\n      <td>32</td>\n    </tr>\n    <tr>\n      <th>3</th>\n      <td>2011-01-01 03:00:00</td>\n      <td>1</td>\n      <td>0</td>\n      <td>0</td>\n      <td>1</td>\n      <td>9.84</td>\n      <td>14.395</td>\n      <td>75</td>\n      <td>0.0</td>\n      <td>3</td>\n      <td>10</td>\n      <td>13</td>\n    </tr>\n    <tr>\n      <th>4</th>\n      <td>2011-01-01 04:00:00</td>\n      <td>1</td>\n      <td>0</td>\n      <td>0</td>\n      <td>1</td>\n      <td>9.84</td>\n      <td>14.395</td>\n      <td>75</td>\n      <td>0.0</td>\n      <td>0</td>\n      <td>1</td>\n      <td>1</td>\n    </tr>\n  </tbody>\n</table>\n</div>"
     },
     "execution_count": 32,
     "metadata": {},
     "output_type": "execute_result"
    }
   ],
   "source": [
    "df.head()"
   ],
   "metadata": {
    "collapsed": false
   }
  },
  {
   "cell_type": "code",
   "execution_count": 44,
   "outputs": [
    {
     "data": {
      "text/plain": "              datetime  season  holiday  workingday  weather  temp   atemp  \\\n0  2011-01-01 00:00:00       1        0           0        1  9.84  14.395   \n1  2011-01-01 01:00:00       1        0           0        1  9.02  13.635   \n\n   humidity  windspeed  casual  registered  count  is_sunny  \n0        81        0.0       3          13     16         1  \n1        80        0.0       8          32     40         1  ",
      "text/html": "<div>\n<style scoped>\n    .dataframe tbody tr th:only-of-type {\n        vertical-align: middle;\n    }\n\n    .dataframe tbody tr th {\n        vertical-align: top;\n    }\n\n    .dataframe thead th {\n        text-align: right;\n    }\n</style>\n<table border=\"1\" class=\"dataframe\">\n  <thead>\n    <tr style=\"text-align: right;\">\n      <th></th>\n      <th>datetime</th>\n      <th>season</th>\n      <th>holiday</th>\n      <th>workingday</th>\n      <th>weather</th>\n      <th>temp</th>\n      <th>atemp</th>\n      <th>humidity</th>\n      <th>windspeed</th>\n      <th>casual</th>\n      <th>registered</th>\n      <th>count</th>\n      <th>is_sunny</th>\n    </tr>\n  </thead>\n  <tbody>\n    <tr>\n      <th>0</th>\n      <td>2011-01-01 00:00:00</td>\n      <td>1</td>\n      <td>0</td>\n      <td>0</td>\n      <td>1</td>\n      <td>9.84</td>\n      <td>14.395</td>\n      <td>81</td>\n      <td>0.0</td>\n      <td>3</td>\n      <td>13</td>\n      <td>16</td>\n      <td>1</td>\n    </tr>\n    <tr>\n      <th>1</th>\n      <td>2011-01-01 01:00:00</td>\n      <td>1</td>\n      <td>0</td>\n      <td>0</td>\n      <td>1</td>\n      <td>9.02</td>\n      <td>13.635</td>\n      <td>80</td>\n      <td>0.0</td>\n      <td>8</td>\n      <td>32</td>\n      <td>40</td>\n      <td>1</td>\n    </tr>\n  </tbody>\n</table>\n</div>"
     },
     "execution_count": 44,
     "metadata": {},
     "output_type": "execute_result"
    }
   ],
   "source": [
    "df['is_sunny'] = (df['weather'] == 1) + 0\n",
    "df.head(2)"
   ],
   "metadata": {
    "collapsed": false
   }
  },
  {
   "cell_type": "code",
   "execution_count": 45,
   "outputs": [
    {
     "data": {
      "text/plain": "                     temp    casual\nis_sunny                           \n0        temp    1.000000  0.446361\n         casual  0.446361  1.000000\n1        temp    1.000000  0.471053\n         casual  0.471053  1.000000",
      "text/html": "<div>\n<style scoped>\n    .dataframe tbody tr th:only-of-type {\n        vertical-align: middle;\n    }\n\n    .dataframe tbody tr th {\n        vertical-align: top;\n    }\n\n    .dataframe thead th {\n        text-align: right;\n    }\n</style>\n<table border=\"1\" class=\"dataframe\">\n  <thead>\n    <tr style=\"text-align: right;\">\n      <th></th>\n      <th></th>\n      <th>temp</th>\n      <th>casual</th>\n    </tr>\n    <tr>\n      <th>is_sunny</th>\n      <th></th>\n      <th></th>\n      <th></th>\n    </tr>\n  </thead>\n  <tbody>\n    <tr>\n      <th rowspan=\"2\" valign=\"top\">0</th>\n      <th>temp</th>\n      <td>1.000000</td>\n      <td>0.446361</td>\n    </tr>\n    <tr>\n      <th>casual</th>\n      <td>0.446361</td>\n      <td>1.000000</td>\n    </tr>\n    <tr>\n      <th rowspan=\"2\" valign=\"top\">1</th>\n      <th>temp</th>\n      <td>1.000000</td>\n      <td>0.471053</td>\n    </tr>\n    <tr>\n      <th>casual</th>\n      <td>0.471053</td>\n      <td>1.000000</td>\n    </tr>\n  </tbody>\n</table>\n</div>"
     },
     "execution_count": 45,
     "metadata": {},
     "output_type": "execute_result"
    }
   ],
   "source": [
    "df_corr2 = df.groupby('is_sunny')[[\"temp\", \"casual\"]].corr()\n",
    "df_corr2"
   ],
   "metadata": {
    "collapsed": false
   }
  },
  {
   "cell_type": "code",
   "execution_count": 49,
   "outputs": [
    {
     "data": {
      "text/plain": "0.025"
     },
     "execution_count": 49,
     "metadata": {},
     "output_type": "execute_result"
    }
   ],
   "source": [
    "round(abs(df_corr2.iloc[1, 0] - df_corr2.iloc[3, 0]), 3)"
   ],
   "metadata": {
    "collapsed": false
   }
  }
 ],
 "metadata": {
  "kernelspec": {
   "display_name": "Python 3",
   "language": "python",
   "name": "python3"
  },
  "language_info": {
   "codemirror_mode": {
    "name": "ipython",
    "version": 2
   },
   "file_extension": ".py",
   "mimetype": "text/x-python",
   "name": "python",
   "nbconvert_exporter": "python",
   "pygments_lexer": "ipython2",
   "version": "2.7.6"
  }
 },
 "nbformat": 4,
 "nbformat_minor": 0
}
