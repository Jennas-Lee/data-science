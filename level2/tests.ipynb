{
 "cells": [
  {
   "cell_type": "markdown",
   "source": [
    "# 각종 예제 문제들"
   ],
   "metadata": {
    "collapsed": false
   }
  },
  {
   "cell_type": "markdown",
   "source": [
    "## Chapter.5"
   ],
   "metadata": {
    "collapsed": false
   }
  },
  {
   "cell_type": "markdown",
   "source": [
    "### 1. 주어진 데이터의 1.23%를 추출하면 몇 개의 행이 추출되는가?\n",
    "\n",
    "bike.csv 사용\n",
    "\n",
    "1. 123\n",
    "2. 100\n",
    "3. 108\n",
    "4. 134"
   ],
   "metadata": {
    "collapsed": false
   }
  },
  {
   "cell_type": "markdown",
   "source": [
    "### 2. Season 기준 5%씩 추출 시 추출되는 총 행의 수는?\n",
    "\n",
    "bike.csv 사용\n",
    "\n",
    "1. 545\n",
    "2. 500\n",
    "3. 544\n",
    "4. 5"
   ],
   "metadata": {
    "collapsed": false
   }
  },
  {
   "cell_type": "markdown",
   "source": [
    "### 3. 학습과 평가용 데이터 세트로 8:2 분리 시 평가용 데이터의 최고기온은?\n",
    "\n",
    "bike.csv 사용\n",
    "Seed는 123으로 설정\n",
    "\n",
    "1. 9.84\n",
    "2. 12.28\n",
    "3. 39.36\n",
    "4. 18.04"
   ],
   "metadata": {
    "collapsed": false
   }
  },
  {
   "cell_type": "markdown",
   "source": [
    "## Chapter.6"
   ],
   "metadata": {
    "collapsed": false
   }
  },
  {
   "cell_type": "markdown",
   "source": [
    "### 1. 각 수치형 변수의 결측치 개수 총합은?\n",
    "\n",
    "iris_missing.csv 사용\n",
    "\n",
    "1. 9\n",
    "2. 11\n",
    "3. 23\n",
    "4. 40"
   ],
   "metadata": {
    "collapsed": false
   }
  },
  {
   "cell_type": "markdown",
   "source": [
    "### 2. `sepal_width` 변수의 결측치를 평균으로 대치한 값의 분산은?\n",
    "\n",
    "iris_missing.csv 사용\n",
    "반올림하여 소수점 셋째자리까지 표기\n",
    "\n",
    "1. 0.176\n",
    "2. 3.070\n",
    "3. 3\n",
    "4. 23"
   ],
   "metadata": {
    "collapsed": false
   }
  },
  {
   "cell_type": "markdown",
   "source": [
    "### 3. 평균을 기준으로 1.5 표준편차를 넘어서는 값을 이상치라고 간주할 때 `Sepal.Length` 변수를 기준으로 이상치인 row 개수는 몇 개인가?\n",
    "\n",
    "iris.csv 사용\n",
    "\n",
    "1. 0\n",
    "2. 13\n",
    "3. 21\n",
    "4. 129"
   ],
   "metadata": {
    "collapsed": false
   }
  },
  {
   "cell_type": "markdown",
   "source": [
    "## Chapter.7"
   ],
   "metadata": {
    "collapsed": false
   }
  },
  {
   "cell_type": "markdown",
   "source": [
    "### 1. `temp` 변수와 `atemp` 변수 차의의 절대값 평균은?\n",
    "\n",
    "bike.csv 사용\n",
    "`abs()` 메소드 사용\n",
    "결과값은 반올림하여 소수점 셋 째 자리까지 표기한다.\n",
    "\n",
    "1. 23.665\n",
    "2. 20.231\n",
    "3. 12.452\n",
    "4. 3.509"
   ],
   "metadata": {
    "collapsed": false
   }
  },
  {
   "cell_type": "markdown",
   "source": [
    "### 2. `casual` 값의 최대값이 25가 넘은 날은 총 며칠인가?\n",
    "\n",
    "bike.csv 사용\n",
    "`date` 어트리뷰트 활용\n",
    "\n",
    "1. 0\n",
    "2. 1\n",
    "3. 384\n",
    "4. 345"
   ],
   "metadata": {
    "collapsed": false
   }
  },
  {
   "cell_type": "markdown",
   "source": [
    "### 3. 시간대별 `registered` 평균을 산출했을 때 값이 가장 큰 시간은?\n",
    "\n",
    "bike.csv 사용\n",
    "`hour` 어트리뷰트 활용\n",
    "\n",
    "1. 16\n",
    "2. 17\n",
    "3. 18\n",
    "4. 19"
   ],
   "metadata": {
    "collapsed": false
   }
  },
  {
   "cell_type": "markdown",
   "source": [
    "## Chapter.8"
   ],
   "metadata": {
    "collapsed": false
   }
  },
  {
   "cell_type": "markdown",
   "source": [
    "### 1. A를 B에 Left Join 하였을 때 생성되는 결측 행의 개수는?\n",
    "\n",
    "join_data_group_members.csv 파일이 A, join_data_member_room.csv 파일이 B\n",
    "\n",
    "1. 0\n",
    "2. 12\n",
    "3. 15\n",
    "4. 5"
   ],
   "metadata": {
    "collapsed": false
   }
  },
  {
   "cell_type": "markdown",
   "source": [
    "### 2. 여름과 겨울의 시간대별 `registered` 평균을 비교할 때 가장 차이가 많이 나는 시각은?\n",
    "\n",
    "bike.csv 파일 사용\n",
    "hour 어트리뷰트 활용\n",
    "\n",
    "1. 12\n",
    "2. 13\n",
    "3. 19\n",
    "4. 20"
   ],
   "metadata": {
    "collapsed": false
   }
  },
  {
   "cell_type": "markdown",
   "source": [
    "### 3. 비가 온 날에 30도가 넘는 시각의 `count`의 평균은 얼마인가?\n",
    "\n",
    "bike.csv 사용\n",
    "humidity의 최대값이 100인 날을 비가 온 날로 간주한다.\n",
    "반올림하여 소수점 둘 때 자리까지 표기한다.\n",
    "\n",
    "1. 338.75\n",
    "2. 244.93\n",
    "3. 191.57\n",
    "4. 89.41"
   ],
   "metadata": {
    "collapsed": false
   }
  },
  {
   "cell_type": "markdown",
   "source": [
    "## Chapter.9"
   ],
   "metadata": {
    "collapsed": false
   }
  },
  {
   "cell_type": "markdown",
   "source": [
    "### 1. workingday가 아니면서 holiday가 아닌 날의 비율은?\n",
    "\n",
    "bike.csv 사용\n",
    "\n",
    "1. 0\n",
    "2. 0.25\n",
    "3. 0.29\n",
    "4. 0.91"
   ],
   "metadata": {
    "collapsed": false
   }
  },
  {
   "cell_type": "markdown",
   "source": [
    "### 2. 가장 많은 데이터가 있는 세공 수준과 색상 조합을 순서대로 고르면?\n",
    "\n",
    "diamonds.csv 사용\n",
    "\n",
    "1. Ideal, G\n",
    "2. Fair, D\n",
    "3. Premium, E\n",
    "4. Good, I"
   ],
   "metadata": {
    "collapsed": false
   }
  },
  {
   "cell_type": "markdown",
   "source": [
    "### 3. 세공수준별 색상별 가격과 캐럿의 평균을 구하고 1캐럿당 가격이 가장 높은 세공수준과 색상 조합을 순서대로 고르면?\n",
    "\n",
    "diamonds.csv 사용\n",
    "\n",
    "1. Ideal, E\n",
    "2. Ideal, G\n",
    "3. Premium, E\n",
    "4. Premium, G"
   ],
   "metadata": {
    "collapsed": false
   }
  }
 ],
 "metadata": {
  "kernelspec": {
   "display_name": "Python 3",
   "language": "python",
   "name": "python3"
  },
  "language_info": {
   "codemirror_mode": {
    "name": "ipython",
    "version": 2
   },
   "file_extension": ".py",
   "mimetype": "text/x-python",
   "name": "python",
   "nbconvert_exporter": "python",
   "pygments_lexer": "ipython2",
   "version": "2.7.6"
  }
 },
 "nbformat": 4,
 "nbformat_minor": 0
}
