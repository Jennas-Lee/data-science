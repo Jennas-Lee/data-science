{
 "cells": [
  {
   "cell_type": "markdown",
   "source": [
    "# 각종 예제 문제들"
   ],
   "metadata": {
    "collapsed": false
   }
  },
  {
   "cell_type": "markdown",
   "source": [
    "## Chapter.05"
   ],
   "metadata": {
    "collapsed": false
   }
  },
  {
   "cell_type": "markdown",
   "source": [
    "### 1. 주어진 데이터의 1.23%를 추출하면 몇 개의 행이 추출되는가?\n",
    "\n",
    "bike.csv 사용\n",
    "\n",
    "1. 123\n",
    "2. 100\n",
    "3. 108\n",
    "4. 134"
   ],
   "metadata": {
    "collapsed": false
   }
  },
  {
   "cell_type": "markdown",
   "source": [
    "### 2. Season 기준 5%씩 추출 시 추출되는 총 행의 수는?\n",
    "\n",
    "bike.csv 사용\n",
    "\n",
    "1. 545\n",
    "2. 500\n",
    "3. 544\n",
    "4. 5"
   ],
   "metadata": {
    "collapsed": false
   }
  },
  {
   "cell_type": "markdown",
   "source": [
    "### 3. 학습과 평가용 데이터 세트로 8:2 분리 시 평가용 데이터의 최고기온은?\n",
    "\n",
    "bike.csv 사용\n",
    "Seed는 123으로 설정\n",
    "\n",
    "1. 9.84\n",
    "2. 12.28\n",
    "3. 39.36\n",
    "4. 18.04"
   ],
   "metadata": {
    "collapsed": false
   }
  },
  {
   "cell_type": "markdown",
   "source": [
    "## Chapter.06"
   ],
   "metadata": {
    "collapsed": false
   }
  },
  {
   "cell_type": "markdown",
   "source": [
    "### 1. 각 수치형 변수의 결측치 개수 총합은?\n",
    "\n",
    "iris_missing.csv 사용\n",
    "\n",
    "1. 9\n",
    "2. 11\n",
    "3. 23\n",
    "4. 40"
   ],
   "metadata": {
    "collapsed": false
   }
  },
  {
   "cell_type": "markdown",
   "source": [
    "### 2. `sepal_width` 변수의 결측치를 평균으로 대치한 값의 분산은?\n",
    "\n",
    "iris_missing.csv 사용\n",
    "반올림하여 소수점 셋째자리까지 표기\n",
    "\n",
    "1. 0.176\n",
    "2. 3.070\n",
    "3. 3\n",
    "4. 23"
   ],
   "metadata": {
    "collapsed": false
   }
  },
  {
   "cell_type": "markdown",
   "source": [
    "### 3. 평균을 기준으로 1.5 표준편차를 넘어서는 값을 이상치라고 간주할 때 `Sepal.Length` 변수를 기준으로 이상치인 row 개수는 몇 개인가?\n",
    "\n",
    "iris.csv 사용\n",
    "\n",
    "1. 0\n",
    "2. 13\n",
    "3. 21\n",
    "4. 129"
   ],
   "metadata": {
    "collapsed": false
   }
  },
  {
   "cell_type": "markdown",
   "source": [
    "## Chapter.07"
   ],
   "metadata": {
    "collapsed": false
   }
  },
  {
   "cell_type": "markdown",
   "source": [
    "### 1. `temp` 변수와 `atemp` 변수 차의의 절대값 평균은?\n",
    "\n",
    "bike.csv 사용\n",
    "`abs()` 메소드 사용\n",
    "결과값은 반올림하여 소수점 셋 째 자리까지 표기한다.\n",
    "\n",
    "1. 23.665\n",
    "2. 20.231\n",
    "3. 12.452\n",
    "4. 3.509"
   ],
   "metadata": {
    "collapsed": false
   }
  },
  {
   "cell_type": "markdown",
   "source": [
    "### 2. `casual` 값의 최대값이 25가 넘은 날은 총 며칠인가?\n",
    "\n",
    "bike.csv 사용\n",
    "`date` 어트리뷰트 활용\n",
    "\n",
    "1. 0\n",
    "2. 1\n",
    "3. 384\n",
    "4. 345"
   ],
   "metadata": {
    "collapsed": false
   }
  },
  {
   "cell_type": "markdown",
   "source": [
    "### 3. 시간대별 `registered` 평균을 산출했을 때 값이 가장 큰 시간은?\n",
    "\n",
    "bike.csv 사용\n",
    "`hour` 어트리뷰트 활용\n",
    "\n",
    "1. 16\n",
    "2. 17\n",
    "3. 18\n",
    "4. 19"
   ],
   "metadata": {
    "collapsed": false
   }
  },
  {
   "cell_type": "markdown",
   "source": [
    "## Chapter.08"
   ],
   "metadata": {
    "collapsed": false
   }
  },
  {
   "cell_type": "markdown",
   "source": [
    "### 1. A를 B에 Left Join 하였을 때 생성되는 결측 행의 개수는?\n",
    "\n",
    "join_data_group_members.csv 파일이 A, join_data_member_room.csv 파일이 B\n",
    "\n",
    "1. 0\n",
    "2. 12\n",
    "3. 15\n",
    "4. 5"
   ],
   "metadata": {
    "collapsed": false
   }
  },
  {
   "cell_type": "markdown",
   "source": [
    "### 2. 여름과 겨울의 시간대별 `registered` 평균을 비교할 때 가장 차이가 많이 나는 시각은?\n",
    "\n",
    "bike.csv 파일 사용\n",
    "hour 어트리뷰트 활용\n",
    "\n",
    "1. 12\n",
    "2. 13\n",
    "3. 19\n",
    "4. 20"
   ],
   "metadata": {
    "collapsed": false
   }
  },
  {
   "cell_type": "markdown",
   "source": [
    "### 3. 비가 온 날에 30도가 넘는 시각의 `count`의 평균은 얼마인가?\n",
    "\n",
    "bike.csv 사용\n",
    "humidity의 최대값이 100인 날을 비가 온 날로 간주한다.\n",
    "반올림하여 소수점 둘 때 자리까지 표기한다.\n",
    "\n",
    "1. 338.75\n",
    "2. 244.93\n",
    "3. 191.57\n",
    "4. 89.41"
   ],
   "metadata": {
    "collapsed": false
   }
  },
  {
   "cell_type": "markdown",
   "source": [
    "## Chapter.09"
   ],
   "metadata": {
    "collapsed": false
   }
  },
  {
   "cell_type": "markdown",
   "source": [
    "### 1. workingday가 아니면서 holiday가 아닌 날의 비율은?\n",
    "\n",
    "bike.csv 사용\n",
    "\n",
    "1. 0\n",
    "2. 0.25\n",
    "3. 0.29\n",
    "4. 0.91"
   ],
   "metadata": {
    "collapsed": false
   }
  },
  {
   "cell_type": "markdown",
   "source": [
    "### 2. 가장 많은 데이터가 있는 세공 수준과 색상 조합을 순서대로 고르면?\n",
    "\n",
    "diamonds.csv 사용\n",
    "\n",
    "1. Ideal, G\n",
    "2. Fair, D\n",
    "3. Premium, E\n",
    "4. Good, I"
   ],
   "metadata": {
    "collapsed": false
   }
  },
  {
   "cell_type": "markdown",
   "source": [
    "### 3. 세공수준별 색상별 가격과 캐럿의 평균을 구하고 1캐럿당 가격이 가장 높은 세공수준과 색상 조합을 순서대로 고르면?\n",
    "\n",
    "diamonds.csv 사용\n",
    "\n",
    "1. Ideal, E\n",
    "2. Ideal, G\n",
    "3. Premium, E\n",
    "4. Premium, G"
   ],
   "metadata": {
    "collapsed": false
   }
  },
  {
   "cell_type": "markdown",
   "source": [
    "## Chapter.10"
   ],
   "metadata": {
    "collapsed": false
   }
  },
  {
   "cell_type": "markdown",
   "source": [
    "### 1. 입력 객체의 원소를 모두 제곱한 후 그 원소를 더한 다음 제곱근을 취하는 사용자 정의 함수를 만들었을 때 해당 사용자 정의 함수에 `[3, 5, 9, 20]`를 입력으로 하는 경우 그 출력값은?\n",
    "\n",
    "입력 객체의 형식은 Pandas의 Series로 가정\n",
    "\n",
    "1. 171\n",
    "2. 22.69\n",
    "3. 400\n",
    "4. 17.23"
   ],
   "metadata": {
    "collapsed": false
   }
  },
  {
   "cell_type": "markdown",
   "source": [
    "### 2. 표준화(Standardization) 사용자 정의 함수를 만들고  `[-4, 5, 7, 9]`를 입력한 경우 여기서 입력한 7은 몇으로 반환되는가?\n",
    "\n",
    "입력 객체의 형식은 Pandas의 Series로 가정\n",
    "\n",
    "1. -1.43\n",
    "2. 0.48\n",
    "3. 0.69\n",
    "4. 0.85"
   ],
   "metadata": {
    "collapsed": false
   }
  },
  {
   "cell_type": "markdown",
   "source": [
    "### 3. MinMax 정규화 사용자 정의 함수를 만들고 `[-4, 5, 7, 9]`를 입력한 경우 여기서 입력한 7은 몇 으로 변환되는가?\n",
    "\n",
    "입력 객체의 형식은 Pandas의 Series로 가정\n",
    "\n",
    "1. 1\n",
    "2. 0\n",
    "3. 0.69\n",
    "4. 0.85"
   ],
   "metadata": {
    "collapsed": false
   }
  },
  {
   "cell_type": "markdown",
   "source": [
    "# Chapter.11"
   ],
   "metadata": {
    "collapsed": false
   }
  },
  {
   "cell_type": "markdown",
   "source": [
    "### 1. 기온, 체감온도, 상대습도, 총 자전거 대여 숫자의 상관관계를 분석하였을 때 가장 낮은 상관계수는 얼마인가?\n",
    "\n",
    "bike.csv 파일 사용\n",
    "데이터 속성에 맞는 적절한 상관분석 기법 사용\n",
    "자전거 대여 숫자는 `casual` 변수를 사용\n",
    "\n",
    "1. -0.04\n",
    "2. -0.35\n",
    "3. -0.31\n",
    "4. -0.24"
   ],
   "metadata": {
    "collapsed": false
   }
  },
  {
   "cell_type": "markdown",
   "source": [
    "### 2. 계절별로 체감온도와 자전거 대여 숫자의 상관관계를 알아보고자 한다. 이 때 적절한 상관분석기법을 사용하였을 때 상관계수로 옳은 것은?\n",
    "\n",
    "bike.csv 파일 사용\n",
    "자전거 대여 숫자는 `casual` 변수를 사용\n",
    "\n",
    "1. 봄 : 0.444\n",
    "2. 여름 : 0.378\n",
    "3. 가을 : 0.382\n",
    "4. 겨울 : 0.478"
   ],
   "metadata": {
    "collapsed": false
   }
  },
  {
   "cell_type": "markdown",
   "source": [
    "### 3. 날씨에 따른 기온과 자전거 대여의 상관계수 변화를 알아보고자 한다. 말씨가 맑은 날과 그렇지 않은 날의 상관계수 차이의 절대값은 얼마인가?\n",
    "\n",
    "bike.csv 파일 사용하며 weather 변수의 값이 1인 것이 맑은 날\n",
    "자전거 대여 숫자는 `casual` 변수를 사용\n",
    "\n",
    "1. 0.464\n",
    "2. 0.448\n",
    "3. 0.167\n",
    "4. 0.025"
   ],
   "metadata": {
    "collapsed": false
   }
  },
  {
   "cell_type": "markdown",
   "source": [
    "# Chapter.12"
   ],
   "metadata": {
    "collapsed": false
   }
  },
  {
   "cell_type": "markdown",
   "source": [
    "### 1. BMI가 0이 아닌 사람 데이터를 대상으로 k-means 군집 분석을 실시하는 경우 군집 개수가 가장 큰 군집의 Insulin 평균은 얼마인가?\n",
    "\n",
    "diabete.csv파일 사용\n",
    "군집은 4개로 설정하고 Seed는 123으로 한다."
   ],
   "metadata": {
    "collapsed": false
   }
  },
  {
   "cell_type": "markdown",
   "source": [
    "### 2. BMI가 0이 아닌 사람 데이터를 대상으로 k-means 군집 분석을 실시하는 경우 군집 개수가 가장 큰 군집의 나이 평균은 얼마인가?\n",
    "\n",
    "diabete.csv 파일 사용\n",
    "군집은 4개로 설정하고 Seed는 123으로 한다.\n",
    "군집 분석 이전에 Min-Max 정규화를 실시한다.\n",
    "나이 계산은 정규화 실시 전의 데이터를 사용한다.\n",
    "\n",
    "1. 26\n",
    "2. 30\n",
    "3. 44\n",
    "4. 47"
   ],
   "metadata": {
    "collapsed": false
   }
  },
  {
   "cell_type": "markdown",
   "source": [
    "### 3. BMI가 0이 아닌 사람 데이터를 대상으로 k-means 군집 분석을 실시하고 군집의 중심점간 유클리드 거리가 가장 가까운 그룹간 거리는?\n",
    "\n",
    "diabete.csv 파일 사용\n",
    "군집은 3개로 설정하고 Seed는 123으로 한다.\n",
    "\n",
    "1. 429.2\n",
    "2. 146.3\n",
    "3. 283.4\n",
    "4. 72.3"
   ],
   "metadata": {
    "collapsed": false
   }
  },
  {
   "cell_type": "markdown",
   "source": [
    "# Chapter.13"
   ],
   "metadata": {
    "collapsed": false
   }
  },
  {
   "cell_type": "markdown",
   "source": [
    "### 1. 종속변수를 registered, 독립변수를 temp로 했을 때 결정계수는?\n",
    "\n",
    "bike.csv 파일 사용\n",
    "statsmodels 함수 사용\n",
    "학습 데이터 비율을 70%, seed를 123으로 설정\n",
    "\n",
    "1. 0.106\n",
    "2. 0.101\n",
    "3. 0.152\n",
    "4. 0.116"
   ],
   "metadata": {
    "collapsed": false
   }
  },
  {
   "cell_type": "markdown",
   "source": [
    "### 2. 종속변수를 casual, 독립변수를 atemp로 했을 때 RMSE는?\n",
    "\n",
    "bike.csv 파일 사용\n",
    "statsmodels 함수 활용\n",
    "학습 데이터 비율을 70%, seed를 123으로 설정\n",
    "\n",
    "1. 1957.2\n",
    "2. 44.2\n",
    "3. 23.3\n",
    "4. 44.5"
   ],
   "metadata": {
    "collapsed": false
   }
  },
  {
   "cell_type": "markdown",
   "source": [
    "### 3. 종속변수를 casual, 독립변수를 atemp로 했을 때 여름과 겨울의 RMSE 차이는?\n",
    "\n",
    "bike.csv 파일 사용\n",
    "statsmodels 함수 활용\n",
    "학습 데이터 비율을 70%, seed를 123으로 설정\n",
    "RMSE의 차이는 절대값을 취한다.\n",
    "\n",
    "1. 41.1\n",
    "2. 49.8\n",
    "3. 8.6\n",
    "4. 12.4"
   ],
   "metadata": {
    "collapsed": false
   }
  },
  {
   "cell_type": "markdown",
   "source": [
    "# Chapter.14"
   ],
   "metadata": {
    "collapsed": false
   }
  },
  {
   "cell_type": "markdown",
   "source": [
    "### 1. `Price`를 종속변수로 하고 나머지 수치형 변수를 독립변수로 했을 때 다중 공선성의 문제가 있다고 판단되는 변수의 개수는?\n",
    "\n",
    "diamonds.csv 파일 사용\n",
    "\n",
    "1. 5개\n",
    "2. 4개\n",
    "3. 3개\n",
    "4. 2개"
   ],
   "metadata": {
    "collapsed": false
   }
  },
  {
   "cell_type": "markdown",
   "source": [
    "### 2. `price`를 종속변수로 하고 `carat`과 `depth`를 독립변수로 하여 생성한 선형 회귀 모델을 사용하여 알아본 `carat`이 1이고 `depth`가 60, `table`이 55인 다이아몬드의 가격은 얼마인가?\n",
    "\n",
    "diamonds.csv 파일 사용\n",
    "\n",
    "1. 2818\n",
    "2. 3219\n",
    "3. 4912\n",
    "4. 5681"
   ],
   "metadata": {
    "collapsed": false
   }
  },
  {
   "cell_type": "markdown",
   "source": [
    "### 3. `price`를 종속변수로 하고 `carat`, `color`, `depth`를 독립변수로 하여 생성한 선형 회귀 모델을 사용하여 알아본 `carat`이 1이고 `depth`가 50, `color`가 E인 다이아몬드의 가격은 얼마인가?\n",
    "\n",
    "diamonds.csv 파일 사용\n",
    "가변수 생성 시 마지막 변수 하나를 제거\n",
    "\n",
    "1. 6885\n",
    "2. 2142\n",
    "3. 2840\n",
    "4. 4351"
   ],
   "metadata": {
    "collapsed": false
   }
  },
  {
   "cell_type": "markdown",
   "source": [
    "# Chapter.15"
   ],
   "metadata": {
    "collapsed": false
   }
  },
  {
   "cell_type": "markdown",
   "source": [
    "### 1. 독립변수를 혈압, 혈당, BMI, 인슐린으로 하고 종속변수를 당뇨 여부로 할 경우 분류 정확도는 얼마인가?\n",
    "\n",
    "diabetes.csv 파일 사용\n",
    "statsmodels 함수 사용\n",
    "데이터는 학습:평가 = 8:2로 분리 후 계산\n",
    "Seed는 123"
   ],
   "metadata": {
    "collapsed": false
   }
  },
  {
   "cell_type": "markdown",
   "source": [
    "### 2. 독립변수를 혈당, BMI, 나이로 하고 종속변수를 당뇨 여부로 할 경우 나이의 승산비는 얼마인가?\n",
    "\n",
    "diabetes.csv 파일 사용\n",
    "statsmodels 함수 사용\n",
    "\n",
    "1. 0.02\n",
    "2. 1.03\n",
    "3. 1.05\n",
    "4. 0.99"
   ],
   "metadata": {
    "collapsed": false
   }
  },
  {
   "cell_type": "markdown",
   "source": [
    "### 3. 독립변수를 혈당, BMI, 나이로 하고 종속변수를 당뇨 여부로 할 경우 모델의 AUC는 얼마인가?\n",
    "\n",
    "diabetes.csv 파일 사용\n",
    "statsmodels 함수 사용\n",
    "\n",
    "1. 0.56\n",
    "2. 0.55\n",
    "3. 0.54\n",
    "4. 0.53"
   ],
   "metadata": {
    "collapsed": false
   }
  },
  {
   "cell_type": "markdown",
   "source": [
    "# Chapter.16"
   ],
   "metadata": {
    "collapsed": false
   }
  },
  {
   "cell_type": "markdown",
   "source": [
    "### 1. BMI가 0 초과인 데이터만 사용하여 나이브 베이즈 분류를 실시하고자 한다. `Outcome`을 종속변수로 하고 나머지 변수를 독립변수로 할 때 종속변수의 사전확률은?\n",
    "\n",
    "diabates.csv 파일 사용\n",
    "`Outcome` 1을 대상으로 사전확률을 계산한다.\n",
    "\n",
    "1. 0.8\n",
    "2. 0.64\n",
    "3. 0.35\n",
    "4. 0.41"
   ],
   "metadata": {
    "collapsed": false
   }
  },
  {
   "cell_type": "markdown",
   "source": [
    "### 2. 혈당, 혈압. 나이를 독립변수로 하고 당뇨 발생 여부를 종속변수로 했을 때 그 정확도는 얼마인가?\n",
    "\n",
    "diabates.csv 파일 사용\n",
    "Outcome 1을 대상으로 사전확률을 계산한다.\n",
    "\n",
    "1. 78%\n",
    "2. 76%\n",
    "3. 74%\n",
    "4. 72%"
   ],
   "metadata": {
    "collapsed": false
   }
  },
  {
   "cell_type": "markdown",
   "source": [
    "### 3. 임신여부, 연령대, BMI, 혈당을 독립변수로 하고 당뇨 발생 여부를 종속변수로 했을 때 나이브 베이즈와 로지스틱 회귀 분석을 실시하고 둘 중 정확도가 높은 모델의 정확도는?\n",
    "\n",
    "diabates.csv 파일 사용\n",
    "BMI가 0 초과인 것을 사용하며 학습/평가 데이터 세트를 8:2로 분할, Seed는 123\n",
    "연령대는 Age가 21인 경우 20으로, 39일 경우 30으로 계산한다.\n",
    "sklearn의 로지스틱 회귀 함수를 사용하며, 임계값(threshold)은 0.5로 한다.\n",
    "\n",
    "1. 74%\n",
    "2. 76%\n",
    "3. 78%\n",
    "4. 83%"
   ],
   "metadata": {
    "collapsed": false
   }
  },
  {
   "cell_type": "markdown",
   "source": [
    "# Chapter.17"
   ],
   "metadata": {
    "collapsed": false
   }
  },
  {
   "cell_type": "markdown",
   "source": [
    "### 1. 당뇨 발생 여부를 예측하기 위해 임신 횟수, 혈당, 혈압을 사용할 경우 그 정확도는 얼마인가?\n",
    "\n",
    "diabates.csv 파일 사용\n",
    "데이터를 학습7, 평가3의 비율로 분할하시오. (Seed는 123)\n",
    "설정은 모두 기본값으로 하시오.\n",
    "\n",
    "1. 0.73\n",
    "2. 0.64\n",
    "3. 0.84\n",
    "4. 0.67"
   ],
   "metadata": {
    "collapsed": false
   }
  },
  {
   "cell_type": "markdown",
   "source": [
    "### 2. 종속변수를 당뇨 발생 여부로 하고 임신여부, 혈당, 혈압, 인슐린, 체질량지수를 독립변수로 하여 정확도를 확인했을 때 그 k값과 정확도가 올바르게 연결되지 않은 것은?\n",
    "\n",
    "diabates.csv 파일 사용\n",
    "데이터를 학습8, 평가2의 비율로 분할하시오. (Seed는 123)\n",
    "k를 제외한 설정은 모두 기본값으로 하시오.\n",
    "\n",
    "1. k = 3, Acc. = 0.71\n",
    "2. k = 5, Acc. = 0.73\n",
    "3. k = 10, Acc. = 0.78\n",
    "4. k = 20, Acc. = 0.79"
   ],
   "metadata": {
    "collapsed": false
   }
  },
  {
   "cell_type": "markdown",
   "source": [
    "### 3. 종속변수를 체질량지수로 하고 임신여부, 혈당, 혈압, 인슐린을 독립변수로 하여 예측값을 확인했을 때 그 k값과 RMSE가 올바르게 연결되지 않은 것은?\n",
    "\n",
    "diabates.csv 파일 사용\n",
    "데이터를 학습8, 평가2의 비율로 분할하시오. (Seed는 123)\n",
    "k를 제외한 설정은 모두 기본값으로 하시오.\n",
    "\n",
    "1. k = 3, RMSE = 8.455\n",
    "2. k = 5, RMSE = 8.675\n",
    "3. k = 10, RMSE = 8.404\n",
    "4. k = 20, RMSE = 8.510"
   ],
   "metadata": {
    "collapsed": false
   }
  },
  {
   "cell_type": "markdown",
   "source": [
    "# Chapter.18"
   ],
   "metadata": {
    "collapsed": false
   }
  },
  {
   "cell_type": "markdown",
   "source": [
    "### 1. 당뇨병 발병 여부를 예측하기 위하여 의사결정나무를 사용하고자 한다. 이 때 혈당, 혈압, 임신 횟수를 기반으로 예측을 했을 때 예측 정확도는?\n",
    "\n",
    "diabates.csv 파일 사용\n",
    "데이터를 학습8, 평가2의 비율로 분할하시오.\n",
    "Seed는 123\n",
    "\n",
    "1. 60%\n",
    "2. 61%\n",
    "3. 62%\n",
    "4. 63%"
   ],
   "metadata": {
    "collapsed": false
   }
  },
  {
   "cell_type": "markdown",
   "source": [
    "### 2. 환자의 BMI를 예측하기 위해서 회귀나무를 사용하고자 한다. 이 때 혈당, 혈압, 피부 두께를 독립변수로 했을 경우 RMSE는 얼마인가?\n",
    "\n",
    "diabates.csv 파일 사용\n",
    "데이터를 학습8, 평가2의 비율로 분할하시오.\n",
    "Seed는 123"
   ],
   "metadata": {
    "collapsed": false
   }
  },
  {
   "cell_type": "markdown",
   "source": [
    "### 3. 분류나무의 파라미터를 바꿔가면서 성능 평가를 하려고 한다. 당뇨 발병 여부를 종속변수로 하고 혈당, 혈압, 임신 횟수, BMI, 나이를 독립변수로 하고 Depth를 3에서 6까지 변화시킬 때 그 결과로 틀린 것은?\n",
    "\n",
    "diabates.csv 파일 사용\n",
    "데이터를 학습7, 평가3의 비율로 분할하시오.\n",
    "Seed는 345\n",
    "\n",
    "1. Depth 3, 정확도: 0.77\n",
    "2. Depth 4, 정확도: 0.76\n",
    "3. Depth 5, 정확도: 0.76\n",
    "4. Depth 6, 정확도: 0.78"
   ],
   "metadata": {
    "collapsed": false
   }
  }
 ],
 "metadata": {
  "kernelspec": {
   "display_name": "Python 3",
   "language": "python",
   "name": "python3"
  },
  "language_info": {
   "codemirror_mode": {
    "name": "ipython",
    "version": 2
   },
   "file_extension": ".py",
   "mimetype": "text/x-python",
   "name": "python",
   "nbconvert_exporter": "python",
   "pygments_lexer": "ipython2",
   "version": "2.7.6"
  }
 },
 "nbformat": 4,
 "nbformat_minor": 0
}
