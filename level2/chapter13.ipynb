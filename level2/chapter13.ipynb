{
 "cells": [
  {
   "cell_type": "markdown",
   "source": [
    "# 단순 회귀분석"
   ],
   "metadata": {
    "collapsed": false
   }
  },
  {
   "cell_type": "code",
   "execution_count": 1,
   "outputs": [],
   "source": [
    "import pandas as pd\n",
    "from statsmodels.formula.api import ols"
   ],
   "metadata": {
    "collapsed": false
   }
  },
  {
   "cell_type": "code",
   "execution_count": 2,
   "outputs": [
    {
     "data": {
      "text/plain": "   Sepal.Length  Sepal.Width  Petal.Length  Petal.Width Species\n0           5.1          3.5           1.4          0.2  setosa\n1           4.9          3.0           1.4          0.2  setosa",
      "text/html": "<div>\n<style scoped>\n    .dataframe tbody tr th:only-of-type {\n        vertical-align: middle;\n    }\n\n    .dataframe tbody tr th {\n        vertical-align: top;\n    }\n\n    .dataframe thead th {\n        text-align: right;\n    }\n</style>\n<table border=\"1\" class=\"dataframe\">\n  <thead>\n    <tr style=\"text-align: right;\">\n      <th></th>\n      <th>Sepal.Length</th>\n      <th>Sepal.Width</th>\n      <th>Petal.Length</th>\n      <th>Petal.Width</th>\n      <th>Species</th>\n    </tr>\n  </thead>\n  <tbody>\n    <tr>\n      <th>0</th>\n      <td>5.1</td>\n      <td>3.5</td>\n      <td>1.4</td>\n      <td>0.2</td>\n      <td>setosa</td>\n    </tr>\n    <tr>\n      <th>1</th>\n      <td>4.9</td>\n      <td>3.0</td>\n      <td>1.4</td>\n      <td>0.2</td>\n      <td>setosa</td>\n    </tr>\n  </tbody>\n</table>\n</div>"
     },
     "execution_count": 2,
     "metadata": {},
     "output_type": "execute_result"
    }
   ],
   "source": [
    "df = pd.read_csv('../datasets/iris.csv')\n",
    "df.head(2)"
   ],
   "metadata": {
    "collapsed": false
   }
  },
  {
   "cell_type": "code",
   "execution_count": 3,
   "outputs": [
    {
     "ename": "PatsyError",
     "evalue": "Error evaluating factor: NameError: name 'Sepal' is not defined\n    Sepal.Length ~ Sepal.Width\n                   ^^^^^^^^^^^",
     "output_type": "error",
     "traceback": [
      "\u001B[1;31m---------------------------------------------------------------------------\u001B[0m",
      "\u001B[1;31mNameError\u001B[0m                                 Traceback (most recent call last)",
      "File \u001B[1;32mC:\\Project\\data-science\\venv\\lib\\site-packages\\patsy\\compat.py:36\u001B[0m, in \u001B[0;36mcall_and_wrap_exc\u001B[1;34m(msg, origin, f, *args, **kwargs)\u001B[0m\n\u001B[0;32m     35\u001B[0m \u001B[38;5;28;01mtry\u001B[39;00m:\n\u001B[1;32m---> 36\u001B[0m     \u001B[38;5;28;01mreturn\u001B[39;00m f(\u001B[38;5;241m*\u001B[39margs, \u001B[38;5;241m*\u001B[39m\u001B[38;5;241m*\u001B[39mkwargs)\n\u001B[0;32m     37\u001B[0m \u001B[38;5;28;01mexcept\u001B[39;00m \u001B[38;5;167;01mException\u001B[39;00m \u001B[38;5;28;01mas\u001B[39;00m e:\n",
      "File \u001B[1;32mC:\\Project\\data-science\\venv\\lib\\site-packages\\patsy\\eval.py:169\u001B[0m, in \u001B[0;36mEvalEnvironment.eval\u001B[1;34m(self, expr, source_name, inner_namespace)\u001B[0m\n\u001B[0;32m    168\u001B[0m code \u001B[38;5;241m=\u001B[39m \u001B[38;5;28mcompile\u001B[39m(expr, source_name, \u001B[38;5;124m\"\u001B[39m\u001B[38;5;124meval\u001B[39m\u001B[38;5;124m\"\u001B[39m, \u001B[38;5;28mself\u001B[39m\u001B[38;5;241m.\u001B[39mflags, \u001B[38;5;28;01mFalse\u001B[39;00m)\n\u001B[1;32m--> 169\u001B[0m \u001B[38;5;28;01mreturn\u001B[39;00m \u001B[38;5;28;43meval\u001B[39;49m\u001B[43m(\u001B[49m\u001B[43mcode\u001B[49m\u001B[43m,\u001B[49m\u001B[43m \u001B[49m\u001B[43m{\u001B[49m\u001B[43m}\u001B[49m\u001B[43m,\u001B[49m\u001B[43m \u001B[49m\u001B[43mVarLookupDict\u001B[49m\u001B[43m(\u001B[49m\u001B[43m[\u001B[49m\u001B[43minner_namespace\u001B[49m\u001B[43m]\u001B[49m\n\u001B[0;32m    170\u001B[0m \u001B[43m                                    \u001B[49m\u001B[38;5;241;43m+\u001B[39;49m\u001B[43m \u001B[49m\u001B[38;5;28;43mself\u001B[39;49m\u001B[38;5;241;43m.\u001B[39;49m\u001B[43m_namespaces\u001B[49m\u001B[43m)\u001B[49m\u001B[43m)\u001B[49m\n",
      "File \u001B[1;32m<string>:1\u001B[0m\n",
      "\u001B[1;31mNameError\u001B[0m: name 'Sepal' is not defined",
      "\nThe above exception was the direct cause of the following exception:\n",
      "\u001B[1;31mPatsyError\u001B[0m                                Traceback (most recent call last)",
      "Cell \u001B[1;32mIn [3], line 1\u001B[0m\n\u001B[1;32m----> 1\u001B[0m model \u001B[38;5;241m=\u001B[39m \u001B[43mols\u001B[49m\u001B[43m(\u001B[49m\u001B[43mformula\u001B[49m\u001B[38;5;241;43m=\u001B[39;49m\u001B[38;5;124;43m\"\u001B[39;49m\u001B[38;5;124;43mSepal.Length ~ Sepal.Width\u001B[39;49m\u001B[38;5;124;43m\"\u001B[39;49m\u001B[43m,\u001B[49m\u001B[43m \u001B[49m\u001B[43mdata\u001B[49m\u001B[38;5;241;43m=\u001B[39;49m\u001B[43mdf\u001B[49m\u001B[43m)\u001B[49m\u001B[38;5;241m.\u001B[39mfit()\n\u001B[0;32m      2\u001B[0m model\n",
      "File \u001B[1;32mC:\\Project\\data-science\\venv\\lib\\site-packages\\statsmodels\\base\\model.py:200\u001B[0m, in \u001B[0;36mModel.from_formula\u001B[1;34m(cls, formula, data, subset, drop_cols, *args, **kwargs)\u001B[0m\n\u001B[0;32m    197\u001B[0m \u001B[38;5;28;01mif\u001B[39;00m missing \u001B[38;5;241m==\u001B[39m \u001B[38;5;124m'\u001B[39m\u001B[38;5;124mnone\u001B[39m\u001B[38;5;124m'\u001B[39m:  \u001B[38;5;66;03m# with patsy it's drop or raise. let's raise.\u001B[39;00m\n\u001B[0;32m    198\u001B[0m     missing \u001B[38;5;241m=\u001B[39m \u001B[38;5;124m'\u001B[39m\u001B[38;5;124mraise\u001B[39m\u001B[38;5;124m'\u001B[39m\n\u001B[1;32m--> 200\u001B[0m tmp \u001B[38;5;241m=\u001B[39m \u001B[43mhandle_formula_data\u001B[49m\u001B[43m(\u001B[49m\u001B[43mdata\u001B[49m\u001B[43m,\u001B[49m\u001B[43m \u001B[49m\u001B[38;5;28;43;01mNone\u001B[39;49;00m\u001B[43m,\u001B[49m\u001B[43m \u001B[49m\u001B[43mformula\u001B[49m\u001B[43m,\u001B[49m\u001B[43m \u001B[49m\u001B[43mdepth\u001B[49m\u001B[38;5;241;43m=\u001B[39;49m\u001B[43meval_env\u001B[49m\u001B[43m,\u001B[49m\n\u001B[0;32m    201\u001B[0m \u001B[43m                          \u001B[49m\u001B[43mmissing\u001B[49m\u001B[38;5;241;43m=\u001B[39;49m\u001B[43mmissing\u001B[49m\u001B[43m)\u001B[49m\n\u001B[0;32m    202\u001B[0m ((endog, exog), missing_idx, design_info) \u001B[38;5;241m=\u001B[39m tmp\n\u001B[0;32m    203\u001B[0m max_endog \u001B[38;5;241m=\u001B[39m \u001B[38;5;28mcls\u001B[39m\u001B[38;5;241m.\u001B[39m_formula_max_endog\n",
      "File \u001B[1;32mC:\\Project\\data-science\\venv\\lib\\site-packages\\statsmodels\\formula\\formulatools.py:63\u001B[0m, in \u001B[0;36mhandle_formula_data\u001B[1;34m(Y, X, formula, depth, missing)\u001B[0m\n\u001B[0;32m     61\u001B[0m \u001B[38;5;28;01melse\u001B[39;00m:\n\u001B[0;32m     62\u001B[0m     \u001B[38;5;28;01mif\u001B[39;00m data_util\u001B[38;5;241m.\u001B[39m_is_using_pandas(Y, \u001B[38;5;28;01mNone\u001B[39;00m):\n\u001B[1;32m---> 63\u001B[0m         result \u001B[38;5;241m=\u001B[39m \u001B[43mdmatrices\u001B[49m\u001B[43m(\u001B[49m\u001B[43mformula\u001B[49m\u001B[43m,\u001B[49m\u001B[43m \u001B[49m\u001B[43mY\u001B[49m\u001B[43m,\u001B[49m\u001B[43m \u001B[49m\u001B[43mdepth\u001B[49m\u001B[43m,\u001B[49m\u001B[43m \u001B[49m\u001B[43mreturn_type\u001B[49m\u001B[38;5;241;43m=\u001B[39;49m\u001B[38;5;124;43m'\u001B[39;49m\u001B[38;5;124;43mdataframe\u001B[39;49m\u001B[38;5;124;43m'\u001B[39;49m\u001B[43m,\u001B[49m\n\u001B[0;32m     64\u001B[0m \u001B[43m                           \u001B[49m\u001B[43mNA_action\u001B[49m\u001B[38;5;241;43m=\u001B[39;49m\u001B[43mna_action\u001B[49m\u001B[43m)\u001B[49m\n\u001B[0;32m     65\u001B[0m     \u001B[38;5;28;01melse\u001B[39;00m:\n\u001B[0;32m     66\u001B[0m         result \u001B[38;5;241m=\u001B[39m dmatrices(formula, Y, depth, return_type\u001B[38;5;241m=\u001B[39m\u001B[38;5;124m'\u001B[39m\u001B[38;5;124mdataframe\u001B[39m\u001B[38;5;124m'\u001B[39m,\n\u001B[0;32m     67\u001B[0m                            NA_action\u001B[38;5;241m=\u001B[39mna_action)\n",
      "File \u001B[1;32mC:\\Project\\data-science\\venv\\lib\\site-packages\\patsy\\highlevel.py:309\u001B[0m, in \u001B[0;36mdmatrices\u001B[1;34m(formula_like, data, eval_env, NA_action, return_type)\u001B[0m\n\u001B[0;32m    299\u001B[0m \u001B[38;5;124;03m\"\"\"Construct two design matrices given a formula_like and data.\u001B[39;00m\n\u001B[0;32m    300\u001B[0m \n\u001B[0;32m    301\u001B[0m \u001B[38;5;124;03mThis function is identical to :func:`dmatrix`, except that it requires\u001B[39;00m\n\u001B[1;32m   (...)\u001B[0m\n\u001B[0;32m    306\u001B[0m \u001B[38;5;124;03mSee :func:`dmatrix` for details.\u001B[39;00m\n\u001B[0;32m    307\u001B[0m \u001B[38;5;124;03m\"\"\"\u001B[39;00m\n\u001B[0;32m    308\u001B[0m eval_env \u001B[38;5;241m=\u001B[39m EvalEnvironment\u001B[38;5;241m.\u001B[39mcapture(eval_env, reference\u001B[38;5;241m=\u001B[39m\u001B[38;5;241m1\u001B[39m)\n\u001B[1;32m--> 309\u001B[0m (lhs, rhs) \u001B[38;5;241m=\u001B[39m \u001B[43m_do_highlevel_design\u001B[49m\u001B[43m(\u001B[49m\u001B[43mformula_like\u001B[49m\u001B[43m,\u001B[49m\u001B[43m \u001B[49m\u001B[43mdata\u001B[49m\u001B[43m,\u001B[49m\u001B[43m \u001B[49m\u001B[43meval_env\u001B[49m\u001B[43m,\u001B[49m\n\u001B[0;32m    310\u001B[0m \u001B[43m                                  \u001B[49m\u001B[43mNA_action\u001B[49m\u001B[43m,\u001B[49m\u001B[43m \u001B[49m\u001B[43mreturn_type\u001B[49m\u001B[43m)\u001B[49m\n\u001B[0;32m    311\u001B[0m \u001B[38;5;28;01mif\u001B[39;00m lhs\u001B[38;5;241m.\u001B[39mshape[\u001B[38;5;241m1\u001B[39m] \u001B[38;5;241m==\u001B[39m \u001B[38;5;241m0\u001B[39m:\n\u001B[0;32m    312\u001B[0m     \u001B[38;5;28;01mraise\u001B[39;00m PatsyError(\u001B[38;5;124m\"\u001B[39m\u001B[38;5;124mmodel is missing required outcome variables\u001B[39m\u001B[38;5;124m\"\u001B[39m)\n",
      "File \u001B[1;32mC:\\Project\\data-science\\venv\\lib\\site-packages\\patsy\\highlevel.py:164\u001B[0m, in \u001B[0;36m_do_highlevel_design\u001B[1;34m(formula_like, data, eval_env, NA_action, return_type)\u001B[0m\n\u001B[0;32m    162\u001B[0m \u001B[38;5;28;01mdef\u001B[39;00m \u001B[38;5;21mdata_iter_maker\u001B[39m():\n\u001B[0;32m    163\u001B[0m     \u001B[38;5;28;01mreturn\u001B[39;00m \u001B[38;5;28miter\u001B[39m([data])\n\u001B[1;32m--> 164\u001B[0m design_infos \u001B[38;5;241m=\u001B[39m \u001B[43m_try_incr_builders\u001B[49m\u001B[43m(\u001B[49m\u001B[43mformula_like\u001B[49m\u001B[43m,\u001B[49m\u001B[43m \u001B[49m\u001B[43mdata_iter_maker\u001B[49m\u001B[43m,\u001B[49m\u001B[43m \u001B[49m\u001B[43meval_env\u001B[49m\u001B[43m,\u001B[49m\n\u001B[0;32m    165\u001B[0m \u001B[43m                                  \u001B[49m\u001B[43mNA_action\u001B[49m\u001B[43m)\u001B[49m\n\u001B[0;32m    166\u001B[0m \u001B[38;5;28;01mif\u001B[39;00m design_infos \u001B[38;5;129;01mis\u001B[39;00m \u001B[38;5;129;01mnot\u001B[39;00m \u001B[38;5;28;01mNone\u001B[39;00m:\n\u001B[0;32m    167\u001B[0m     \u001B[38;5;28;01mreturn\u001B[39;00m build_design_matrices(design_infos, data,\n\u001B[0;32m    168\u001B[0m                                  NA_action\u001B[38;5;241m=\u001B[39mNA_action,\n\u001B[0;32m    169\u001B[0m                                  return_type\u001B[38;5;241m=\u001B[39mreturn_type)\n",
      "File \u001B[1;32mC:\\Project\\data-science\\venv\\lib\\site-packages\\patsy\\highlevel.py:66\u001B[0m, in \u001B[0;36m_try_incr_builders\u001B[1;34m(formula_like, data_iter_maker, eval_env, NA_action)\u001B[0m\n\u001B[0;32m     64\u001B[0m \u001B[38;5;28;01mif\u001B[39;00m \u001B[38;5;28misinstance\u001B[39m(formula_like, ModelDesc):\n\u001B[0;32m     65\u001B[0m     \u001B[38;5;28;01massert\u001B[39;00m \u001B[38;5;28misinstance\u001B[39m(eval_env, EvalEnvironment)\n\u001B[1;32m---> 66\u001B[0m     \u001B[38;5;28;01mreturn\u001B[39;00m \u001B[43mdesign_matrix_builders\u001B[49m\u001B[43m(\u001B[49m\u001B[43m[\u001B[49m\u001B[43mformula_like\u001B[49m\u001B[38;5;241;43m.\u001B[39;49m\u001B[43mlhs_termlist\u001B[49m\u001B[43m,\u001B[49m\n\u001B[0;32m     67\u001B[0m \u001B[43m                                   \u001B[49m\u001B[43mformula_like\u001B[49m\u001B[38;5;241;43m.\u001B[39;49m\u001B[43mrhs_termlist\u001B[49m\u001B[43m]\u001B[49m\u001B[43m,\u001B[49m\n\u001B[0;32m     68\u001B[0m \u001B[43m                                  \u001B[49m\u001B[43mdata_iter_maker\u001B[49m\u001B[43m,\u001B[49m\n\u001B[0;32m     69\u001B[0m \u001B[43m                                  \u001B[49m\u001B[43meval_env\u001B[49m\u001B[43m,\u001B[49m\n\u001B[0;32m     70\u001B[0m \u001B[43m                                  \u001B[49m\u001B[43mNA_action\u001B[49m\u001B[43m)\u001B[49m\n\u001B[0;32m     71\u001B[0m \u001B[38;5;28;01melse\u001B[39;00m:\n\u001B[0;32m     72\u001B[0m     \u001B[38;5;28;01mreturn\u001B[39;00m \u001B[38;5;28;01mNone\u001B[39;00m\n",
      "File \u001B[1;32mC:\\Project\\data-science\\venv\\lib\\site-packages\\patsy\\build.py:693\u001B[0m, in \u001B[0;36mdesign_matrix_builders\u001B[1;34m(termlists, data_iter_maker, eval_env, NA_action)\u001B[0m\n\u001B[0;32m    689\u001B[0m factor_states \u001B[38;5;241m=\u001B[39m _factors_memorize(all_factors, data_iter_maker, eval_env)\n\u001B[0;32m    690\u001B[0m \u001B[38;5;66;03m# Now all the factors have working eval methods, so we can evaluate them\u001B[39;00m\n\u001B[0;32m    691\u001B[0m \u001B[38;5;66;03m# on some data to find out what type of data they return.\u001B[39;00m\n\u001B[0;32m    692\u001B[0m (num_column_counts,\n\u001B[1;32m--> 693\u001B[0m  cat_levels_contrasts) \u001B[38;5;241m=\u001B[39m \u001B[43m_examine_factor_types\u001B[49m\u001B[43m(\u001B[49m\u001B[43mall_factors\u001B[49m\u001B[43m,\u001B[49m\n\u001B[0;32m    694\u001B[0m \u001B[43m                                               \u001B[49m\u001B[43mfactor_states\u001B[49m\u001B[43m,\u001B[49m\n\u001B[0;32m    695\u001B[0m \u001B[43m                                               \u001B[49m\u001B[43mdata_iter_maker\u001B[49m\u001B[43m,\u001B[49m\n\u001B[0;32m    696\u001B[0m \u001B[43m                                               \u001B[49m\u001B[43mNA_action\u001B[49m\u001B[43m)\u001B[49m\n\u001B[0;32m    697\u001B[0m \u001B[38;5;66;03m# Now we need the factor infos, which encapsulate the knowledge of\u001B[39;00m\n\u001B[0;32m    698\u001B[0m \u001B[38;5;66;03m# how to turn any given factor into a chunk of data:\u001B[39;00m\n\u001B[0;32m    699\u001B[0m factor_infos \u001B[38;5;241m=\u001B[39m {}\n",
      "File \u001B[1;32mC:\\Project\\data-science\\venv\\lib\\site-packages\\patsy\\build.py:443\u001B[0m, in \u001B[0;36m_examine_factor_types\u001B[1;34m(factors, factor_states, data_iter_maker, NA_action)\u001B[0m\n\u001B[0;32m    441\u001B[0m \u001B[38;5;28;01mfor\u001B[39;00m data \u001B[38;5;129;01min\u001B[39;00m data_iter_maker():\n\u001B[0;32m    442\u001B[0m     \u001B[38;5;28;01mfor\u001B[39;00m factor \u001B[38;5;129;01min\u001B[39;00m \u001B[38;5;28mlist\u001B[39m(examine_needed):\n\u001B[1;32m--> 443\u001B[0m         value \u001B[38;5;241m=\u001B[39m \u001B[43mfactor\u001B[49m\u001B[38;5;241;43m.\u001B[39;49m\u001B[43meval\u001B[49m\u001B[43m(\u001B[49m\u001B[43mfactor_states\u001B[49m\u001B[43m[\u001B[49m\u001B[43mfactor\u001B[49m\u001B[43m]\u001B[49m\u001B[43m,\u001B[49m\u001B[43m \u001B[49m\u001B[43mdata\u001B[49m\u001B[43m)\u001B[49m\n\u001B[0;32m    444\u001B[0m         \u001B[38;5;28;01mif\u001B[39;00m factor \u001B[38;5;129;01min\u001B[39;00m cat_sniffers \u001B[38;5;129;01mor\u001B[39;00m guess_categorical(value):\n\u001B[0;32m    445\u001B[0m             \u001B[38;5;28;01mif\u001B[39;00m factor \u001B[38;5;129;01mnot\u001B[39;00m \u001B[38;5;129;01min\u001B[39;00m cat_sniffers:\n",
      "File \u001B[1;32mC:\\Project\\data-science\\venv\\lib\\site-packages\\patsy\\eval.py:568\u001B[0m, in \u001B[0;36mEvalFactor.eval\u001B[1;34m(self, memorize_state, data)\u001B[0m\n\u001B[0;32m    567\u001B[0m \u001B[38;5;28;01mdef\u001B[39;00m \u001B[38;5;21meval\u001B[39m(\u001B[38;5;28mself\u001B[39m, memorize_state, data):\n\u001B[1;32m--> 568\u001B[0m     \u001B[38;5;28;01mreturn\u001B[39;00m \u001B[38;5;28;43mself\u001B[39;49m\u001B[38;5;241;43m.\u001B[39;49m\u001B[43m_eval\u001B[49m\u001B[43m(\u001B[49m\u001B[43mmemorize_state\u001B[49m\u001B[43m[\u001B[49m\u001B[38;5;124;43m\"\u001B[39;49m\u001B[38;5;124;43meval_code\u001B[39;49m\u001B[38;5;124;43m\"\u001B[39;49m\u001B[43m]\u001B[49m\u001B[43m,\u001B[49m\n\u001B[0;32m    569\u001B[0m \u001B[43m                      \u001B[49m\u001B[43mmemorize_state\u001B[49m\u001B[43m,\u001B[49m\n\u001B[0;32m    570\u001B[0m \u001B[43m                      \u001B[49m\u001B[43mdata\u001B[49m\u001B[43m)\u001B[49m\n",
      "File \u001B[1;32mC:\\Project\\data-science\\venv\\lib\\site-packages\\patsy\\eval.py:551\u001B[0m, in \u001B[0;36mEvalFactor._eval\u001B[1;34m(self, code, memorize_state, data)\u001B[0m\n\u001B[0;32m    549\u001B[0m \u001B[38;5;28;01mdef\u001B[39;00m \u001B[38;5;21m_eval\u001B[39m(\u001B[38;5;28mself\u001B[39m, code, memorize_state, data):\n\u001B[0;32m    550\u001B[0m     inner_namespace \u001B[38;5;241m=\u001B[39m VarLookupDict([data, memorize_state[\u001B[38;5;124m\"\u001B[39m\u001B[38;5;124mtransforms\u001B[39m\u001B[38;5;124m\"\u001B[39m]])\n\u001B[1;32m--> 551\u001B[0m     \u001B[38;5;28;01mreturn\u001B[39;00m \u001B[43mcall_and_wrap_exc\u001B[49m\u001B[43m(\u001B[49m\u001B[38;5;124;43m\"\u001B[39;49m\u001B[38;5;124;43mError evaluating factor\u001B[39;49m\u001B[38;5;124;43m\"\u001B[39;49m\u001B[43m,\u001B[49m\n\u001B[0;32m    552\u001B[0m \u001B[43m                             \u001B[49m\u001B[38;5;28;43mself\u001B[39;49m\u001B[43m,\u001B[49m\n\u001B[0;32m    553\u001B[0m \u001B[43m                             \u001B[49m\u001B[43mmemorize_state\u001B[49m\u001B[43m[\u001B[49m\u001B[38;5;124;43m\"\u001B[39;49m\u001B[38;5;124;43meval_env\u001B[39;49m\u001B[38;5;124;43m\"\u001B[39;49m\u001B[43m]\u001B[49m\u001B[38;5;241;43m.\u001B[39;49m\u001B[43meval\u001B[49m\u001B[43m,\u001B[49m\n\u001B[0;32m    554\u001B[0m \u001B[43m                             \u001B[49m\u001B[43mcode\u001B[49m\u001B[43m,\u001B[49m\n\u001B[0;32m    555\u001B[0m \u001B[43m                             \u001B[49m\u001B[43minner_namespace\u001B[49m\u001B[38;5;241;43m=\u001B[39;49m\u001B[43minner_namespace\u001B[49m\u001B[43m)\u001B[49m\n",
      "File \u001B[1;32mC:\\Project\\data-science\\venv\\lib\\site-packages\\patsy\\compat.py:43\u001B[0m, in \u001B[0;36mcall_and_wrap_exc\u001B[1;34m(msg, origin, f, *args, **kwargs)\u001B[0m\n\u001B[0;32m     39\u001B[0m     new_exc \u001B[38;5;241m=\u001B[39m PatsyError(\u001B[38;5;124m\"\u001B[39m\u001B[38;5;132;01m%s\u001B[39;00m\u001B[38;5;124m: \u001B[39m\u001B[38;5;132;01m%s\u001B[39;00m\u001B[38;5;124m: \u001B[39m\u001B[38;5;132;01m%s\u001B[39;00m\u001B[38;5;124m\"\u001B[39m\n\u001B[0;32m     40\u001B[0m                          \u001B[38;5;241m%\u001B[39m (msg, e\u001B[38;5;241m.\u001B[39m\u001B[38;5;18m__class__\u001B[39m\u001B[38;5;241m.\u001B[39m\u001B[38;5;18m__name__\u001B[39m, e),\n\u001B[0;32m     41\u001B[0m                          origin)\n\u001B[0;32m     42\u001B[0m     \u001B[38;5;66;03m# Use 'exec' to hide this syntax from the Python 2 parser:\u001B[39;00m\n\u001B[1;32m---> 43\u001B[0m     \u001B[43mexec\u001B[49m\u001B[43m(\u001B[49m\u001B[38;5;124;43m\"\u001B[39;49m\u001B[38;5;124;43mraise new_exc from e\u001B[39;49m\u001B[38;5;124;43m\"\u001B[39;49m\u001B[43m)\u001B[49m\n\u001B[0;32m     44\u001B[0m \u001B[38;5;28;01melse\u001B[39;00m:\n\u001B[0;32m     45\u001B[0m     \u001B[38;5;66;03m# In python 2, we just let the original exception escape -- better\u001B[39;00m\n\u001B[0;32m     46\u001B[0m     \u001B[38;5;66;03m# than destroying the traceback. But if it's a PatsyError, we can\u001B[39;00m\n\u001B[0;32m     47\u001B[0m     \u001B[38;5;66;03m# at least set the origin properly.\u001B[39;00m\n\u001B[0;32m     48\u001B[0m     \u001B[38;5;28;01mif\u001B[39;00m \u001B[38;5;28misinstance\u001B[39m(e, PatsyError):\n",
      "File \u001B[1;32m<string>:1\u001B[0m\n",
      "\u001B[1;31mPatsyError\u001B[0m: Error evaluating factor: NameError: name 'Sepal' is not defined\n    Sepal.Length ~ Sepal.Width\n                   ^^^^^^^^^^^"
     ]
    }
   ],
   "source": [
    "# model = ols(formula=\"Sepal.Length ~ Sepal.Width\", data=df).fit()\n",
    "# model"
   ],
   "metadata": {
    "collapsed": false
   }
  },
  {
   "cell_type": "code",
   "execution_count": 4,
   "outputs": [
    {
     "data": {
      "text/plain": "    SL   SW   PL   PW species\n0  5.1  3.5  1.4  0.2  setosa\n1  4.9  3.0  1.4  0.2  setosa",
      "text/html": "<div>\n<style scoped>\n    .dataframe tbody tr th:only-of-type {\n        vertical-align: middle;\n    }\n\n    .dataframe tbody tr th {\n        vertical-align: top;\n    }\n\n    .dataframe thead th {\n        text-align: right;\n    }\n</style>\n<table border=\"1\" class=\"dataframe\">\n  <thead>\n    <tr style=\"text-align: right;\">\n      <th></th>\n      <th>SL</th>\n      <th>SW</th>\n      <th>PL</th>\n      <th>PW</th>\n      <th>species</th>\n    </tr>\n  </thead>\n  <tbody>\n    <tr>\n      <th>0</th>\n      <td>5.1</td>\n      <td>3.5</td>\n      <td>1.4</td>\n      <td>0.2</td>\n      <td>setosa</td>\n    </tr>\n    <tr>\n      <th>1</th>\n      <td>4.9</td>\n      <td>3.0</td>\n      <td>1.4</td>\n      <td>0.2</td>\n      <td>setosa</td>\n    </tr>\n  </tbody>\n</table>\n</div>"
     },
     "execution_count": 4,
     "metadata": {},
     "output_type": "execute_result"
    }
   ],
   "source": [
    "df.columns = [\"SL\", \"SW\", \"PL\", \"PW\", \"species\"]\n",
    "df.head(2)"
   ],
   "metadata": {
    "collapsed": false
   }
  },
  {
   "cell_type": "code",
   "execution_count": 5,
   "outputs": [
    {
     "data": {
      "text/plain": "<class 'statsmodels.iolib.summary.Summary'>\n\"\"\"\n                            OLS Regression Results                            \n==============================================================================\nDep. Variable:                     SL   R-squared:                       0.014\nModel:                            OLS   Adj. R-squared:                  0.007\nMethod:                 Least Squares   F-statistic:                     2.074\nDate:                Mon, 14 Nov 2022   Prob (F-statistic):              0.152\nTime:                        15:25:48   Log-Likelihood:                -183.00\nNo. Observations:                 150   AIC:                             370.0\nDf Residuals:                     148   BIC:                             376.0\nDf Model:                           1                                         \nCovariance Type:            nonrobust                                         \n==============================================================================\n                 coef    std err          t      P>|t|      [0.025      0.975]\n------------------------------------------------------------------------------\nIntercept      6.5262      0.479     13.628      0.000       5.580       7.473\nSW            -0.2234      0.155     -1.440      0.152      -0.530       0.083\n==============================================================================\nOmnibus:                        4.389   Durbin-Watson:                   0.952\nProb(Omnibus):                  0.111   Jarque-Bera (JB):                4.237\nSkew:                           0.360   Prob(JB):                        0.120\nKurtosis:                       2.600   Cond. No.                         24.2\n==============================================================================\n\nNotes:\n[1] Standard Errors assume that the covariance matrix of the errors is correctly specified.\n\"\"\"",
      "text/html": "<table class=\"simpletable\">\n<caption>OLS Regression Results</caption>\n<tr>\n  <th>Dep. Variable:</th>           <td>SL</td>        <th>  R-squared:         </th> <td>   0.014</td>\n</tr>\n<tr>\n  <th>Model:</th>                   <td>OLS</td>       <th>  Adj. R-squared:    </th> <td>   0.007</td>\n</tr>\n<tr>\n  <th>Method:</th>             <td>Least Squares</td>  <th>  F-statistic:       </th> <td>   2.074</td>\n</tr>\n<tr>\n  <th>Date:</th>             <td>Mon, 14 Nov 2022</td> <th>  Prob (F-statistic):</th>  <td> 0.152</td> \n</tr>\n<tr>\n  <th>Time:</th>                 <td>15:25:48</td>     <th>  Log-Likelihood:    </th> <td> -183.00</td>\n</tr>\n<tr>\n  <th>No. Observations:</th>      <td>   150</td>      <th>  AIC:               </th> <td>   370.0</td>\n</tr>\n<tr>\n  <th>Df Residuals:</th>          <td>   148</td>      <th>  BIC:               </th> <td>   376.0</td>\n</tr>\n<tr>\n  <th>Df Model:</th>              <td>     1</td>      <th>                     </th>     <td> </td>   \n</tr>\n<tr>\n  <th>Covariance Type:</th>      <td>nonrobust</td>    <th>                     </th>     <td> </td>   \n</tr>\n</table>\n<table class=\"simpletable\">\n<tr>\n      <td></td>         <th>coef</th>     <th>std err</th>      <th>t</th>      <th>P>|t|</th>  <th>[0.025</th>    <th>0.975]</th>  \n</tr>\n<tr>\n  <th>Intercept</th> <td>    6.5262</td> <td>    0.479</td> <td>   13.628</td> <td> 0.000</td> <td>    5.580</td> <td>    7.473</td>\n</tr>\n<tr>\n  <th>SW</th>        <td>   -0.2234</td> <td>    0.155</td> <td>   -1.440</td> <td> 0.152</td> <td>   -0.530</td> <td>    0.083</td>\n</tr>\n</table>\n<table class=\"simpletable\">\n<tr>\n  <th>Omnibus:</th>       <td> 4.389</td> <th>  Durbin-Watson:     </th> <td>   0.952</td>\n</tr>\n<tr>\n  <th>Prob(Omnibus):</th> <td> 0.111</td> <th>  Jarque-Bera (JB):  </th> <td>   4.237</td>\n</tr>\n<tr>\n  <th>Skew:</th>          <td> 0.360</td> <th>  Prob(JB):          </th> <td>   0.120</td>\n</tr>\n<tr>\n  <th>Kurtosis:</th>      <td> 2.600</td> <th>  Cond. No.          </th> <td>    24.2</td>\n</tr>\n</table><br/><br/>Notes:<br/>[1] Standard Errors assume that the covariance matrix of the errors is correctly specified."
     },
     "execution_count": 5,
     "metadata": {},
     "output_type": "execute_result"
    }
   ],
   "source": [
    "model = ols(formula=\"SL ~ SW\", data=df).fit()\n",
    "model.summary()"
   ],
   "metadata": {
    "collapsed": false
   }
  },
  {
   "cell_type": "code",
   "execution_count": 7,
   "outputs": [
    {
     "data": {
      "text/plain": "<class 'statsmodels.iolib.summary.Summary'>\n\"\"\"\n                            OLS Regression Results                            \n==============================================================================\nDep. Variable:                     PL   R-squared:                       0.927\nModel:                            OLS   Adj. R-squared:                  0.927\nMethod:                 Least Squares   F-statistic:                     1882.\nDate:                Mon, 14 Nov 2022   Prob (F-statistic):           4.68e-86\nTime:                        15:27:55   Log-Likelihood:                -101.18\nNo. Observations:                 150   AIC:                             206.4\nDf Residuals:                     148   BIC:                             212.4\nDf Model:                           1                                         \nCovariance Type:            nonrobust                                         \n==============================================================================\n                 coef    std err          t      P>|t|      [0.025      0.975]\n------------------------------------------------------------------------------\nIntercept      1.0836      0.073     14.850      0.000       0.939       1.228\nPW             2.2299      0.051     43.387      0.000       2.128       2.332\n==============================================================================\nOmnibus:                        2.438   Durbin-Watson:                   1.430\nProb(Omnibus):                  0.295   Jarque-Bera (JB):                1.966\nSkew:                           0.211   Prob(JB):                        0.374\nKurtosis:                       3.369   Cond. No.                         3.70\n==============================================================================\n\nNotes:\n[1] Standard Errors assume that the covariance matrix of the errors is correctly specified.\n\"\"\"",
      "text/html": "<table class=\"simpletable\">\n<caption>OLS Regression Results</caption>\n<tr>\n  <th>Dep. Variable:</th>           <td>PL</td>        <th>  R-squared:         </th> <td>   0.927</td>\n</tr>\n<tr>\n  <th>Model:</th>                   <td>OLS</td>       <th>  Adj. R-squared:    </th> <td>   0.927</td>\n</tr>\n<tr>\n  <th>Method:</th>             <td>Least Squares</td>  <th>  F-statistic:       </th> <td>   1882.</td>\n</tr>\n<tr>\n  <th>Date:</th>             <td>Mon, 14 Nov 2022</td> <th>  Prob (F-statistic):</th> <td>4.68e-86</td>\n</tr>\n<tr>\n  <th>Time:</th>                 <td>15:27:55</td>     <th>  Log-Likelihood:    </th> <td> -101.18</td>\n</tr>\n<tr>\n  <th>No. Observations:</th>      <td>   150</td>      <th>  AIC:               </th> <td>   206.4</td>\n</tr>\n<tr>\n  <th>Df Residuals:</th>          <td>   148</td>      <th>  BIC:               </th> <td>   212.4</td>\n</tr>\n<tr>\n  <th>Df Model:</th>              <td>     1</td>      <th>                     </th>     <td> </td>   \n</tr>\n<tr>\n  <th>Covariance Type:</th>      <td>nonrobust</td>    <th>                     </th>     <td> </td>   \n</tr>\n</table>\n<table class=\"simpletable\">\n<tr>\n      <td></td>         <th>coef</th>     <th>std err</th>      <th>t</th>      <th>P>|t|</th>  <th>[0.025</th>    <th>0.975]</th>  \n</tr>\n<tr>\n  <th>Intercept</th> <td>    1.0836</td> <td>    0.073</td> <td>   14.850</td> <td> 0.000</td> <td>    0.939</td> <td>    1.228</td>\n</tr>\n<tr>\n  <th>PW</th>        <td>    2.2299</td> <td>    0.051</td> <td>   43.387</td> <td> 0.000</td> <td>    2.128</td> <td>    2.332</td>\n</tr>\n</table>\n<table class=\"simpletable\">\n<tr>\n  <th>Omnibus:</th>       <td> 2.438</td> <th>  Durbin-Watson:     </th> <td>   1.430</td>\n</tr>\n<tr>\n  <th>Prob(Omnibus):</th> <td> 0.295</td> <th>  Jarque-Bera (JB):  </th> <td>   1.966</td>\n</tr>\n<tr>\n  <th>Skew:</th>          <td> 0.211</td> <th>  Prob(JB):          </th> <td>   0.374</td>\n</tr>\n<tr>\n  <th>Kurtosis:</th>      <td> 3.369</td> <th>  Cond. No.          </th> <td>    3.70</td>\n</tr>\n</table><br/><br/>Notes:<br/>[1] Standard Errors assume that the covariance matrix of the errors is correctly specified."
     },
     "execution_count": 7,
     "metadata": {},
     "output_type": "execute_result"
    }
   ],
   "source": [
    "model = ols(formula=\"PL ~ PW\", data=df).fit()\n",
    "model.summary()"
   ],
   "metadata": {
    "collapsed": false
   }
  },
  {
   "cell_type": "code",
   "execution_count": 9,
   "outputs": [
    {
     "data": {
      "text/plain": "0    1.529546\n1    1.529546\n2    1.529546\n3    1.529546\n4    1.529546\n5    1.975534\ndtype: float64"
     },
     "execution_count": 9,
     "metadata": {},
     "output_type": "execute_result"
    }
   ],
   "source": [
    "model.predict(df.iloc[:6, ])"
   ],
   "metadata": {
    "collapsed": false
   }
  },
  {
   "cell_type": "code",
   "execution_count": 11,
   "outputs": [
    {
     "data": {
      "text/plain": "    SL   SW   PL   PW species      pred\n0  5.1  3.5  1.4  0.2  setosa  1.529546\n1  4.9  3.0  1.4  0.2  setosa  1.529546\n2  4.7  3.2  1.3  0.2  setosa  1.529546\n3  4.6  3.1  1.5  0.2  setosa  1.529546\n4  5.0  3.6  1.4  0.2  setosa  1.529546",
      "text/html": "<div>\n<style scoped>\n    .dataframe tbody tr th:only-of-type {\n        vertical-align: middle;\n    }\n\n    .dataframe tbody tr th {\n        vertical-align: top;\n    }\n\n    .dataframe thead th {\n        text-align: right;\n    }\n</style>\n<table border=\"1\" class=\"dataframe\">\n  <thead>\n    <tr style=\"text-align: right;\">\n      <th></th>\n      <th>SL</th>\n      <th>SW</th>\n      <th>PL</th>\n      <th>PW</th>\n      <th>species</th>\n      <th>pred</th>\n    </tr>\n  </thead>\n  <tbody>\n    <tr>\n      <th>0</th>\n      <td>5.1</td>\n      <td>3.5</td>\n      <td>1.4</td>\n      <td>0.2</td>\n      <td>setosa</td>\n      <td>1.529546</td>\n    </tr>\n    <tr>\n      <th>1</th>\n      <td>4.9</td>\n      <td>3.0</td>\n      <td>1.4</td>\n      <td>0.2</td>\n      <td>setosa</td>\n      <td>1.529546</td>\n    </tr>\n    <tr>\n      <th>2</th>\n      <td>4.7</td>\n      <td>3.2</td>\n      <td>1.3</td>\n      <td>0.2</td>\n      <td>setosa</td>\n      <td>1.529546</td>\n    </tr>\n    <tr>\n      <th>3</th>\n      <td>4.6</td>\n      <td>3.1</td>\n      <td>1.5</td>\n      <td>0.2</td>\n      <td>setosa</td>\n      <td>1.529546</td>\n    </tr>\n    <tr>\n      <th>4</th>\n      <td>5.0</td>\n      <td>3.6</td>\n      <td>1.4</td>\n      <td>0.2</td>\n      <td>setosa</td>\n      <td>1.529546</td>\n    </tr>\n  </tbody>\n</table>\n</div>"
     },
     "execution_count": 11,
     "metadata": {},
     "output_type": "execute_result"
    }
   ],
   "source": [
    "df['pred'] = model.predict(df)\n",
    "df.head()"
   ],
   "metadata": {
    "collapsed": false
   }
  },
  {
   "cell_type": "code",
   "execution_count": 12,
   "outputs": [],
   "source": [
    "from sklearn.linear_model import LinearRegression"
   ],
   "metadata": {
    "collapsed": false
   }
  },
  {
   "cell_type": "code",
   "execution_count": 13,
   "outputs": [],
   "source": [
    "model = LinearRegression().fit(X=df[['PL']], y=df[['PW']])  # 이중 대괄호는 데이터프레임이 풀리지 않음"
   ],
   "metadata": {
    "collapsed": false
   }
  },
  {
   "cell_type": "code",
   "execution_count": 14,
   "outputs": [
    {
     "data": {
      "text/plain": "array([[0.41575542]])"
     },
     "execution_count": 14,
     "metadata": {},
     "output_type": "execute_result"
    }
   ],
   "source": [
    "model.coef_"
   ],
   "metadata": {
    "collapsed": false
   }
  },
  {
   "cell_type": "code",
   "execution_count": 15,
   "outputs": [
    {
     "data": {
      "text/plain": "array([-0.36307552])"
     },
     "execution_count": 15,
     "metadata": {},
     "output_type": "execute_result"
    }
   ],
   "source": [
    "model.intercept_"
   ],
   "metadata": {
    "collapsed": false
   }
  },
  {
   "cell_type": "code",
   "execution_count": 16,
   "outputs": [
    {
     "data": {
      "text/plain": "array([[0.21898206],\n       [0.21898206],\n       [0.17740652],\n       [0.2605576 ],\n       [0.21898206],\n       [0.34370869],\n       [0.21898206],\n       [0.2605576 ],\n       [0.21898206],\n       [0.2605576 ],\n       [0.2605576 ],\n       [0.30213314],\n       [0.21898206],\n       [0.09425544],\n       [0.13583098],\n       [0.2605576 ],\n       [0.17740652],\n       [0.21898206],\n       [0.34370869],\n       [0.2605576 ],\n       [0.34370869],\n       [0.2605576 ],\n       [0.0526799 ],\n       [0.34370869],\n       [0.42685977],\n       [0.30213314],\n       [0.30213314],\n       [0.2605576 ],\n       [0.21898206],\n       [0.30213314],\n       [0.30213314],\n       [0.2605576 ],\n       [0.2605576 ],\n       [0.21898206],\n       [0.2605576 ],\n       [0.13583098],\n       [0.17740652],\n       [0.21898206],\n       [0.17740652],\n       [0.2605576 ],\n       [0.17740652],\n       [0.17740652],\n       [0.17740652],\n       [0.30213314],\n       [0.42685977],\n       [0.21898206],\n       [0.30213314],\n       [0.21898206],\n       [0.2605576 ],\n       [0.21898206],\n       [1.59097494],\n       [1.50782385],\n       [1.67412602],\n       [1.29994614],\n       [1.54939939],\n       [1.50782385],\n       [1.59097494],\n       [1.00891735],\n       [1.54939939],\n       [1.2583706 ],\n       [1.09206844],\n       [1.38309723],\n       [1.29994614],\n       [1.59097494],\n       [1.13364398],\n       [1.46624831],\n       [1.50782385],\n       [1.34152169],\n       [1.50782385],\n       [1.2583706 ],\n       [1.63255048],\n       [1.29994614],\n       [1.67412602],\n       [1.59097494],\n       [1.42467277],\n       [1.46624831],\n       [1.63255048],\n       [1.71570156],\n       [1.50782385],\n       [1.09206844],\n       [1.21679506],\n       [1.17521952],\n       [1.2583706 ],\n       [1.7572771 ],\n       [1.50782385],\n       [1.50782385],\n       [1.59097494],\n       [1.46624831],\n       [1.34152169],\n       [1.29994614],\n       [1.46624831],\n       [1.54939939],\n       [1.29994614],\n       [1.00891735],\n       [1.38309723],\n       [1.38309723],\n       [1.38309723],\n       [1.42467277],\n       [0.88419073],\n       [1.34152169],\n       [2.13145698],\n       [1.7572771 ],\n       [2.08988144],\n       [1.96515481],\n       [2.04830589],\n       [2.38091023],\n       [1.50782385],\n       [2.2561836 ],\n       [2.04830589],\n       [2.17303252],\n       [1.7572771 ],\n       [1.84042819],\n       [1.92357927],\n       [1.71570156],\n       [1.7572771 ],\n       [1.84042819],\n       [1.92357927],\n       [2.42248577],\n       [2.50563685],\n       [1.71570156],\n       [2.00673035],\n       [1.67412602],\n       [2.42248577],\n       [1.67412602],\n       [2.00673035],\n       [2.13145698],\n       [1.63255048],\n       [1.67412602],\n       [1.96515481],\n       [2.04830589],\n       [2.17303252],\n       [2.29775914],\n       [1.96515481],\n       [1.7572771 ],\n       [1.96515481],\n       [2.17303252],\n       [1.96515481],\n       [1.92357927],\n       [1.63255048],\n       [1.88200373],\n       [1.96515481],\n       [1.7572771 ],\n       [1.7572771 ],\n       [2.08988144],\n       [2.00673035],\n       [1.79885264],\n       [1.71570156],\n       [1.79885264],\n       [1.88200373],\n       [1.7572771 ]])"
     },
     "execution_count": 16,
     "metadata": {},
     "output_type": "execute_result"
    }
   ],
   "source": [
    "model.predict(df[['PL']])"
   ],
   "metadata": {
    "collapsed": false
   }
  },
  {
   "cell_type": "code",
   "execution_count": 17,
   "outputs": [],
   "source": [
    "from sklearn.metrics import mean_absolute_error\n",
    "from sklearn.metrics import mean_squared_error"
   ],
   "metadata": {
    "collapsed": false
   }
  },
  {
   "cell_type": "code",
   "execution_count": 18,
   "outputs": [
    {
     "data": {
      "text/plain": "2.558666666666667"
     },
     "execution_count": 18,
     "metadata": {},
     "output_type": "execute_result"
    }
   ],
   "source": [
    "mean_absolute_error(y_true=df['PL'], y_pred=df['PW'])"
   ],
   "metadata": {
    "collapsed": false
   }
  },
  {
   "cell_type": "code",
   "execution_count": 19,
   "outputs": [
    {
     "data": {
      "text/plain": "7.645466666666667"
     },
     "execution_count": 19,
     "metadata": {},
     "output_type": "execute_result"
    }
   ],
   "source": [
    "mean_squared_error(y_true=df['PL'], y_pred=df['PW'])"
   ],
   "metadata": {
    "collapsed": false
   }
  },
  {
   "cell_type": "code",
   "execution_count": 20,
   "outputs": [
    {
     "data": {
      "text/plain": "2.76504370067937"
     },
     "execution_count": 20,
     "metadata": {},
     "output_type": "execute_result"
    }
   ],
   "source": [
    "mean_squared_error(y_true=df['PL'], y_pred=df['PW']) ** 0.5  # RMSE(Root Mean Squared Error, 0.5제곱은 제곱근임)"
   ],
   "metadata": {
    "collapsed": false
   }
  },
  {
   "cell_type": "markdown",
   "source": [
    "### 1. 종속변수를 registered, 독립변수를 temp로 했을 때 결정계수는?\n",
    "\n",
    "bike.csv 파일 사용\n",
    "statsmodels 함수 사용\n",
    "학습 데이터 비율을 70%, seed를 123으로 설정\n",
    "\n",
    "1. 0.106\n",
    "2. 0.101\n",
    "3. 0.152\n",
    "4. 0.116"
   ],
   "metadata": {
    "collapsed": false
   }
  },
  {
   "cell_type": "code",
   "execution_count": 21,
   "outputs": [
    {
     "data": {
      "text/plain": "              datetime  season  holiday  workingday  weather  temp   atemp  \\\n0  2011-01-01 00:00:00       1        0           0        1  9.84  14.395   \n1  2011-01-01 01:00:00       1        0           0        1  9.02  13.635   \n\n   humidity  windspeed  casual  registered  count  \n0        81        0.0       3          13     16  \n1        80        0.0       8          32     40  ",
      "text/html": "<div>\n<style scoped>\n    .dataframe tbody tr th:only-of-type {\n        vertical-align: middle;\n    }\n\n    .dataframe tbody tr th {\n        vertical-align: top;\n    }\n\n    .dataframe thead th {\n        text-align: right;\n    }\n</style>\n<table border=\"1\" class=\"dataframe\">\n  <thead>\n    <tr style=\"text-align: right;\">\n      <th></th>\n      <th>datetime</th>\n      <th>season</th>\n      <th>holiday</th>\n      <th>workingday</th>\n      <th>weather</th>\n      <th>temp</th>\n      <th>atemp</th>\n      <th>humidity</th>\n      <th>windspeed</th>\n      <th>casual</th>\n      <th>registered</th>\n      <th>count</th>\n    </tr>\n  </thead>\n  <tbody>\n    <tr>\n      <th>0</th>\n      <td>2011-01-01 00:00:00</td>\n      <td>1</td>\n      <td>0</td>\n      <td>0</td>\n      <td>1</td>\n      <td>9.84</td>\n      <td>14.395</td>\n      <td>81</td>\n      <td>0.0</td>\n      <td>3</td>\n      <td>13</td>\n      <td>16</td>\n    </tr>\n    <tr>\n      <th>1</th>\n      <td>2011-01-01 01:00:00</td>\n      <td>1</td>\n      <td>0</td>\n      <td>0</td>\n      <td>1</td>\n      <td>9.02</td>\n      <td>13.635</td>\n      <td>80</td>\n      <td>0.0</td>\n      <td>8</td>\n      <td>32</td>\n      <td>40</td>\n    </tr>\n  </tbody>\n</table>\n</div>"
     },
     "execution_count": 21,
     "metadata": {},
     "output_type": "execute_result"
    }
   ],
   "source": [
    "df = pd.read_csv('../datasets/bike.csv')\n",
    "df.head(2)"
   ],
   "metadata": {
    "collapsed": false
   }
  },
  {
   "cell_type": "code",
   "execution_count": 22,
   "outputs": [],
   "source": [
    "from sklearn.model_selection import train_test_split"
   ],
   "metadata": {
    "collapsed": false
   }
  },
  {
   "cell_type": "code",
   "execution_count": 23,
   "outputs": [
    {
     "name": "stdout",
     "output_type": "stream",
     "text": [
      "                 datetime  season  holiday  workingday  weather   temp  \\\n",
      "4046  2011-09-19 15:00:00       3        0           1        2  24.60   \n",
      "9262  2012-09-09 07:00:00       3        0           0        1  22.14   \n",
      "\n",
      "       atemp  humidity  windspeed  casual  registered  count  \n",
      "4046  30.305        60    15.0013      44         143    187  \n",
      "9262  25.760        73    11.0014      20          50     70  \n",
      "                 datetime  season  holiday  workingday  weather   temp  atemp  \\\n",
      "6495  2012-03-07 21:00:00       1        0           1        1  18.04  21.97   \n",
      "7050  2012-04-12 03:00:00       2        0           1        1  13.12  15.15   \n",
      "\n",
      "      humidity  windspeed  casual  registered  count  \n",
      "6495        62    16.9979      11         177    188  \n",
      "7050        61    16.9979       2           3      5  \n"
     ]
    }
   ],
   "source": [
    "df_train, df_test = train_test_split(df, train_size=0.7, random_state=123)\n",
    "print(df_train.head(2))\n",
    "print(df_test.head(2))"
   ],
   "metadata": {
    "collapsed": false
   }
  },
  {
   "cell_type": "code",
   "execution_count": 24,
   "outputs": [
    {
     "data": {
      "text/plain": "<class 'statsmodels.iolib.summary.Summary'>\n\"\"\"\n                            OLS Regression Results                            \n==============================================================================\nDep. Variable:             registered   R-squared:                       0.106\nModel:                            OLS   Adj. R-squared:                  0.106\nMethod:                 Least Squares   F-statistic:                     902.3\nDate:                Mon, 14 Nov 2022   Prob (F-statistic):          1.92e-187\nTime:                        15:51:05   Log-Likelihood:                -48650.\nNo. Observations:                7620   AIC:                         9.730e+04\nDf Residuals:                    7618   BIC:                         9.732e+04\nDf Model:                           1                                         \nCovariance Type:            nonrobust                                         \n==============================================================================\n                 coef    std err          t      P>|t|      [0.025      0.975]\n------------------------------------------------------------------------------\nIntercept     27.5151      4.559      6.036      0.000      18.579      36.452\ntemp           6.3391      0.211     30.038      0.000       5.925       6.753\n==============================================================================\nOmnibus:                     2097.525   Durbin-Watson:                   2.022\nProb(Omnibus):                  0.000   Jarque-Bera (JB):             5337.402\nSkew:                           1.502   Prob(JB):                         0.00\nKurtosis:                       5.790   Cond. No.                         60.1\n==============================================================================\n\nNotes:\n[1] Standard Errors assume that the covariance matrix of the errors is correctly specified.\n\"\"\"",
      "text/html": "<table class=\"simpletable\">\n<caption>OLS Regression Results</caption>\n<tr>\n  <th>Dep. Variable:</th>       <td>registered</td>    <th>  R-squared:         </th> <td>   0.106</td> \n</tr>\n<tr>\n  <th>Model:</th>                   <td>OLS</td>       <th>  Adj. R-squared:    </th> <td>   0.106</td> \n</tr>\n<tr>\n  <th>Method:</th>             <td>Least Squares</td>  <th>  F-statistic:       </th> <td>   902.3</td> \n</tr>\n<tr>\n  <th>Date:</th>             <td>Mon, 14 Nov 2022</td> <th>  Prob (F-statistic):</th> <td>1.92e-187</td>\n</tr>\n<tr>\n  <th>Time:</th>                 <td>15:51:05</td>     <th>  Log-Likelihood:    </th> <td> -48650.</td> \n</tr>\n<tr>\n  <th>No. Observations:</th>      <td>  7620</td>      <th>  AIC:               </th> <td>9.730e+04</td>\n</tr>\n<tr>\n  <th>Df Residuals:</th>          <td>  7618</td>      <th>  BIC:               </th> <td>9.732e+04</td>\n</tr>\n<tr>\n  <th>Df Model:</th>              <td>     1</td>      <th>                     </th>     <td> </td>    \n</tr>\n<tr>\n  <th>Covariance Type:</th>      <td>nonrobust</td>    <th>                     </th>     <td> </td>    \n</tr>\n</table>\n<table class=\"simpletable\">\n<tr>\n      <td></td>         <th>coef</th>     <th>std err</th>      <th>t</th>      <th>P>|t|</th>  <th>[0.025</th>    <th>0.975]</th>  \n</tr>\n<tr>\n  <th>Intercept</th> <td>   27.5151</td> <td>    4.559</td> <td>    6.036</td> <td> 0.000</td> <td>   18.579</td> <td>   36.452</td>\n</tr>\n<tr>\n  <th>temp</th>      <td>    6.3391</td> <td>    0.211</td> <td>   30.038</td> <td> 0.000</td> <td>    5.925</td> <td>    6.753</td>\n</tr>\n</table>\n<table class=\"simpletable\">\n<tr>\n  <th>Omnibus:</th>       <td>2097.525</td> <th>  Durbin-Watson:     </th> <td>   2.022</td>\n</tr>\n<tr>\n  <th>Prob(Omnibus):</th>  <td> 0.000</td>  <th>  Jarque-Bera (JB):  </th> <td>5337.402</td>\n</tr>\n<tr>\n  <th>Skew:</th>           <td> 1.502</td>  <th>  Prob(JB):          </th> <td>    0.00</td>\n</tr>\n<tr>\n  <th>Kurtosis:</th>       <td> 5.790</td>  <th>  Cond. No.          </th> <td>    60.1</td>\n</tr>\n</table><br/><br/>Notes:<br/>[1] Standard Errors assume that the covariance matrix of the errors is correctly specified."
     },
     "execution_count": 24,
     "metadata": {},
     "output_type": "execute_result"
    }
   ],
   "source": [
    "model = ols(formula='registered ~ temp', data=df_train).fit()\n",
    "model.summary()"
   ],
   "metadata": {
    "collapsed": false
   }
  },
  {
   "cell_type": "markdown",
   "source": [
    "### 2. 종속변수를 `casual`, 독립변수를 atemp로 했을 때 RMSE는?\n",
    "\n",
    "bike.csv 파일 사용\n",
    "statsmodels 함수 활용\n",
    "학습 데이터 비율을 70%, seed를 123으로 설정\n",
    "\n",
    "1. 1957.2\n",
    "2. 44.2\n",
    "3. 23.3\n",
    "4. 44.5"
   ],
   "metadata": {
    "collapsed": false
   }
  },
  {
   "cell_type": "code",
   "execution_count": 25,
   "outputs": [],
   "source": [
    "df = pd.read_csv('../datasets/bike.csv')\n",
    "df_train, df_test = train_test_split(df, train_size=0.7, random_state=123)"
   ],
   "metadata": {
    "collapsed": false
   }
  },
  {
   "cell_type": "code",
   "execution_count": 26,
   "outputs": [
    {
     "name": "stderr",
     "output_type": "stream",
     "text": [
      "C:\\Users\\Lee\\AppData\\Local\\Temp\\ipykernel_4840\\4112327965.py:3: FutureWarning: The behavior of `series[i:j]` with an integer-dtype index is deprecated. In a future version, this will be treated as *label-based* indexing, consistent with e.g. `series[i]` lookups. To retain the old behavior, use `series.iloc[i:j]`. To get the future behavior, use `series.loc[i:j]`.\n",
      "  pred[:4]\n"
     ]
    },
    {
     "data": {
      "text/plain": "6495    31.499001\n7050    12.626390\n558     10.537120\n5085    33.588271\ndtype: float64"
     },
     "execution_count": 26,
     "metadata": {},
     "output_type": "execute_result"
    }
   ],
   "source": [
    "model = ols(formula='casual ~ atemp', data=df_train).fit()\n",
    "pred = model.predict(df_test)\n",
    "pred[:4]"
   ],
   "metadata": {
    "collapsed": false
   }
  },
  {
   "cell_type": "code",
   "execution_count": 27,
   "outputs": [
    {
     "data": {
      "text/plain": "44.46237010271433"
     },
     "execution_count": 27,
     "metadata": {},
     "output_type": "execute_result"
    }
   ],
   "source": [
    "mean_squared_error(y_pred=pred, y_true=df_test['casual']) ** 0.5"
   ],
   "metadata": {
    "collapsed": false
   }
  },
  {
   "cell_type": "markdown",
   "source": [
    "### 3. 종속변수를 casual, 독립변수를 atemp로 했을 때 여름과 겨울의 RMSE 차이는?\n",
    "\n",
    "bike.csv 파일 사용\n",
    "statsmodels 함수 활용\n",
    "학습 데이터 비율을 70%, seed를 123으로 설정\n",
    "RMSE의 차이는 절대값을 취한다.\n",
    "\n",
    "1. 41.1\n",
    "2. 49.8\n",
    "3. 8.6\n",
    "4. 12.4"
   ],
   "metadata": {
    "collapsed": false
   }
  },
  {
   "cell_type": "code",
   "execution_count": 40,
   "outputs": [],
   "source": [
    "df = pd.read_csv('../datasets/bike.csv')\n",
    "df_s2 = df.loc[df['season'] == 2,]\n",
    "df_s4 = df.loc[df['season'] == 4,]"
   ],
   "metadata": {
    "collapsed": false
   }
  },
  {
   "cell_type": "code",
   "execution_count": 41,
   "outputs": [],
   "source": [
    "df_s2_train, df_s2_test = train_test_split(df_s2, train_size=0.7, random_state=123)\n",
    "df_s4_train, df_s4_test = train_test_split(df_s4, train_size=0.7, random_state=123)"
   ],
   "metadata": {
    "collapsed": false
   }
  },
  {
   "cell_type": "code",
   "execution_count": 43,
   "outputs": [],
   "source": [
    "model_s2 = ols(formula='casual ~ atemp', data=df_s2_train).fit()\n",
    "model_s4 = ols(formula='casual ~ atemp', data=df_s4_train).fit()\n",
    "pred_s2 = model_s2.predict(df_s2_test)\n",
    "pred_s4 = model_s4.predict(df_s4_test)"
   ],
   "metadata": {
    "collapsed": false
   }
  },
  {
   "cell_type": "code",
   "execution_count": 46,
   "outputs": [
    {
     "data": {
      "text/plain": "8.648423450414171"
     },
     "execution_count": 46,
     "metadata": {},
     "output_type": "execute_result"
    }
   ],
   "source": [
    "RMSE_s2 = mean_squared_error(y_pred=pred_s2, y_true=df_s2_test['casual']) ** 0.5\n",
    "RMSE_s4 = mean_squared_error(y_pred=pred_s4, y_true=df_s4_test['casual']) ** 0.5\n",
    "abs(RMSE_s2 - RMSE_s4)"
   ],
   "metadata": {
    "collapsed": false
   }
  }
 ],
 "metadata": {
  "kernelspec": {
   "display_name": "Python 3",
   "language": "python",
   "name": "python3"
  },
  "language_info": {
   "codemirror_mode": {
    "name": "ipython",
    "version": 2
   },
   "file_extension": ".py",
   "mimetype": "text/x-python",
   "name": "python",
   "nbconvert_exporter": "python",
   "pygments_lexer": "ipython2",
   "version": "2.7.6"
  }
 },
 "nbformat": 4,
 "nbformat_minor": 0
}
