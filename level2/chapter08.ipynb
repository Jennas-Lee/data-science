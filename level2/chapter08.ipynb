{
 "cells": [
  {
   "cell_type": "markdown",
   "source": [
    "# 데이터 전처리: 데이터 병합"
   ],
   "metadata": {
    "collapsed": false
   }
  },
  {
   "cell_type": "code",
   "execution_count": 1,
   "outputs": [],
   "source": [
    "import pandas as pd"
   ],
   "metadata": {
    "collapsed": false
   }
  },
  {
   "cell_type": "code",
   "execution_count": 2,
   "outputs": [
    {
     "data": {
      "text/plain": "              datetime  season  holiday  workingday  weather  temp   atemp  \\\n0  2011-01-01 00:00:00       1        0           0        1  9.84  14.395   \n1  2011-01-01 01:00:00       1        0           0        1  9.02  13.635   \n\n   humidity  windspeed  casual  registered  count  \n0        81        0.0       3          13     16  \n1        80        0.0       8          32     40  ",
      "text/html": "<div>\n<style scoped>\n    .dataframe tbody tr th:only-of-type {\n        vertical-align: middle;\n    }\n\n    .dataframe tbody tr th {\n        vertical-align: top;\n    }\n\n    .dataframe thead th {\n        text-align: right;\n    }\n</style>\n<table border=\"1\" class=\"dataframe\">\n  <thead>\n    <tr style=\"text-align: right;\">\n      <th></th>\n      <th>datetime</th>\n      <th>season</th>\n      <th>holiday</th>\n      <th>workingday</th>\n      <th>weather</th>\n      <th>temp</th>\n      <th>atemp</th>\n      <th>humidity</th>\n      <th>windspeed</th>\n      <th>casual</th>\n      <th>registered</th>\n      <th>count</th>\n    </tr>\n  </thead>\n  <tbody>\n    <tr>\n      <th>0</th>\n      <td>2011-01-01 00:00:00</td>\n      <td>1</td>\n      <td>0</td>\n      <td>0</td>\n      <td>1</td>\n      <td>9.84</td>\n      <td>14.395</td>\n      <td>81</td>\n      <td>0.0</td>\n      <td>3</td>\n      <td>13</td>\n      <td>16</td>\n    </tr>\n    <tr>\n      <th>1</th>\n      <td>2011-01-01 01:00:00</td>\n      <td>1</td>\n      <td>0</td>\n      <td>0</td>\n      <td>1</td>\n      <td>9.02</td>\n      <td>13.635</td>\n      <td>80</td>\n      <td>0.0</td>\n      <td>8</td>\n      <td>32</td>\n      <td>40</td>\n    </tr>\n  </tbody>\n</table>\n</div>"
     },
     "execution_count": 2,
     "metadata": {},
     "output_type": "execute_result"
    }
   ],
   "source": [
    "bike = pd.read_csv('../datasets/bike.csv')\n",
    "bike.head(2)"
   ],
   "metadata": {
    "collapsed": false
   }
  },
  {
   "cell_type": "code",
   "execution_count": 3,
   "outputs": [
    {
     "data": {
      "text/plain": "                 datetime  season  holiday  workingday  weather   temp  \\\n6495  2012-03-07 21:00:00       1        0           1        1  18.04   \n7050  2012-04-12 03:00:00       2        0           1        1  13.12   \n558   2011-02-06 10:00:00       1        0           0        1  12.30   \n5085  2011-12-05 23:00:00       4        0           1        2  18.86   \n\n       atemp  humidity  windspeed  casual  registered  count  \n6495  21.970        62    16.9979      11         177    188  \n7050  15.150        61    16.9979       2           3      5  \n558   14.395        52    16.9979      15          74     89  \n5085  22.725        88     8.9981       8          54     62  ",
      "text/html": "<div>\n<style scoped>\n    .dataframe tbody tr th:only-of-type {\n        vertical-align: middle;\n    }\n\n    .dataframe tbody tr th {\n        vertical-align: top;\n    }\n\n    .dataframe thead th {\n        text-align: right;\n    }\n</style>\n<table border=\"1\" class=\"dataframe\">\n  <thead>\n    <tr style=\"text-align: right;\">\n      <th></th>\n      <th>datetime</th>\n      <th>season</th>\n      <th>holiday</th>\n      <th>workingday</th>\n      <th>weather</th>\n      <th>temp</th>\n      <th>atemp</th>\n      <th>humidity</th>\n      <th>windspeed</th>\n      <th>casual</th>\n      <th>registered</th>\n      <th>count</th>\n    </tr>\n  </thead>\n  <tbody>\n    <tr>\n      <th>6495</th>\n      <td>2012-03-07 21:00:00</td>\n      <td>1</td>\n      <td>0</td>\n      <td>1</td>\n      <td>1</td>\n      <td>18.04</td>\n      <td>21.970</td>\n      <td>62</td>\n      <td>16.9979</td>\n      <td>11</td>\n      <td>177</td>\n      <td>188</td>\n    </tr>\n    <tr>\n      <th>7050</th>\n      <td>2012-04-12 03:00:00</td>\n      <td>2</td>\n      <td>0</td>\n      <td>1</td>\n      <td>1</td>\n      <td>13.12</td>\n      <td>15.150</td>\n      <td>61</td>\n      <td>16.9979</td>\n      <td>2</td>\n      <td>3</td>\n      <td>5</td>\n    </tr>\n    <tr>\n      <th>558</th>\n      <td>2011-02-06 10:00:00</td>\n      <td>1</td>\n      <td>0</td>\n      <td>0</td>\n      <td>1</td>\n      <td>12.30</td>\n      <td>14.395</td>\n      <td>52</td>\n      <td>16.9979</td>\n      <td>15</td>\n      <td>74</td>\n      <td>89</td>\n    </tr>\n    <tr>\n      <th>5085</th>\n      <td>2011-12-05 23:00:00</td>\n      <td>4</td>\n      <td>0</td>\n      <td>1</td>\n      <td>2</td>\n      <td>18.86</td>\n      <td>22.725</td>\n      <td>88</td>\n      <td>8.9981</td>\n      <td>8</td>\n      <td>54</td>\n      <td>62</td>\n    </tr>\n  </tbody>\n</table>\n</div>"
     },
     "execution_count": 3,
     "metadata": {},
     "output_type": "execute_result"
    }
   ],
   "source": [
    "bike_sub = bike.sample(n=4, random_state=123)\n",
    "bike_sub"
   ],
   "metadata": {
    "collapsed": false
   }
  },
  {
   "cell_type": "code",
   "execution_count": 5,
   "outputs": [
    {
     "data": {
      "text/plain": "   index             datetime  season  holiday  workingday  weather   temp  \\\n0   6495  2012-03-07 21:00:00       1        0           1        1  18.04   \n1   7050  2012-04-12 03:00:00       2        0           1        1  13.12   \n2    558  2011-02-06 10:00:00       1        0           0        1  12.30   \n3   5085  2011-12-05 23:00:00       4        0           1        2  18.86   \n\n    atemp  humidity  windspeed  casual  registered  count  \n0  21.970        62    16.9979      11         177    188  \n1  15.150        61    16.9979       2           3      5  \n2  14.395        52    16.9979      15          74     89  \n3  22.725        88     8.9981       8          54     62  ",
      "text/html": "<div>\n<style scoped>\n    .dataframe tbody tr th:only-of-type {\n        vertical-align: middle;\n    }\n\n    .dataframe tbody tr th {\n        vertical-align: top;\n    }\n\n    .dataframe thead th {\n        text-align: right;\n    }\n</style>\n<table border=\"1\" class=\"dataframe\">\n  <thead>\n    <tr style=\"text-align: right;\">\n      <th></th>\n      <th>index</th>\n      <th>datetime</th>\n      <th>season</th>\n      <th>holiday</th>\n      <th>workingday</th>\n      <th>weather</th>\n      <th>temp</th>\n      <th>atemp</th>\n      <th>humidity</th>\n      <th>windspeed</th>\n      <th>casual</th>\n      <th>registered</th>\n      <th>count</th>\n    </tr>\n  </thead>\n  <tbody>\n    <tr>\n      <th>0</th>\n      <td>6495</td>\n      <td>2012-03-07 21:00:00</td>\n      <td>1</td>\n      <td>0</td>\n      <td>1</td>\n      <td>1</td>\n      <td>18.04</td>\n      <td>21.970</td>\n      <td>62</td>\n      <td>16.9979</td>\n      <td>11</td>\n      <td>177</td>\n      <td>188</td>\n    </tr>\n    <tr>\n      <th>1</th>\n      <td>7050</td>\n      <td>2012-04-12 03:00:00</td>\n      <td>2</td>\n      <td>0</td>\n      <td>1</td>\n      <td>1</td>\n      <td>13.12</td>\n      <td>15.150</td>\n      <td>61</td>\n      <td>16.9979</td>\n      <td>2</td>\n      <td>3</td>\n      <td>5</td>\n    </tr>\n    <tr>\n      <th>2</th>\n      <td>558</td>\n      <td>2011-02-06 10:00:00</td>\n      <td>1</td>\n      <td>0</td>\n      <td>0</td>\n      <td>1</td>\n      <td>12.30</td>\n      <td>14.395</td>\n      <td>52</td>\n      <td>16.9979</td>\n      <td>15</td>\n      <td>74</td>\n      <td>89</td>\n    </tr>\n    <tr>\n      <th>3</th>\n      <td>5085</td>\n      <td>2011-12-05 23:00:00</td>\n      <td>4</td>\n      <td>0</td>\n      <td>1</td>\n      <td>2</td>\n      <td>18.86</td>\n      <td>22.725</td>\n      <td>88</td>\n      <td>8.9981</td>\n      <td>8</td>\n      <td>54</td>\n      <td>62</td>\n    </tr>\n  </tbody>\n</table>\n</div>"
     },
     "execution_count": 5,
     "metadata": {},
     "output_type": "execute_result"
    }
   ],
   "source": [
    "bike_sub.reset_index()"
   ],
   "metadata": {
    "collapsed": false
   }
  },
  {
   "cell_type": "code",
   "execution_count": 6,
   "outputs": [
    {
     "data": {
      "text/plain": "              datetime  season  holiday  workingday  weather   temp   atemp  \\\n0  2012-03-07 21:00:00       1        0           1        1  18.04  21.970   \n1  2012-04-12 03:00:00       2        0           1        1  13.12  15.150   \n2  2011-02-06 10:00:00       1        0           0        1  12.30  14.395   \n3  2011-12-05 23:00:00       4        0           1        2  18.86  22.725   \n\n   humidity  windspeed  casual  registered  count  \n0        62    16.9979      11         177    188  \n1        61    16.9979       2           3      5  \n2        52    16.9979      15          74     89  \n3        88     8.9981       8          54     62  ",
      "text/html": "<div>\n<style scoped>\n    .dataframe tbody tr th:only-of-type {\n        vertical-align: middle;\n    }\n\n    .dataframe tbody tr th {\n        vertical-align: top;\n    }\n\n    .dataframe thead th {\n        text-align: right;\n    }\n</style>\n<table border=\"1\" class=\"dataframe\">\n  <thead>\n    <tr style=\"text-align: right;\">\n      <th></th>\n      <th>datetime</th>\n      <th>season</th>\n      <th>holiday</th>\n      <th>workingday</th>\n      <th>weather</th>\n      <th>temp</th>\n      <th>atemp</th>\n      <th>humidity</th>\n      <th>windspeed</th>\n      <th>casual</th>\n      <th>registered</th>\n      <th>count</th>\n    </tr>\n  </thead>\n  <tbody>\n    <tr>\n      <th>0</th>\n      <td>2012-03-07 21:00:00</td>\n      <td>1</td>\n      <td>0</td>\n      <td>1</td>\n      <td>1</td>\n      <td>18.04</td>\n      <td>21.970</td>\n      <td>62</td>\n      <td>16.9979</td>\n      <td>11</td>\n      <td>177</td>\n      <td>188</td>\n    </tr>\n    <tr>\n      <th>1</th>\n      <td>2012-04-12 03:00:00</td>\n      <td>2</td>\n      <td>0</td>\n      <td>1</td>\n      <td>1</td>\n      <td>13.12</td>\n      <td>15.150</td>\n      <td>61</td>\n      <td>16.9979</td>\n      <td>2</td>\n      <td>3</td>\n      <td>5</td>\n    </tr>\n    <tr>\n      <th>2</th>\n      <td>2011-02-06 10:00:00</td>\n      <td>1</td>\n      <td>0</td>\n      <td>0</td>\n      <td>1</td>\n      <td>12.30</td>\n      <td>14.395</td>\n      <td>52</td>\n      <td>16.9979</td>\n      <td>15</td>\n      <td>74</td>\n      <td>89</td>\n    </tr>\n    <tr>\n      <th>3</th>\n      <td>2011-12-05 23:00:00</td>\n      <td>4</td>\n      <td>0</td>\n      <td>1</td>\n      <td>2</td>\n      <td>18.86</td>\n      <td>22.725</td>\n      <td>88</td>\n      <td>8.9981</td>\n      <td>8</td>\n      <td>54</td>\n      <td>62</td>\n    </tr>\n  </tbody>\n</table>\n</div>"
     },
     "execution_count": 6,
     "metadata": {},
     "output_type": "execute_result"
    }
   ],
   "source": [
    "bike_sub.reset_index(drop=True) # 원래 있던 인덱스 버림"
   ],
   "metadata": {
    "collapsed": false
   }
  },
  {
   "cell_type": "code",
   "execution_count": 9,
   "outputs": [
    {
     "data": {
      "text/plain": "              datetime  season  holiday  workingday  weather   temp   atemp  \\\n0  2012-03-07 21:00:00       1        0           1        1  18.04  21.970   \n1  2012-04-12 03:00:00       2        0           1        1  13.12  15.150   \n2  2011-02-06 10:00:00       1        0           0        1  12.30  14.395   \n3  2011-12-05 23:00:00       4        0           1        2  18.86  22.725   \n\n   humidity  windspeed  casual  registered  count  \n0        62    16.9979      11         177    188  \n1        61    16.9979       2           3      5  \n2        52    16.9979      15          74     89  \n3        88     8.9981       8          54     62  ",
      "text/html": "<div>\n<style scoped>\n    .dataframe tbody tr th:only-of-type {\n        vertical-align: middle;\n    }\n\n    .dataframe tbody tr th {\n        vertical-align: top;\n    }\n\n    .dataframe thead th {\n        text-align: right;\n    }\n</style>\n<table border=\"1\" class=\"dataframe\">\n  <thead>\n    <tr style=\"text-align: right;\">\n      <th></th>\n      <th>datetime</th>\n      <th>season</th>\n      <th>holiday</th>\n      <th>workingday</th>\n      <th>weather</th>\n      <th>temp</th>\n      <th>atemp</th>\n      <th>humidity</th>\n      <th>windspeed</th>\n      <th>casual</th>\n      <th>registered</th>\n      <th>count</th>\n    </tr>\n  </thead>\n  <tbody>\n    <tr>\n      <th>0</th>\n      <td>2012-03-07 21:00:00</td>\n      <td>1</td>\n      <td>0</td>\n      <td>1</td>\n      <td>1</td>\n      <td>18.04</td>\n      <td>21.970</td>\n      <td>62</td>\n      <td>16.9979</td>\n      <td>11</td>\n      <td>177</td>\n      <td>188</td>\n    </tr>\n    <tr>\n      <th>1</th>\n      <td>2012-04-12 03:00:00</td>\n      <td>2</td>\n      <td>0</td>\n      <td>1</td>\n      <td>1</td>\n      <td>13.12</td>\n      <td>15.150</td>\n      <td>61</td>\n      <td>16.9979</td>\n      <td>2</td>\n      <td>3</td>\n      <td>5</td>\n    </tr>\n    <tr>\n      <th>2</th>\n      <td>2011-02-06 10:00:00</td>\n      <td>1</td>\n      <td>0</td>\n      <td>0</td>\n      <td>1</td>\n      <td>12.30</td>\n      <td>14.395</td>\n      <td>52</td>\n      <td>16.9979</td>\n      <td>15</td>\n      <td>74</td>\n      <td>89</td>\n    </tr>\n    <tr>\n      <th>3</th>\n      <td>2011-12-05 23:00:00</td>\n      <td>4</td>\n      <td>0</td>\n      <td>1</td>\n      <td>2</td>\n      <td>18.86</td>\n      <td>22.725</td>\n      <td>88</td>\n      <td>8.9981</td>\n      <td>8</td>\n      <td>54</td>\n      <td>62</td>\n    </tr>\n  </tbody>\n</table>\n</div>"
     },
     "execution_count": 9,
     "metadata": {},
     "output_type": "execute_result"
    }
   ],
   "source": [
    "bike_sub = bike_sub.reset_index(drop=True)\n",
    "bike_sub"
   ],
   "metadata": {
    "collapsed": false
   }
  },
  {
   "cell_type": "code",
   "execution_count": 10,
   "outputs": [
    {
     "data": {
      "text/plain": "                     season  holiday  workingday  weather   temp   atemp  \\\ndatetime                                                                   \n2012-03-07 21:00:00       1        0           1        1  18.04  21.970   \n2012-04-12 03:00:00       2        0           1        1  13.12  15.150   \n2011-02-06 10:00:00       1        0           0        1  12.30  14.395   \n2011-12-05 23:00:00       4        0           1        2  18.86  22.725   \n\n                     humidity  windspeed  casual  registered  count  \ndatetime                                                             \n2012-03-07 21:00:00        62    16.9979      11         177    188  \n2012-04-12 03:00:00        61    16.9979       2           3      5  \n2011-02-06 10:00:00        52    16.9979      15          74     89  \n2011-12-05 23:00:00        88     8.9981       8          54     62  ",
      "text/html": "<div>\n<style scoped>\n    .dataframe tbody tr th:only-of-type {\n        vertical-align: middle;\n    }\n\n    .dataframe tbody tr th {\n        vertical-align: top;\n    }\n\n    .dataframe thead th {\n        text-align: right;\n    }\n</style>\n<table border=\"1\" class=\"dataframe\">\n  <thead>\n    <tr style=\"text-align: right;\">\n      <th></th>\n      <th>season</th>\n      <th>holiday</th>\n      <th>workingday</th>\n      <th>weather</th>\n      <th>temp</th>\n      <th>atemp</th>\n      <th>humidity</th>\n      <th>windspeed</th>\n      <th>casual</th>\n      <th>registered</th>\n      <th>count</th>\n    </tr>\n    <tr>\n      <th>datetime</th>\n      <th></th>\n      <th></th>\n      <th></th>\n      <th></th>\n      <th></th>\n      <th></th>\n      <th></th>\n      <th></th>\n      <th></th>\n      <th></th>\n      <th></th>\n    </tr>\n  </thead>\n  <tbody>\n    <tr>\n      <th>2012-03-07 21:00:00</th>\n      <td>1</td>\n      <td>0</td>\n      <td>1</td>\n      <td>1</td>\n      <td>18.04</td>\n      <td>21.970</td>\n      <td>62</td>\n      <td>16.9979</td>\n      <td>11</td>\n      <td>177</td>\n      <td>188</td>\n    </tr>\n    <tr>\n      <th>2012-04-12 03:00:00</th>\n      <td>2</td>\n      <td>0</td>\n      <td>1</td>\n      <td>1</td>\n      <td>13.12</td>\n      <td>15.150</td>\n      <td>61</td>\n      <td>16.9979</td>\n      <td>2</td>\n      <td>3</td>\n      <td>5</td>\n    </tr>\n    <tr>\n      <th>2011-02-06 10:00:00</th>\n      <td>1</td>\n      <td>0</td>\n      <td>0</td>\n      <td>1</td>\n      <td>12.30</td>\n      <td>14.395</td>\n      <td>52</td>\n      <td>16.9979</td>\n      <td>15</td>\n      <td>74</td>\n      <td>89</td>\n    </tr>\n    <tr>\n      <th>2011-12-05 23:00:00</th>\n      <td>4</td>\n      <td>0</td>\n      <td>1</td>\n      <td>2</td>\n      <td>18.86</td>\n      <td>22.725</td>\n      <td>88</td>\n      <td>8.9981</td>\n      <td>8</td>\n      <td>54</td>\n      <td>62</td>\n    </tr>\n  </tbody>\n</table>\n</div>"
     },
     "execution_count": 10,
     "metadata": {},
     "output_type": "execute_result"
    }
   ],
   "source": [
    "bike_sub = bike_sub.set_index('datetime')\n",
    "bike_sub"
   ],
   "metadata": {
    "collapsed": false
   }
  },
  {
   "cell_type": "code",
   "execution_count": 11,
   "outputs": [
    {
     "data": {
      "text/plain": "              datetime  season  holiday  workingday  weather   temp   atemp  \\\n0  2012-03-07 21:00:00       1        0           1        1  18.04  21.970   \n1  2012-04-12 03:00:00       2        0           1        1  13.12  15.150   \n2  2011-02-06 10:00:00       1        0           0        1  12.30  14.395   \n3  2011-12-05 23:00:00       4        0           1        2  18.86  22.725   \n\n   humidity  windspeed  casual  registered  count  \n0        62    16.9979      11         177    188  \n1        61    16.9979       2           3      5  \n2        52    16.9979      15          74     89  \n3        88     8.9981       8          54     62  ",
      "text/html": "<div>\n<style scoped>\n    .dataframe tbody tr th:only-of-type {\n        vertical-align: middle;\n    }\n\n    .dataframe tbody tr th {\n        vertical-align: top;\n    }\n\n    .dataframe thead th {\n        text-align: right;\n    }\n</style>\n<table border=\"1\" class=\"dataframe\">\n  <thead>\n    <tr style=\"text-align: right;\">\n      <th></th>\n      <th>datetime</th>\n      <th>season</th>\n      <th>holiday</th>\n      <th>workingday</th>\n      <th>weather</th>\n      <th>temp</th>\n      <th>atemp</th>\n      <th>humidity</th>\n      <th>windspeed</th>\n      <th>casual</th>\n      <th>registered</th>\n      <th>count</th>\n    </tr>\n  </thead>\n  <tbody>\n    <tr>\n      <th>0</th>\n      <td>2012-03-07 21:00:00</td>\n      <td>1</td>\n      <td>0</td>\n      <td>1</td>\n      <td>1</td>\n      <td>18.04</td>\n      <td>21.970</td>\n      <td>62</td>\n      <td>16.9979</td>\n      <td>11</td>\n      <td>177</td>\n      <td>188</td>\n    </tr>\n    <tr>\n      <th>1</th>\n      <td>2012-04-12 03:00:00</td>\n      <td>2</td>\n      <td>0</td>\n      <td>1</td>\n      <td>1</td>\n      <td>13.12</td>\n      <td>15.150</td>\n      <td>61</td>\n      <td>16.9979</td>\n      <td>2</td>\n      <td>3</td>\n      <td>5</td>\n    </tr>\n    <tr>\n      <th>2</th>\n      <td>2011-02-06 10:00:00</td>\n      <td>1</td>\n      <td>0</td>\n      <td>0</td>\n      <td>1</td>\n      <td>12.30</td>\n      <td>14.395</td>\n      <td>52</td>\n      <td>16.9979</td>\n      <td>15</td>\n      <td>74</td>\n      <td>89</td>\n    </tr>\n    <tr>\n      <th>3</th>\n      <td>2011-12-05 23:00:00</td>\n      <td>4</td>\n      <td>0</td>\n      <td>1</td>\n      <td>2</td>\n      <td>18.86</td>\n      <td>22.725</td>\n      <td>88</td>\n      <td>8.9981</td>\n      <td>8</td>\n      <td>54</td>\n      <td>62</td>\n    </tr>\n  </tbody>\n</table>\n</div>"
     },
     "execution_count": 11,
     "metadata": {},
     "output_type": "execute_result"
    }
   ],
   "source": [
    "bike_sub.reset_index()"
   ],
   "metadata": {
    "collapsed": false
   }
  },
  {
   "cell_type": "code",
   "execution_count": 12,
   "outputs": [
    {
     "name": "stdout",
     "output_type": "stream",
     "text": [
      "3\n",
      "3\n"
     ]
    }
   ],
   "source": [
    "bike_1 = bike.iloc[:3, :4]\n",
    "bike_2 = bike.iloc[5:8, :4]\n",
    "\n",
    "print(len(bike_1))\n",
    "print(len(bike_2))"
   ],
   "metadata": {
    "collapsed": false
   }
  },
  {
   "cell_type": "code",
   "execution_count": 13,
   "outputs": [
    {
     "data": {
      "text/plain": "              datetime  season  holiday  workingday\n5  2011-01-01 05:00:00       1        0           0\n6  2011-01-01 06:00:00       1        0           0\n7  2011-01-01 07:00:00       1        0           0",
      "text/html": "<div>\n<style scoped>\n    .dataframe tbody tr th:only-of-type {\n        vertical-align: middle;\n    }\n\n    .dataframe tbody tr th {\n        vertical-align: top;\n    }\n\n    .dataframe thead th {\n        text-align: right;\n    }\n</style>\n<table border=\"1\" class=\"dataframe\">\n  <thead>\n    <tr style=\"text-align: right;\">\n      <th></th>\n      <th>datetime</th>\n      <th>season</th>\n      <th>holiday</th>\n      <th>workingday</th>\n    </tr>\n  </thead>\n  <tbody>\n    <tr>\n      <th>5</th>\n      <td>2011-01-01 05:00:00</td>\n      <td>1</td>\n      <td>0</td>\n      <td>0</td>\n    </tr>\n    <tr>\n      <th>6</th>\n      <td>2011-01-01 06:00:00</td>\n      <td>1</td>\n      <td>0</td>\n      <td>0</td>\n    </tr>\n    <tr>\n      <th>7</th>\n      <td>2011-01-01 07:00:00</td>\n      <td>1</td>\n      <td>0</td>\n      <td>0</td>\n    </tr>\n  </tbody>\n</table>\n</div>"
     },
     "execution_count": 13,
     "metadata": {},
     "output_type": "execute_result"
    }
   ],
   "source": [
    "bike_2"
   ],
   "metadata": {
    "collapsed": false
   }
  },
  {
   "cell_type": "code",
   "execution_count": 14,
   "outputs": [
    {
     "data": {
      "text/plain": "              datetime  season  holiday  workingday\n0  2011-01-01 00:00:00       1        0           0\n1  2011-01-01 01:00:00       1        0           0\n2  2011-01-01 02:00:00       1        0           0\n5  2011-01-01 05:00:00       1        0           0\n6  2011-01-01 06:00:00       1        0           0\n7  2011-01-01 07:00:00       1        0           0",
      "text/html": "<div>\n<style scoped>\n    .dataframe tbody tr th:only-of-type {\n        vertical-align: middle;\n    }\n\n    .dataframe tbody tr th {\n        vertical-align: top;\n    }\n\n    .dataframe thead th {\n        text-align: right;\n    }\n</style>\n<table border=\"1\" class=\"dataframe\">\n  <thead>\n    <tr style=\"text-align: right;\">\n      <th></th>\n      <th>datetime</th>\n      <th>season</th>\n      <th>holiday</th>\n      <th>workingday</th>\n    </tr>\n  </thead>\n  <tbody>\n    <tr>\n      <th>0</th>\n      <td>2011-01-01 00:00:00</td>\n      <td>1</td>\n      <td>0</td>\n      <td>0</td>\n    </tr>\n    <tr>\n      <th>1</th>\n      <td>2011-01-01 01:00:00</td>\n      <td>1</td>\n      <td>0</td>\n      <td>0</td>\n    </tr>\n    <tr>\n      <th>2</th>\n      <td>2011-01-01 02:00:00</td>\n      <td>1</td>\n      <td>0</td>\n      <td>0</td>\n    </tr>\n    <tr>\n      <th>5</th>\n      <td>2011-01-01 05:00:00</td>\n      <td>1</td>\n      <td>0</td>\n      <td>0</td>\n    </tr>\n    <tr>\n      <th>6</th>\n      <td>2011-01-01 06:00:00</td>\n      <td>1</td>\n      <td>0</td>\n      <td>0</td>\n    </tr>\n    <tr>\n      <th>7</th>\n      <td>2011-01-01 07:00:00</td>\n      <td>1</td>\n      <td>0</td>\n      <td>0</td>\n    </tr>\n  </tbody>\n</table>\n</div>"
     },
     "execution_count": 14,
     "metadata": {},
     "output_type": "execute_result"
    }
   ],
   "source": [
    "pd.concat([bike_1, bike_2]) # row"
   ],
   "metadata": {
    "collapsed": false
   }
  },
  {
   "cell_type": "code",
   "execution_count": 16,
   "outputs": [
    {
     "data": {
      "text/plain": "              datetime  season  holiday  workingday             datetime  \\\n0  2011-01-01 00:00:00     1.0      0.0         0.0                  NaN   \n1  2011-01-01 01:00:00     1.0      0.0         0.0                  NaN   \n2  2011-01-01 02:00:00     1.0      0.0         0.0                  NaN   \n5                  NaN     NaN      NaN         NaN  2011-01-01 05:00:00   \n6                  NaN     NaN      NaN         NaN  2011-01-01 06:00:00   \n7                  NaN     NaN      NaN         NaN  2011-01-01 07:00:00   \n\n   season  holiday  workingday  \n0     NaN      NaN         NaN  \n1     NaN      NaN         NaN  \n2     NaN      NaN         NaN  \n5     1.0      0.0         0.0  \n6     1.0      0.0         0.0  \n7     1.0      0.0         0.0  ",
      "text/html": "<div>\n<style scoped>\n    .dataframe tbody tr th:only-of-type {\n        vertical-align: middle;\n    }\n\n    .dataframe tbody tr th {\n        vertical-align: top;\n    }\n\n    .dataframe thead th {\n        text-align: right;\n    }\n</style>\n<table border=\"1\" class=\"dataframe\">\n  <thead>\n    <tr style=\"text-align: right;\">\n      <th></th>\n      <th>datetime</th>\n      <th>season</th>\n      <th>holiday</th>\n      <th>workingday</th>\n      <th>datetime</th>\n      <th>season</th>\n      <th>holiday</th>\n      <th>workingday</th>\n    </tr>\n  </thead>\n  <tbody>\n    <tr>\n      <th>0</th>\n      <td>2011-01-01 00:00:00</td>\n      <td>1.0</td>\n      <td>0.0</td>\n      <td>0.0</td>\n      <td>NaN</td>\n      <td>NaN</td>\n      <td>NaN</td>\n      <td>NaN</td>\n    </tr>\n    <tr>\n      <th>1</th>\n      <td>2011-01-01 01:00:00</td>\n      <td>1.0</td>\n      <td>0.0</td>\n      <td>0.0</td>\n      <td>NaN</td>\n      <td>NaN</td>\n      <td>NaN</td>\n      <td>NaN</td>\n    </tr>\n    <tr>\n      <th>2</th>\n      <td>2011-01-01 02:00:00</td>\n      <td>1.0</td>\n      <td>0.0</td>\n      <td>0.0</td>\n      <td>NaN</td>\n      <td>NaN</td>\n      <td>NaN</td>\n      <td>NaN</td>\n    </tr>\n    <tr>\n      <th>5</th>\n      <td>NaN</td>\n      <td>NaN</td>\n      <td>NaN</td>\n      <td>NaN</td>\n      <td>2011-01-01 05:00:00</td>\n      <td>1.0</td>\n      <td>0.0</td>\n      <td>0.0</td>\n    </tr>\n    <tr>\n      <th>6</th>\n      <td>NaN</td>\n      <td>NaN</td>\n      <td>NaN</td>\n      <td>NaN</td>\n      <td>2011-01-01 06:00:00</td>\n      <td>1.0</td>\n      <td>0.0</td>\n      <td>0.0</td>\n    </tr>\n    <tr>\n      <th>7</th>\n      <td>NaN</td>\n      <td>NaN</td>\n      <td>NaN</td>\n      <td>NaN</td>\n      <td>2011-01-01 07:00:00</td>\n      <td>1.0</td>\n      <td>0.0</td>\n      <td>0.0</td>\n    </tr>\n  </tbody>\n</table>\n</div>"
     },
     "execution_count": 16,
     "metadata": {},
     "output_type": "execute_result"
    }
   ],
   "source": [
    "pd.concat([bike_1, bike_2], axis=1) # col"
   ],
   "metadata": {
    "collapsed": false
   }
  },
  {
   "cell_type": "code",
   "execution_count": 17,
   "outputs": [
    {
     "data": {
      "text/plain": "              datetime  season  holiday  workingday             datetime  \\\n0  2011-01-01 00:00:00       1        0           0  2011-01-01 05:00:00   \n1  2011-01-01 01:00:00       1        0           0  2011-01-01 06:00:00   \n2  2011-01-01 02:00:00       1        0           0  2011-01-01 07:00:00   \n\n   season  holiday  workingday  \n0       1        0           0  \n1       1        0           0  \n2       1        0           0  ",
      "text/html": "<div>\n<style scoped>\n    .dataframe tbody tr th:only-of-type {\n        vertical-align: middle;\n    }\n\n    .dataframe tbody tr th {\n        vertical-align: top;\n    }\n\n    .dataframe thead th {\n        text-align: right;\n    }\n</style>\n<table border=\"1\" class=\"dataframe\">\n  <thead>\n    <tr style=\"text-align: right;\">\n      <th></th>\n      <th>datetime</th>\n      <th>season</th>\n      <th>holiday</th>\n      <th>workingday</th>\n      <th>datetime</th>\n      <th>season</th>\n      <th>holiday</th>\n      <th>workingday</th>\n    </tr>\n  </thead>\n  <tbody>\n    <tr>\n      <th>0</th>\n      <td>2011-01-01 00:00:00</td>\n      <td>1</td>\n      <td>0</td>\n      <td>0</td>\n      <td>2011-01-01 05:00:00</td>\n      <td>1</td>\n      <td>0</td>\n      <td>0</td>\n    </tr>\n    <tr>\n      <th>1</th>\n      <td>2011-01-01 01:00:00</td>\n      <td>1</td>\n      <td>0</td>\n      <td>0</td>\n      <td>2011-01-01 06:00:00</td>\n      <td>1</td>\n      <td>0</td>\n      <td>0</td>\n    </tr>\n    <tr>\n      <th>2</th>\n      <td>2011-01-01 02:00:00</td>\n      <td>1</td>\n      <td>0</td>\n      <td>0</td>\n      <td>2011-01-01 07:00:00</td>\n      <td>1</td>\n      <td>0</td>\n      <td>0</td>\n    </tr>\n  </tbody>\n</table>\n</div>"
     },
     "execution_count": 17,
     "metadata": {},
     "output_type": "execute_result"
    }
   ],
   "source": [
    "pd.concat(\n",
    "    [bike_1, bike_2.reset_index(drop=True)],\n",
    "    axis=1\n",
    ")"
   ],
   "metadata": {
    "collapsed": false
   }
  },
  {
   "cell_type": "code",
   "execution_count": 18,
   "outputs": [
    {
     "data": {
      "text/plain": "              datetime  season  holiday  workingday             datetime  \\\n0  2011-01-01 00:00:00       1        0           0  2011-01-01 05:00:00   \n1  2011-01-01 01:00:00       1        0           0  2011-01-01 06:00:00   \n2  2011-01-01 02:00:00       1        0           0  2011-01-01 07:00:00   \n\n   season  holiday  workingday  \n0       1        0           0  \n1       1        0           0  \n2       1        0           0  ",
      "text/html": "<div>\n<style scoped>\n    .dataframe tbody tr th:only-of-type {\n        vertical-align: middle;\n    }\n\n    .dataframe tbody tr th {\n        vertical-align: top;\n    }\n\n    .dataframe thead th {\n        text-align: right;\n    }\n</style>\n<table border=\"1\" class=\"dataframe\">\n  <thead>\n    <tr style=\"text-align: right;\">\n      <th></th>\n      <th>datetime</th>\n      <th>season</th>\n      <th>holiday</th>\n      <th>workingday</th>\n      <th>datetime</th>\n      <th>season</th>\n      <th>holiday</th>\n      <th>workingday</th>\n    </tr>\n  </thead>\n  <tbody>\n    <tr>\n      <th>0</th>\n      <td>2011-01-01 00:00:00</td>\n      <td>1</td>\n      <td>0</td>\n      <td>0</td>\n      <td>2011-01-01 05:00:00</td>\n      <td>1</td>\n      <td>0</td>\n      <td>0</td>\n    </tr>\n    <tr>\n      <th>1</th>\n      <td>2011-01-01 01:00:00</td>\n      <td>1</td>\n      <td>0</td>\n      <td>0</td>\n      <td>2011-01-01 06:00:00</td>\n      <td>1</td>\n      <td>0</td>\n      <td>0</td>\n    </tr>\n    <tr>\n      <th>2</th>\n      <td>2011-01-01 02:00:00</td>\n      <td>1</td>\n      <td>0</td>\n      <td>0</td>\n      <td>2011-01-01 07:00:00</td>\n      <td>1</td>\n      <td>0</td>\n      <td>0</td>\n    </tr>\n  </tbody>\n</table>\n</div>"
     },
     "execution_count": 18,
     "metadata": {},
     "output_type": "execute_result"
    }
   ],
   "source": [
    "pd.concat(\n",
    "    [bike_1.reset_index(drop=True),\n",
    "     bike_2.reset_index(drop=True)],\n",
    "    axis=1\n",
    ")"
   ],
   "metadata": {
    "collapsed": false
   }
  },
  {
   "cell_type": "code",
   "execution_count": 19,
   "outputs": [],
   "source": [
    " df_A = pd.read_csv('../datasets/join_data_group_members.csv')\n",
    " df_B = pd.read_csv('../datasets/join_data_member_room.csv')"
   ],
   "metadata": {
    "collapsed": false
   }
  },
  {
   "cell_type": "code",
   "execution_count": 20,
   "outputs": [
    {
     "data": {
      "text/plain": "    team    No member\n0  TWICE  1414     미나\n1  TWICE  1462     나연",
      "text/html": "<div>\n<style scoped>\n    .dataframe tbody tr th:only-of-type {\n        vertical-align: middle;\n    }\n\n    .dataframe tbody tr th {\n        vertical-align: top;\n    }\n\n    .dataframe thead th {\n        text-align: right;\n    }\n</style>\n<table border=\"1\" class=\"dataframe\">\n  <thead>\n    <tr style=\"text-align: right;\">\n      <th></th>\n      <th>team</th>\n      <th>No</th>\n      <th>member</th>\n    </tr>\n  </thead>\n  <tbody>\n    <tr>\n      <th>0</th>\n      <td>TWICE</td>\n      <td>1414</td>\n      <td>미나</td>\n    </tr>\n    <tr>\n      <th>1</th>\n      <td>TWICE</td>\n      <td>1462</td>\n      <td>나연</td>\n    </tr>\n  </tbody>\n</table>\n</div>"
     },
     "execution_count": 20,
     "metadata": {},
     "output_type": "execute_result"
    }
   ],
   "source": [
    "df_A.head(2)"
   ],
   "metadata": {
    "collapsed": false
   }
  },
  {
   "cell_type": "code",
   "execution_count": 21,
   "outputs": [
    {
     "data": {
      "text/plain": "   floor  room name\n0      3  3G-A   미나\n1      3  3G-B   나연",
      "text/html": "<div>\n<style scoped>\n    .dataframe tbody tr th:only-of-type {\n        vertical-align: middle;\n    }\n\n    .dataframe tbody tr th {\n        vertical-align: top;\n    }\n\n    .dataframe thead th {\n        text-align: right;\n    }\n</style>\n<table border=\"1\" class=\"dataframe\">\n  <thead>\n    <tr style=\"text-align: right;\">\n      <th></th>\n      <th>floor</th>\n      <th>room</th>\n      <th>name</th>\n    </tr>\n  </thead>\n  <tbody>\n    <tr>\n      <th>0</th>\n      <td>3</td>\n      <td>3G-A</td>\n      <td>미나</td>\n    </tr>\n    <tr>\n      <th>1</th>\n      <td>3</td>\n      <td>3G-B</td>\n      <td>나연</td>\n    </tr>\n  </tbody>\n</table>\n</div>"
     },
     "execution_count": 21,
     "metadata": {},
     "output_type": "execute_result"
    }
   ],
   "source": [
    "df_B.head(2)"
   ],
   "metadata": {
    "collapsed": false
   }
  },
  {
   "cell_type": "code",
   "execution_count": 22,
   "outputs": [
    {
     "data": {
      "text/plain": "    team    No member  floor  room name\n0  TWICE  1414     미나      3  3G-A   미나\n1  TWICE  1462     나연      3  3G-B   나연\n2  TWICE  1178     다현      3  3G-C   다현\n3  TWICE  1525     정연      4  4G-A   정연\n4  TWICE  1194     지효      4  4G-B   지효\n5  TWICE  1937     채연      4  4G-C   채연\n6  TWICE  1817     모모      5  5G-A   모모\n7  TWICE  1117     쯔위      5  5G-B   쯔위\n8  TWICE  1298     사나      5  5G-C   사나",
      "text/html": "<div>\n<style scoped>\n    .dataframe tbody tr th:only-of-type {\n        vertical-align: middle;\n    }\n\n    .dataframe tbody tr th {\n        vertical-align: top;\n    }\n\n    .dataframe thead th {\n        text-align: right;\n    }\n</style>\n<table border=\"1\" class=\"dataframe\">\n  <thead>\n    <tr style=\"text-align: right;\">\n      <th></th>\n      <th>team</th>\n      <th>No</th>\n      <th>member</th>\n      <th>floor</th>\n      <th>room</th>\n      <th>name</th>\n    </tr>\n  </thead>\n  <tbody>\n    <tr>\n      <th>0</th>\n      <td>TWICE</td>\n      <td>1414</td>\n      <td>미나</td>\n      <td>3</td>\n      <td>3G-A</td>\n      <td>미나</td>\n    </tr>\n    <tr>\n      <th>1</th>\n      <td>TWICE</td>\n      <td>1462</td>\n      <td>나연</td>\n      <td>3</td>\n      <td>3G-B</td>\n      <td>나연</td>\n    </tr>\n    <tr>\n      <th>2</th>\n      <td>TWICE</td>\n      <td>1178</td>\n      <td>다현</td>\n      <td>3</td>\n      <td>3G-C</td>\n      <td>다현</td>\n    </tr>\n    <tr>\n      <th>3</th>\n      <td>TWICE</td>\n      <td>1525</td>\n      <td>정연</td>\n      <td>4</td>\n      <td>4G-A</td>\n      <td>정연</td>\n    </tr>\n    <tr>\n      <th>4</th>\n      <td>TWICE</td>\n      <td>1194</td>\n      <td>지효</td>\n      <td>4</td>\n      <td>4G-B</td>\n      <td>지효</td>\n    </tr>\n    <tr>\n      <th>5</th>\n      <td>TWICE</td>\n      <td>1937</td>\n      <td>채연</td>\n      <td>4</td>\n      <td>4G-C</td>\n      <td>채연</td>\n    </tr>\n    <tr>\n      <th>6</th>\n      <td>TWICE</td>\n      <td>1817</td>\n      <td>모모</td>\n      <td>5</td>\n      <td>5G-A</td>\n      <td>모모</td>\n    </tr>\n    <tr>\n      <th>7</th>\n      <td>TWICE</td>\n      <td>1117</td>\n      <td>쯔위</td>\n      <td>5</td>\n      <td>5G-B</td>\n      <td>쯔위</td>\n    </tr>\n    <tr>\n      <th>8</th>\n      <td>TWICE</td>\n      <td>1298</td>\n      <td>사나</td>\n      <td>5</td>\n      <td>5G-C</td>\n      <td>사나</td>\n    </tr>\n  </tbody>\n</table>\n</div>"
     },
     "execution_count": 22,
     "metadata": {},
     "output_type": "execute_result"
    }
   ],
   "source": [
    "pd.merge(left=df_A, right=df_B, left_on='member', right_on='name', how='inner')"
   ],
   "metadata": {
    "collapsed": false
   }
  },
  {
   "cell_type": "code",
   "execution_count": 23,
   "outputs": [
    {
     "data": {
      "text/plain": "          team    No member  floor  room name\n0        TWICE  1414     미나    3.0  3G-A   미나\n1        TWICE  1462     나연    3.0  3G-B   나연\n2        TWICE  1178     다현    3.0  3G-C   다현\n3        TWICE  1525     정연    4.0  4G-A   정연\n4        TWICE  1194     지효    4.0  4G-B   지효\n5        TWICE  1937     채연    4.0  4G-C   채연\n6        TWICE  1817     모모    5.0  5G-A   모모\n7        TWICE  1117     쯔위    5.0  5G-B   쯔위\n8        TWICE  1298     사나    5.0  5G-C   사나\n9   Red Velvet  1228    아이린    NaN   NaN  NaN\n10  Red Velvet  1243     웬디    NaN   NaN  NaN\n11  Red Velvet  1013     슬기    NaN   NaN  NaN\n12  Red Velvet  1373     조이    NaN   NaN  NaN\n13  Red Velvet  1664     예리    NaN   NaN  NaN",
      "text/html": "<div>\n<style scoped>\n    .dataframe tbody tr th:only-of-type {\n        vertical-align: middle;\n    }\n\n    .dataframe tbody tr th {\n        vertical-align: top;\n    }\n\n    .dataframe thead th {\n        text-align: right;\n    }\n</style>\n<table border=\"1\" class=\"dataframe\">\n  <thead>\n    <tr style=\"text-align: right;\">\n      <th></th>\n      <th>team</th>\n      <th>No</th>\n      <th>member</th>\n      <th>floor</th>\n      <th>room</th>\n      <th>name</th>\n    </tr>\n  </thead>\n  <tbody>\n    <tr>\n      <th>0</th>\n      <td>TWICE</td>\n      <td>1414</td>\n      <td>미나</td>\n      <td>3.0</td>\n      <td>3G-A</td>\n      <td>미나</td>\n    </tr>\n    <tr>\n      <th>1</th>\n      <td>TWICE</td>\n      <td>1462</td>\n      <td>나연</td>\n      <td>3.0</td>\n      <td>3G-B</td>\n      <td>나연</td>\n    </tr>\n    <tr>\n      <th>2</th>\n      <td>TWICE</td>\n      <td>1178</td>\n      <td>다현</td>\n      <td>3.0</td>\n      <td>3G-C</td>\n      <td>다현</td>\n    </tr>\n    <tr>\n      <th>3</th>\n      <td>TWICE</td>\n      <td>1525</td>\n      <td>정연</td>\n      <td>4.0</td>\n      <td>4G-A</td>\n      <td>정연</td>\n    </tr>\n    <tr>\n      <th>4</th>\n      <td>TWICE</td>\n      <td>1194</td>\n      <td>지효</td>\n      <td>4.0</td>\n      <td>4G-B</td>\n      <td>지효</td>\n    </tr>\n    <tr>\n      <th>5</th>\n      <td>TWICE</td>\n      <td>1937</td>\n      <td>채연</td>\n      <td>4.0</td>\n      <td>4G-C</td>\n      <td>채연</td>\n    </tr>\n    <tr>\n      <th>6</th>\n      <td>TWICE</td>\n      <td>1817</td>\n      <td>모모</td>\n      <td>5.0</td>\n      <td>5G-A</td>\n      <td>모모</td>\n    </tr>\n    <tr>\n      <th>7</th>\n      <td>TWICE</td>\n      <td>1117</td>\n      <td>쯔위</td>\n      <td>5.0</td>\n      <td>5G-B</td>\n      <td>쯔위</td>\n    </tr>\n    <tr>\n      <th>8</th>\n      <td>TWICE</td>\n      <td>1298</td>\n      <td>사나</td>\n      <td>5.0</td>\n      <td>5G-C</td>\n      <td>사나</td>\n    </tr>\n    <tr>\n      <th>9</th>\n      <td>Red Velvet</td>\n      <td>1228</td>\n      <td>아이린</td>\n      <td>NaN</td>\n      <td>NaN</td>\n      <td>NaN</td>\n    </tr>\n    <tr>\n      <th>10</th>\n      <td>Red Velvet</td>\n      <td>1243</td>\n      <td>웬디</td>\n      <td>NaN</td>\n      <td>NaN</td>\n      <td>NaN</td>\n    </tr>\n    <tr>\n      <th>11</th>\n      <td>Red Velvet</td>\n      <td>1013</td>\n      <td>슬기</td>\n      <td>NaN</td>\n      <td>NaN</td>\n      <td>NaN</td>\n    </tr>\n    <tr>\n      <th>12</th>\n      <td>Red Velvet</td>\n      <td>1373</td>\n      <td>조이</td>\n      <td>NaN</td>\n      <td>NaN</td>\n      <td>NaN</td>\n    </tr>\n    <tr>\n      <th>13</th>\n      <td>Red Velvet</td>\n      <td>1664</td>\n      <td>예리</td>\n      <td>NaN</td>\n      <td>NaN</td>\n      <td>NaN</td>\n    </tr>\n  </tbody>\n</table>\n</div>"
     },
     "execution_count": 23,
     "metadata": {},
     "output_type": "execute_result"
    }
   ],
   "source": [
    "pd.merge(left=df_A, right=df_B, left_on='member', right_on='name', how='left')"
   ],
   "metadata": {
    "collapsed": false
   }
  },
  {
   "cell_type": "markdown",
   "source": [
    "### 1. A를 B에 Left Join 하였을 때 생성되는 결측 행의 개수는?\n",
    "\n",
    "join_data_group_members.csv 파일이 A, join_data_member_room.csv 파일이 B\n",
    "\n",
    "1. 0\n",
    "2. 12\n",
    "3. 15\n",
    "4. 5"
   ],
   "metadata": {
    "collapsed": false
   }
  },
  {
   "cell_type": "code",
   "execution_count": 26,
   "outputs": [
    {
     "data": {
      "text/plain": "          team    No member  floor  room name\n0        TWICE  1414     미나    3.0  3G-A   미나\n1        TWICE  1462     나연    3.0  3G-B   나연\n2        TWICE  1178     다현    3.0  3G-C   다현\n3        TWICE  1525     정연    4.0  4G-A   정연\n4        TWICE  1194     지효    4.0  4G-B   지효\n5        TWICE  1937     채연    4.0  4G-C   채연\n6        TWICE  1817     모모    5.0  5G-A   모모\n7        TWICE  1117     쯔위    5.0  5G-B   쯔위\n8        TWICE  1298     사나    5.0  5G-C   사나\n9   Red Velvet  1228    아이린    NaN   NaN  NaN\n10  Red Velvet  1243     웬디    NaN   NaN  NaN\n11  Red Velvet  1013     슬기    NaN   NaN  NaN\n12  Red Velvet  1373     조이    NaN   NaN  NaN\n13  Red Velvet  1664     예리    NaN   NaN  NaN",
      "text/html": "<div>\n<style scoped>\n    .dataframe tbody tr th:only-of-type {\n        vertical-align: middle;\n    }\n\n    .dataframe tbody tr th {\n        vertical-align: top;\n    }\n\n    .dataframe thead th {\n        text-align: right;\n    }\n</style>\n<table border=\"1\" class=\"dataframe\">\n  <thead>\n    <tr style=\"text-align: right;\">\n      <th></th>\n      <th>team</th>\n      <th>No</th>\n      <th>member</th>\n      <th>floor</th>\n      <th>room</th>\n      <th>name</th>\n    </tr>\n  </thead>\n  <tbody>\n    <tr>\n      <th>0</th>\n      <td>TWICE</td>\n      <td>1414</td>\n      <td>미나</td>\n      <td>3.0</td>\n      <td>3G-A</td>\n      <td>미나</td>\n    </tr>\n    <tr>\n      <th>1</th>\n      <td>TWICE</td>\n      <td>1462</td>\n      <td>나연</td>\n      <td>3.0</td>\n      <td>3G-B</td>\n      <td>나연</td>\n    </tr>\n    <tr>\n      <th>2</th>\n      <td>TWICE</td>\n      <td>1178</td>\n      <td>다현</td>\n      <td>3.0</td>\n      <td>3G-C</td>\n      <td>다현</td>\n    </tr>\n    <tr>\n      <th>3</th>\n      <td>TWICE</td>\n      <td>1525</td>\n      <td>정연</td>\n      <td>4.0</td>\n      <td>4G-A</td>\n      <td>정연</td>\n    </tr>\n    <tr>\n      <th>4</th>\n      <td>TWICE</td>\n      <td>1194</td>\n      <td>지효</td>\n      <td>4.0</td>\n      <td>4G-B</td>\n      <td>지효</td>\n    </tr>\n    <tr>\n      <th>5</th>\n      <td>TWICE</td>\n      <td>1937</td>\n      <td>채연</td>\n      <td>4.0</td>\n      <td>4G-C</td>\n      <td>채연</td>\n    </tr>\n    <tr>\n      <th>6</th>\n      <td>TWICE</td>\n      <td>1817</td>\n      <td>모모</td>\n      <td>5.0</td>\n      <td>5G-A</td>\n      <td>모모</td>\n    </tr>\n    <tr>\n      <th>7</th>\n      <td>TWICE</td>\n      <td>1117</td>\n      <td>쯔위</td>\n      <td>5.0</td>\n      <td>5G-B</td>\n      <td>쯔위</td>\n    </tr>\n    <tr>\n      <th>8</th>\n      <td>TWICE</td>\n      <td>1298</td>\n      <td>사나</td>\n      <td>5.0</td>\n      <td>5G-C</td>\n      <td>사나</td>\n    </tr>\n    <tr>\n      <th>9</th>\n      <td>Red Velvet</td>\n      <td>1228</td>\n      <td>아이린</td>\n      <td>NaN</td>\n      <td>NaN</td>\n      <td>NaN</td>\n    </tr>\n    <tr>\n      <th>10</th>\n      <td>Red Velvet</td>\n      <td>1243</td>\n      <td>웬디</td>\n      <td>NaN</td>\n      <td>NaN</td>\n      <td>NaN</td>\n    </tr>\n    <tr>\n      <th>11</th>\n      <td>Red Velvet</td>\n      <td>1013</td>\n      <td>슬기</td>\n      <td>NaN</td>\n      <td>NaN</td>\n      <td>NaN</td>\n    </tr>\n    <tr>\n      <th>12</th>\n      <td>Red Velvet</td>\n      <td>1373</td>\n      <td>조이</td>\n      <td>NaN</td>\n      <td>NaN</td>\n      <td>NaN</td>\n    </tr>\n    <tr>\n      <th>13</th>\n      <td>Red Velvet</td>\n      <td>1664</td>\n      <td>예리</td>\n      <td>NaN</td>\n      <td>NaN</td>\n      <td>NaN</td>\n    </tr>\n  </tbody>\n</table>\n</div>"
     },
     "execution_count": 26,
     "metadata": {},
     "output_type": "execute_result"
    }
   ],
   "source": [
    "df_join = pd.merge(left=df_A, right=df_B, left_on='member', right_on='name', how='left')\n",
    "df_join"
   ],
   "metadata": {
    "collapsed": false
   }
  },
  {
   "cell_type": "code",
   "execution_count": 29,
   "outputs": [
    {
     "data": {
      "text/plain": "team      0\nNo        0\nmember    0\nfloor     5\nroom      5\nname      5\ndtype: int64"
     },
     "execution_count": 29,
     "metadata": {},
     "output_type": "execute_result"
    }
   ],
   "source": [
    "df_join.isna().sum()"
   ],
   "metadata": {
    "collapsed": false
   }
  },
  {
   "cell_type": "code",
   "execution_count": 31,
   "outputs": [
    {
     "data": {
      "text/plain": "5"
     },
     "execution_count": 31,
     "metadata": {},
     "output_type": "execute_result"
    }
   ],
   "source": [
    "df_join.isna().sum().max()"
   ],
   "metadata": {
    "collapsed": false
   }
  },
  {
   "cell_type": "markdown",
   "source": [
    "### 2. 여름과 겨울의 시간대별 `registered` 평균을 비교할 때 가장 차이가 많이 나는 시각은?\n",
    "\n",
    "bike.csv 파일 사용\n",
    "hour 어트리뷰트 활용\n",
    "\n",
    "1. 12\n",
    "2. 13\n",
    "3. 19\n",
    "4. 20"
   ],
   "metadata": {
    "collapsed": false
   }
  },
  {
   "cell_type": "code",
   "execution_count": 32,
   "outputs": [
    {
     "name": "stdout",
     "output_type": "stream",
     "text": [
      "<class 'pandas.core.frame.DataFrame'>\n",
      "RangeIndex: 10886 entries, 0 to 10885\n",
      "Data columns (total 12 columns):\n",
      " #   Column      Non-Null Count  Dtype  \n",
      "---  ------      --------------  -----  \n",
      " 0   datetime    10886 non-null  object \n",
      " 1   season      10886 non-null  int64  \n",
      " 2   holiday     10886 non-null  int64  \n",
      " 3   workingday  10886 non-null  int64  \n",
      " 4   weather     10886 non-null  int64  \n",
      " 5   temp        10886 non-null  float64\n",
      " 6   atemp       10886 non-null  float64\n",
      " 7   humidity    10886 non-null  int64  \n",
      " 8   windspeed   10886 non-null  float64\n",
      " 9   casual      10886 non-null  int64  \n",
      " 10  registered  10886 non-null  int64  \n",
      " 11  count       10886 non-null  int64  \n",
      "dtypes: float64(3), int64(8), object(1)\n",
      "memory usage: 1020.7+ KB\n"
     ]
    }
   ],
   "source": [
    "df_bike = pd.read_csv('../datasets/bike.csv')\n",
    "df_bike.info()"
   ],
   "metadata": {
    "collapsed": false
   }
  },
  {
   "cell_type": "code",
   "execution_count": 34,
   "outputs": [
    {
     "data": {
      "text/plain": "              datetime  season  holiday  workingday  weather  temp   atemp  \\\n0  2011-01-01 00:00:00       1        0           0        1  9.84  14.395   \n1  2011-01-01 01:00:00       1        0           0        1  9.02  13.635   \n2  2011-01-01 02:00:00       1        0           0        1  9.02  13.635   \n3  2011-01-01 03:00:00       1        0           0        1  9.84  14.395   \n4  2011-01-01 04:00:00       1        0           0        1  9.84  14.395   \n\n   humidity  windspeed  casual  registered  count  \n0        81        0.0       3          13     16  \n1        80        0.0       8          32     40  \n2        80        0.0       5          27     32  \n3        75        0.0       3          10     13  \n4        75        0.0       0           1      1  ",
      "text/html": "<div>\n<style scoped>\n    .dataframe tbody tr th:only-of-type {\n        vertical-align: middle;\n    }\n\n    .dataframe tbody tr th {\n        vertical-align: top;\n    }\n\n    .dataframe thead th {\n        text-align: right;\n    }\n</style>\n<table border=\"1\" class=\"dataframe\">\n  <thead>\n    <tr style=\"text-align: right;\">\n      <th></th>\n      <th>datetime</th>\n      <th>season</th>\n      <th>holiday</th>\n      <th>workingday</th>\n      <th>weather</th>\n      <th>temp</th>\n      <th>atemp</th>\n      <th>humidity</th>\n      <th>windspeed</th>\n      <th>casual</th>\n      <th>registered</th>\n      <th>count</th>\n    </tr>\n  </thead>\n  <tbody>\n    <tr>\n      <th>0</th>\n      <td>2011-01-01 00:00:00</td>\n      <td>1</td>\n      <td>0</td>\n      <td>0</td>\n      <td>1</td>\n      <td>9.84</td>\n      <td>14.395</td>\n      <td>81</td>\n      <td>0.0</td>\n      <td>3</td>\n      <td>13</td>\n      <td>16</td>\n    </tr>\n    <tr>\n      <th>1</th>\n      <td>2011-01-01 01:00:00</td>\n      <td>1</td>\n      <td>0</td>\n      <td>0</td>\n      <td>1</td>\n      <td>9.02</td>\n      <td>13.635</td>\n      <td>80</td>\n      <td>0.0</td>\n      <td>8</td>\n      <td>32</td>\n      <td>40</td>\n    </tr>\n    <tr>\n      <th>2</th>\n      <td>2011-01-01 02:00:00</td>\n      <td>1</td>\n      <td>0</td>\n      <td>0</td>\n      <td>1</td>\n      <td>9.02</td>\n      <td>13.635</td>\n      <td>80</td>\n      <td>0.0</td>\n      <td>5</td>\n      <td>27</td>\n      <td>32</td>\n    </tr>\n    <tr>\n      <th>3</th>\n      <td>2011-01-01 03:00:00</td>\n      <td>1</td>\n      <td>0</td>\n      <td>0</td>\n      <td>1</td>\n      <td>9.84</td>\n      <td>14.395</td>\n      <td>75</td>\n      <td>0.0</td>\n      <td>3</td>\n      <td>10</td>\n      <td>13</td>\n    </tr>\n    <tr>\n      <th>4</th>\n      <td>2011-01-01 04:00:00</td>\n      <td>1</td>\n      <td>0</td>\n      <td>0</td>\n      <td>1</td>\n      <td>9.84</td>\n      <td>14.395</td>\n      <td>75</td>\n      <td>0.0</td>\n      <td>0</td>\n      <td>1</td>\n      <td>1</td>\n    </tr>\n  </tbody>\n</table>\n</div>"
     },
     "execution_count": 34,
     "metadata": {},
     "output_type": "execute_result"
    }
   ],
   "source": [
    "df_bike.head()"
   ],
   "metadata": {
    "collapsed": false
   }
  },
  {
   "cell_type": "code",
   "execution_count": 37,
   "outputs": [
    {
     "data": {
      "text/plain": "              datetime  season  holiday  workingday  weather  temp   atemp  \\\n0  2011-01-01 00:00:00       1        0           0        1  9.84  14.395   \n1  2011-01-01 01:00:00       1        0           0        1  9.02  13.635   \n\n   humidity  windspeed  casual  registered  count  hour  \n0        81        0.0       3          13     16     0  \n1        80        0.0       8          32     40     1  ",
      "text/html": "<div>\n<style scoped>\n    .dataframe tbody tr th:only-of-type {\n        vertical-align: middle;\n    }\n\n    .dataframe tbody tr th {\n        vertical-align: top;\n    }\n\n    .dataframe thead th {\n        text-align: right;\n    }\n</style>\n<table border=\"1\" class=\"dataframe\">\n  <thead>\n    <tr style=\"text-align: right;\">\n      <th></th>\n      <th>datetime</th>\n      <th>season</th>\n      <th>holiday</th>\n      <th>workingday</th>\n      <th>weather</th>\n      <th>temp</th>\n      <th>atemp</th>\n      <th>humidity</th>\n      <th>windspeed</th>\n      <th>casual</th>\n      <th>registered</th>\n      <th>count</th>\n      <th>hour</th>\n    </tr>\n  </thead>\n  <tbody>\n    <tr>\n      <th>0</th>\n      <td>2011-01-01 00:00:00</td>\n      <td>1</td>\n      <td>0</td>\n      <td>0</td>\n      <td>1</td>\n      <td>9.84</td>\n      <td>14.395</td>\n      <td>81</td>\n      <td>0.0</td>\n      <td>3</td>\n      <td>13</td>\n      <td>16</td>\n      <td>0</td>\n    </tr>\n    <tr>\n      <th>1</th>\n      <td>2011-01-01 01:00:00</td>\n      <td>1</td>\n      <td>0</td>\n      <td>0</td>\n      <td>1</td>\n      <td>9.02</td>\n      <td>13.635</td>\n      <td>80</td>\n      <td>0.0</td>\n      <td>8</td>\n      <td>32</td>\n      <td>40</td>\n      <td>1</td>\n    </tr>\n  </tbody>\n</table>\n</div>"
     },
     "execution_count": 37,
     "metadata": {},
     "output_type": "execute_result"
    }
   ],
   "source": [
    "df_bike['hour'] = pd.to_datetime(df_bike['datetime']).dt.hour\n",
    "df_bike.head(2)"
   ],
   "metadata": {
    "collapsed": false
   }
  },
  {
   "cell_type": "code",
   "execution_count": 41,
   "outputs": [
    {
     "name": "stdout",
     "output_type": "stream",
     "text": [
      "[2]\n",
      "[4]\n"
     ]
    }
   ],
   "source": [
    "df_bike_season_2 = df_bike.loc[df_bike['season'] == 2,]\n",
    "df_bike_season_4 = df_bike.loc[df_bike['season'] == 4,]\n",
    "\n",
    "print(df_bike_season_2['season'].unique())\n",
    "print(df_bike_season_4['season'].unique())"
   ],
   "metadata": {
    "collapsed": false
   }
  },
  {
   "cell_type": "code",
   "execution_count": 42,
   "outputs": [
    {
     "data": {
      "text/plain": "   hour  registered\n0     0   50.017544\n1     1   30.842105\n2     2   18.973684\n3     3    9.116071\n4     4    6.087719",
      "text/html": "<div>\n<style scoped>\n    .dataframe tbody tr th:only-of-type {\n        vertical-align: middle;\n    }\n\n    .dataframe tbody tr th {\n        vertical-align: top;\n    }\n\n    .dataframe thead th {\n        text-align: right;\n    }\n</style>\n<table border=\"1\" class=\"dataframe\">\n  <thead>\n    <tr style=\"text-align: right;\">\n      <th></th>\n      <th>hour</th>\n      <th>registered</th>\n    </tr>\n  </thead>\n  <tbody>\n    <tr>\n      <th>0</th>\n      <td>0</td>\n      <td>50.017544</td>\n    </tr>\n    <tr>\n      <th>1</th>\n      <td>1</td>\n      <td>30.842105</td>\n    </tr>\n    <tr>\n      <th>2</th>\n      <td>2</td>\n      <td>18.973684</td>\n    </tr>\n    <tr>\n      <th>3</th>\n      <td>3</td>\n      <td>9.116071</td>\n    </tr>\n    <tr>\n      <th>4</th>\n      <td>4</td>\n      <td>6.087719</td>\n    </tr>\n  </tbody>\n</table>\n</div>"
     },
     "execution_count": 42,
     "metadata": {},
     "output_type": "execute_result"
    }
   ],
   "source": [
    "df_bike_s2_agg = df_bike_season_2.groupby('hour')['registered'].mean().reset_index()\n",
    "df_bike_s4_agg = df_bike_season_4.groupby('hour')['registered'].mean().reset_index()\n",
    "df_bike_s4_agg.head()"
   ],
   "metadata": {
    "collapsed": false
   }
  },
  {
   "cell_type": "code",
   "execution_count": 43,
   "outputs": [
    {
     "data": {
      "text/plain": "   hour  registered  hour  registered\n0     0   45.947368     0   50.017544\n1     1   27.473684     1   30.842105\n2     2   17.763158     2   18.973684\n3     3    8.419643     3    9.116071\n4     4    5.053097     4    6.087719",
      "text/html": "<div>\n<style scoped>\n    .dataframe tbody tr th:only-of-type {\n        vertical-align: middle;\n    }\n\n    .dataframe tbody tr th {\n        vertical-align: top;\n    }\n\n    .dataframe thead th {\n        text-align: right;\n    }\n</style>\n<table border=\"1\" class=\"dataframe\">\n  <thead>\n    <tr style=\"text-align: right;\">\n      <th></th>\n      <th>hour</th>\n      <th>registered</th>\n      <th>hour</th>\n      <th>registered</th>\n    </tr>\n  </thead>\n  <tbody>\n    <tr>\n      <th>0</th>\n      <td>0</td>\n      <td>45.947368</td>\n      <td>0</td>\n      <td>50.017544</td>\n    </tr>\n    <tr>\n      <th>1</th>\n      <td>1</td>\n      <td>27.473684</td>\n      <td>1</td>\n      <td>30.842105</td>\n    </tr>\n    <tr>\n      <th>2</th>\n      <td>2</td>\n      <td>17.763158</td>\n      <td>2</td>\n      <td>18.973684</td>\n    </tr>\n    <tr>\n      <th>3</th>\n      <td>3</td>\n      <td>8.419643</td>\n      <td>3</td>\n      <td>9.116071</td>\n    </tr>\n    <tr>\n      <th>4</th>\n      <td>4</td>\n      <td>5.053097</td>\n      <td>4</td>\n      <td>6.087719</td>\n    </tr>\n  </tbody>\n</table>\n</div>"
     },
     "execution_count": 43,
     "metadata": {},
     "output_type": "execute_result"
    }
   ],
   "source": [
    "df_bike_agg_bind = pd.concat([df_bike_s2_agg, df_bike_s4_agg], axis=1)\n",
    "df_bike_agg_bind.head()"
   ],
   "metadata": {
    "collapsed": false
   }
  },
  {
   "cell_type": "code",
   "execution_count": 44,
   "outputs": [
    {
     "data": {
      "text/plain": "   hour  registered  registered\n0     0   45.947368   50.017544\n1     1   27.473684   30.842105\n2     2   17.763158   18.973684\n3     3    8.419643    9.116071\n4     4    5.053097    6.087719",
      "text/html": "<div>\n<style scoped>\n    .dataframe tbody tr th:only-of-type {\n        vertical-align: middle;\n    }\n\n    .dataframe tbody tr th {\n        vertical-align: top;\n    }\n\n    .dataframe thead th {\n        text-align: right;\n    }\n</style>\n<table border=\"1\" class=\"dataframe\">\n  <thead>\n    <tr style=\"text-align: right;\">\n      <th></th>\n      <th>hour</th>\n      <th>registered</th>\n      <th>registered</th>\n    </tr>\n  </thead>\n  <tbody>\n    <tr>\n      <th>0</th>\n      <td>0</td>\n      <td>45.947368</td>\n      <td>50.017544</td>\n    </tr>\n    <tr>\n      <th>1</th>\n      <td>1</td>\n      <td>27.473684</td>\n      <td>30.842105</td>\n    </tr>\n    <tr>\n      <th>2</th>\n      <td>2</td>\n      <td>17.763158</td>\n      <td>18.973684</td>\n    </tr>\n    <tr>\n      <th>3</th>\n      <td>3</td>\n      <td>8.419643</td>\n      <td>9.116071</td>\n    </tr>\n    <tr>\n      <th>4</th>\n      <td>4</td>\n      <td>5.053097</td>\n      <td>6.087719</td>\n    </tr>\n  </tbody>\n</table>\n</div>"
     },
     "execution_count": 44,
     "metadata": {},
     "output_type": "execute_result"
    }
   ],
   "source": [
    "df_bike_agg_bind = df_bike_agg_bind.iloc[:, [0, 1, 3]]\n",
    "df_bike_agg_bind.head()"
   ],
   "metadata": {
    "collapsed": false
   }
  },
  {
   "cell_type": "code",
   "execution_count": 45,
   "outputs": [
    {
     "data": {
      "text/plain": "   hour     reg_s2     reg_s4\n0     0  45.947368  50.017544\n1     1  27.473684  30.842105",
      "text/html": "<div>\n<style scoped>\n    .dataframe tbody tr th:only-of-type {\n        vertical-align: middle;\n    }\n\n    .dataframe tbody tr th {\n        vertical-align: top;\n    }\n\n    .dataframe thead th {\n        text-align: right;\n    }\n</style>\n<table border=\"1\" class=\"dataframe\">\n  <thead>\n    <tr style=\"text-align: right;\">\n      <th></th>\n      <th>hour</th>\n      <th>reg_s2</th>\n      <th>reg_s4</th>\n    </tr>\n  </thead>\n  <tbody>\n    <tr>\n      <th>0</th>\n      <td>0</td>\n      <td>45.947368</td>\n      <td>50.017544</td>\n    </tr>\n    <tr>\n      <th>1</th>\n      <td>1</td>\n      <td>27.473684</td>\n      <td>30.842105</td>\n    </tr>\n  </tbody>\n</table>\n</div>"
     },
     "execution_count": 45,
     "metadata": {},
     "output_type": "execute_result"
    }
   ],
   "source": [
    "df_bike_agg_bind.columns = ['hour', 'reg_s2', 'reg_s4']\n",
    "df_bike_agg_bind.head(2)"
   ],
   "metadata": {
    "collapsed": false
   }
  },
  {
   "cell_type": "code",
   "execution_count": 46,
   "outputs": [
    {
     "data": {
      "text/plain": "   hour     reg_s2     reg_s4      diff\n0     0  45.947368  50.017544 -4.070175\n1     1  27.473684  30.842105 -3.368421",
      "text/html": "<div>\n<style scoped>\n    .dataframe tbody tr th:only-of-type {\n        vertical-align: middle;\n    }\n\n    .dataframe tbody tr th {\n        vertical-align: top;\n    }\n\n    .dataframe thead th {\n        text-align: right;\n    }\n</style>\n<table border=\"1\" class=\"dataframe\">\n  <thead>\n    <tr style=\"text-align: right;\">\n      <th></th>\n      <th>hour</th>\n      <th>reg_s2</th>\n      <th>reg_s4</th>\n      <th>diff</th>\n    </tr>\n  </thead>\n  <tbody>\n    <tr>\n      <th>0</th>\n      <td>0</td>\n      <td>45.947368</td>\n      <td>50.017544</td>\n      <td>-4.070175</td>\n    </tr>\n    <tr>\n      <th>1</th>\n      <td>1</td>\n      <td>27.473684</td>\n      <td>30.842105</td>\n      <td>-3.368421</td>\n    </tr>\n  </tbody>\n</table>\n</div>"
     },
     "execution_count": 46,
     "metadata": {},
     "output_type": "execute_result"
    }
   ],
   "source": [
    "df_bike_agg_bind['diff'] = df_bike_agg_bind['reg_s2'] - df_bike_agg_bind['reg_s4']\n",
    "df_bike_agg_bind.head(2)"
   ],
   "metadata": {
    "collapsed": false
   }
  },
  {
   "cell_type": "code",
   "execution_count": 47,
   "outputs": [
    {
     "data": {
      "text/plain": "hour       19.000000\nreg_s2    302.298246\nreg_s4    271.324561\ndiff       30.973684\nName: 19, dtype: float64"
     },
     "execution_count": 47,
     "metadata": {},
     "output_type": "execute_result"
    }
   ],
   "source": [
    "df_bike_agg_bind.iloc[df_bike_agg_bind['diff'].idxmax()]"
   ],
   "metadata": {
    "collapsed": false
   }
  },
  {
   "cell_type": "markdown",
   "source": [
    "### 3. 비가 온 날에 30도가 넘는 시각의 `count`의 평균은 얼마인가?\n",
    "\n",
    "bike.csv 사용\n",
    "humidity의 최대값이 100인 날을 비가 온 날로 간주한다.\n",
    "반올림하여 소수점 둘 때 자리까지 표기한다.\n",
    "\n",
    "1. 338.75\n",
    "2. 244.93\n",
    "3. 191.57\n",
    "4. 89.41"
   ],
   "metadata": {
    "collapsed": false
   }
  },
  {
   "cell_type": "code",
   "execution_count": 49,
   "outputs": [
    {
     "data": {
      "text/plain": "              datetime  season  holiday  workingday  weather  temp   atemp  \\\n0  2011-01-01 00:00:00       1        0           0        1  9.84  14.395   \n1  2011-01-01 01:00:00       1        0           0        1  9.02  13.635   \n2  2011-01-01 02:00:00       1        0           0        1  9.02  13.635   \n3  2011-01-01 03:00:00       1        0           0        1  9.84  14.395   \n4  2011-01-01 04:00:00       1        0           0        1  9.84  14.395   \n\n   humidity  windspeed  casual  registered  count  hour  \n0        81        0.0       3          13     16     0  \n1        80        0.0       8          32     40     1  \n2        80        0.0       5          27     32     2  \n3        75        0.0       3          10     13     3  \n4        75        0.0       0           1      1     4  ",
      "text/html": "<div>\n<style scoped>\n    .dataframe tbody tr th:only-of-type {\n        vertical-align: middle;\n    }\n\n    .dataframe tbody tr th {\n        vertical-align: top;\n    }\n\n    .dataframe thead th {\n        text-align: right;\n    }\n</style>\n<table border=\"1\" class=\"dataframe\">\n  <thead>\n    <tr style=\"text-align: right;\">\n      <th></th>\n      <th>datetime</th>\n      <th>season</th>\n      <th>holiday</th>\n      <th>workingday</th>\n      <th>weather</th>\n      <th>temp</th>\n      <th>atemp</th>\n      <th>humidity</th>\n      <th>windspeed</th>\n      <th>casual</th>\n      <th>registered</th>\n      <th>count</th>\n      <th>hour</th>\n    </tr>\n  </thead>\n  <tbody>\n    <tr>\n      <th>0</th>\n      <td>2011-01-01 00:00:00</td>\n      <td>1</td>\n      <td>0</td>\n      <td>0</td>\n      <td>1</td>\n      <td>9.84</td>\n      <td>14.395</td>\n      <td>81</td>\n      <td>0.0</td>\n      <td>3</td>\n      <td>13</td>\n      <td>16</td>\n      <td>0</td>\n    </tr>\n    <tr>\n      <th>1</th>\n      <td>2011-01-01 01:00:00</td>\n      <td>1</td>\n      <td>0</td>\n      <td>0</td>\n      <td>1</td>\n      <td>9.02</td>\n      <td>13.635</td>\n      <td>80</td>\n      <td>0.0</td>\n      <td>8</td>\n      <td>32</td>\n      <td>40</td>\n      <td>1</td>\n    </tr>\n    <tr>\n      <th>2</th>\n      <td>2011-01-01 02:00:00</td>\n      <td>1</td>\n      <td>0</td>\n      <td>0</td>\n      <td>1</td>\n      <td>9.02</td>\n      <td>13.635</td>\n      <td>80</td>\n      <td>0.0</td>\n      <td>5</td>\n      <td>27</td>\n      <td>32</td>\n      <td>2</td>\n    </tr>\n    <tr>\n      <th>3</th>\n      <td>2011-01-01 03:00:00</td>\n      <td>1</td>\n      <td>0</td>\n      <td>0</td>\n      <td>1</td>\n      <td>9.84</td>\n      <td>14.395</td>\n      <td>75</td>\n      <td>0.0</td>\n      <td>3</td>\n      <td>10</td>\n      <td>13</td>\n      <td>3</td>\n    </tr>\n    <tr>\n      <th>4</th>\n      <td>2011-01-01 04:00:00</td>\n      <td>1</td>\n      <td>0</td>\n      <td>0</td>\n      <td>1</td>\n      <td>9.84</td>\n      <td>14.395</td>\n      <td>75</td>\n      <td>0.0</td>\n      <td>0</td>\n      <td>1</td>\n      <td>1</td>\n      <td>4</td>\n    </tr>\n  </tbody>\n</table>\n</div>"
     },
     "execution_count": 49,
     "metadata": {},
     "output_type": "execute_result"
    }
   ],
   "source": [
    "df_bike.head()"
   ],
   "metadata": {
    "collapsed": false
   }
  },
  {
   "cell_type": "code",
   "execution_count": 53,
   "outputs": [
    {
     "data": {
      "text/plain": "              datetime  season  holiday  workingday  weather  temp   atemp  \\\n0  2011-01-01 00:00:00       1        0           0        1  9.84  14.395   \n1  2011-01-01 01:00:00       1        0           0        1  9.02  13.635   \n\n   humidity  windspeed  casual  registered  count  hour        date  \n0        81        0.0       3          13     16     0  2011-01-01  \n1        80        0.0       8          32     40     1  2011-01-01  ",
      "text/html": "<div>\n<style scoped>\n    .dataframe tbody tr th:only-of-type {\n        vertical-align: middle;\n    }\n\n    .dataframe tbody tr th {\n        vertical-align: top;\n    }\n\n    .dataframe thead th {\n        text-align: right;\n    }\n</style>\n<table border=\"1\" class=\"dataframe\">\n  <thead>\n    <tr style=\"text-align: right;\">\n      <th></th>\n      <th>datetime</th>\n      <th>season</th>\n      <th>holiday</th>\n      <th>workingday</th>\n      <th>weather</th>\n      <th>temp</th>\n      <th>atemp</th>\n      <th>humidity</th>\n      <th>windspeed</th>\n      <th>casual</th>\n      <th>registered</th>\n      <th>count</th>\n      <th>hour</th>\n      <th>date</th>\n    </tr>\n  </thead>\n  <tbody>\n    <tr>\n      <th>0</th>\n      <td>2011-01-01 00:00:00</td>\n      <td>1</td>\n      <td>0</td>\n      <td>0</td>\n      <td>1</td>\n      <td>9.84</td>\n      <td>14.395</td>\n      <td>81</td>\n      <td>0.0</td>\n      <td>3</td>\n      <td>13</td>\n      <td>16</td>\n      <td>0</td>\n      <td>2011-01-01</td>\n    </tr>\n    <tr>\n      <th>1</th>\n      <td>2011-01-01 01:00:00</td>\n      <td>1</td>\n      <td>0</td>\n      <td>0</td>\n      <td>1</td>\n      <td>9.02</td>\n      <td>13.635</td>\n      <td>80</td>\n      <td>0.0</td>\n      <td>8</td>\n      <td>32</td>\n      <td>40</td>\n      <td>1</td>\n      <td>2011-01-01</td>\n    </tr>\n  </tbody>\n</table>\n</div>"
     },
     "execution_count": 53,
     "metadata": {},
     "output_type": "execute_result"
    }
   ],
   "source": [
    "df_bike['date'] = pd.to_datetime(df_bike['datetime']).dt.date\n",
    "df_bike.head(2)"
   ],
   "metadata": {
    "collapsed": false
   }
  },
  {
   "cell_type": "code",
   "execution_count": 55,
   "outputs": [
    {
     "data": {
      "text/plain": "         date  humidity\n0  2011-01-01        94\n1  2011-01-02       100",
      "text/html": "<div>\n<style scoped>\n    .dataframe tbody tr th:only-of-type {\n        vertical-align: middle;\n    }\n\n    .dataframe tbody tr th {\n        vertical-align: top;\n    }\n\n    .dataframe thead th {\n        text-align: right;\n    }\n</style>\n<table border=\"1\" class=\"dataframe\">\n  <thead>\n    <tr style=\"text-align: right;\">\n      <th></th>\n      <th>date</th>\n      <th>humidity</th>\n    </tr>\n  </thead>\n  <tbody>\n    <tr>\n      <th>0</th>\n      <td>2011-01-01</td>\n      <td>94</td>\n    </tr>\n    <tr>\n      <th>1</th>\n      <td>2011-01-02</td>\n      <td>100</td>\n    </tr>\n  </tbody>\n</table>\n</div>"
     },
     "execution_count": 55,
     "metadata": {},
     "output_type": "execute_result"
    }
   ],
   "source": [
    "df_bike_h100 = df_bike.groupby(['date'])['humidity'].max().reset_index()\n",
    "df_bike_h100.head(2)"
   ],
   "metadata": {
    "collapsed": false
   }
  },
  {
   "cell_type": "code",
   "execution_count": 56,
   "outputs": [
    {
     "data": {
      "text/plain": "          date  humidity\n1   2011-01-02       100\n20  2011-02-02       100",
      "text/html": "<div>\n<style scoped>\n    .dataframe tbody tr th:only-of-type {\n        vertical-align: middle;\n    }\n\n    .dataframe tbody tr th {\n        vertical-align: top;\n    }\n\n    .dataframe thead th {\n        text-align: right;\n    }\n</style>\n<table border=\"1\" class=\"dataframe\">\n  <thead>\n    <tr style=\"text-align: right;\">\n      <th></th>\n      <th>date</th>\n      <th>humidity</th>\n    </tr>\n  </thead>\n  <tbody>\n    <tr>\n      <th>1</th>\n      <td>2011-01-02</td>\n      <td>100</td>\n    </tr>\n    <tr>\n      <th>20</th>\n      <td>2011-02-02</td>\n      <td>100</td>\n    </tr>\n  </tbody>\n</table>\n</div>"
     },
     "execution_count": 56,
     "metadata": {},
     "output_type": "execute_result"
    }
   ],
   "source": [
    "df_bike_h100 = df_bike_h100.loc[df_bike_h100['humidity'] == 100,]\n",
    "df_bike_h100.head(2)"
   ],
   "metadata": {
    "collapsed": false
   }
  },
  {
   "cell_type": "code",
   "execution_count": 57,
   "outputs": [
    {
     "data": {
      "text/plain": "40"
     },
     "execution_count": 57,
     "metadata": {},
     "output_type": "execute_result"
    }
   ],
   "source": [
    "len(df_bike_h100)"
   ],
   "metadata": {
    "collapsed": false
   }
  },
  {
   "cell_type": "code",
   "execution_count": 58,
   "outputs": [
    {
     "data": {
      "text/plain": "              datetime  season  holiday  workingday  weather   temp   atemp  \\\n0  2011-01-02 00:00:00       1        0           0        2  18.86  22.725   \n1  2011-01-02 01:00:00       1        0           0        2  18.04  21.970   \n\n   humidity_x  windspeed  casual  registered  count  hour        date  \\\n0          88    19.9995       4          13     17     0  2011-01-02   \n1          94    16.9979       1          16     17     1  2011-01-02   \n\n   humidity_y  \n0         100  \n1         100  ",
      "text/html": "<div>\n<style scoped>\n    .dataframe tbody tr th:only-of-type {\n        vertical-align: middle;\n    }\n\n    .dataframe tbody tr th {\n        vertical-align: top;\n    }\n\n    .dataframe thead th {\n        text-align: right;\n    }\n</style>\n<table border=\"1\" class=\"dataframe\">\n  <thead>\n    <tr style=\"text-align: right;\">\n      <th></th>\n      <th>datetime</th>\n      <th>season</th>\n      <th>holiday</th>\n      <th>workingday</th>\n      <th>weather</th>\n      <th>temp</th>\n      <th>atemp</th>\n      <th>humidity_x</th>\n      <th>windspeed</th>\n      <th>casual</th>\n      <th>registered</th>\n      <th>count</th>\n      <th>hour</th>\n      <th>date</th>\n      <th>humidity_y</th>\n    </tr>\n  </thead>\n  <tbody>\n    <tr>\n      <th>0</th>\n      <td>2011-01-02 00:00:00</td>\n      <td>1</td>\n      <td>0</td>\n      <td>0</td>\n      <td>2</td>\n      <td>18.86</td>\n      <td>22.725</td>\n      <td>88</td>\n      <td>19.9995</td>\n      <td>4</td>\n      <td>13</td>\n      <td>17</td>\n      <td>0</td>\n      <td>2011-01-02</td>\n      <td>100</td>\n    </tr>\n    <tr>\n      <th>1</th>\n      <td>2011-01-02 01:00:00</td>\n      <td>1</td>\n      <td>0</td>\n      <td>0</td>\n      <td>2</td>\n      <td>18.04</td>\n      <td>21.970</td>\n      <td>94</td>\n      <td>16.9979</td>\n      <td>1</td>\n      <td>16</td>\n      <td>17</td>\n      <td>1</td>\n      <td>2011-01-02</td>\n      <td>100</td>\n    </tr>\n  </tbody>\n</table>\n</div>"
     },
     "execution_count": 58,
     "metadata": {},
     "output_type": "execute_result"
    }
   ],
   "source": [
    "df_bike_join = pd.merge(left=df_bike, right=df_bike_h100, left_on='date', right_on='date', how='inner')\n",
    "df_bike_join.head(2)"
   ],
   "metadata": {
    "collapsed": false
   }
  },
  {
   "cell_type": "code",
   "execution_count": 59,
   "outputs": [
    {
     "data": {
      "text/plain": "                datetime  season  holiday  workingday  weather   temp   atemp  \\\n297  2011-04-11 15:00:00       2        0           1        1  30.34  33.335   \n298  2011-04-11 16:00:00       2        0           1        1  30.34  33.335   \n\n     humidity_x  windspeed  casual  registered  count  hour        date  \\\n297          48    35.0008      56          85    141    15  2011-04-11   \n298          48    35.0008      73         162    235    16  2011-04-11   \n\n     humidity_y  \n297         100  \n298         100  ",
      "text/html": "<div>\n<style scoped>\n    .dataframe tbody tr th:only-of-type {\n        vertical-align: middle;\n    }\n\n    .dataframe tbody tr th {\n        vertical-align: top;\n    }\n\n    .dataframe thead th {\n        text-align: right;\n    }\n</style>\n<table border=\"1\" class=\"dataframe\">\n  <thead>\n    <tr style=\"text-align: right;\">\n      <th></th>\n      <th>datetime</th>\n      <th>season</th>\n      <th>holiday</th>\n      <th>workingday</th>\n      <th>weather</th>\n      <th>temp</th>\n      <th>atemp</th>\n      <th>humidity_x</th>\n      <th>windspeed</th>\n      <th>casual</th>\n      <th>registered</th>\n      <th>count</th>\n      <th>hour</th>\n      <th>date</th>\n      <th>humidity_y</th>\n    </tr>\n  </thead>\n  <tbody>\n    <tr>\n      <th>297</th>\n      <td>2011-04-11 15:00:00</td>\n      <td>2</td>\n      <td>0</td>\n      <td>1</td>\n      <td>1</td>\n      <td>30.34</td>\n      <td>33.335</td>\n      <td>48</td>\n      <td>35.0008</td>\n      <td>56</td>\n      <td>85</td>\n      <td>141</td>\n      <td>15</td>\n      <td>2011-04-11</td>\n      <td>100</td>\n    </tr>\n    <tr>\n      <th>298</th>\n      <td>2011-04-11 16:00:00</td>\n      <td>2</td>\n      <td>0</td>\n      <td>1</td>\n      <td>1</td>\n      <td>30.34</td>\n      <td>33.335</td>\n      <td>48</td>\n      <td>35.0008</td>\n      <td>73</td>\n      <td>162</td>\n      <td>235</td>\n      <td>16</td>\n      <td>2011-04-11</td>\n      <td>100</td>\n    </tr>\n  </tbody>\n</table>\n</div>"
     },
     "execution_count": 59,
     "metadata": {},
     "output_type": "execute_result"
    }
   ],
   "source": [
    "df_bike_join_temp_up30 = df_bike_join.loc[df_bike_join['temp'] > 30]\n",
    "df_bike_join_temp_up30.head(2)"
   ],
   "metadata": {
    "collapsed": false
   }
  },
  {
   "cell_type": "code",
   "execution_count": 60,
   "outputs": [
    {
     "data": {
      "text/plain": "338.75"
     },
     "execution_count": 60,
     "metadata": {},
     "output_type": "execute_result"
    }
   ],
   "source": [
    "df_bike_join_temp_up30['count'].mean()"
   ],
   "metadata": {
    "collapsed": false
   }
  }
 ],
 "metadata": {
  "kernelspec": {
   "display_name": "Python 3",
   "language": "python",
   "name": "python3"
  },
  "language_info": {
   "codemirror_mode": {
    "name": "ipython",
    "version": 2
   },
   "file_extension": ".py",
   "mimetype": "text/x-python",
   "name": "python",
   "nbconvert_exporter": "python",
   "pygments_lexer": "ipython2",
   "version": "2.7.6"
  }
 },
 "nbformat": 4,
 "nbformat_minor": 0
}
