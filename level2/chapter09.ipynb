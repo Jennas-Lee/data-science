{
 "cells": [
  {
   "cell_type": "markdown",
   "source": [
    "# 데이터 전처리: 정렬 및 변환"
   ],
   "metadata": {
    "collapsed": false
   }
  },
  {
   "cell_type": "code",
   "execution_count": 1,
   "outputs": [],
   "source": [
    "import pandas as pd\n",
    "from pytz import ascii"
   ],
   "metadata": {
    "collapsed": false
   }
  },
  {
   "cell_type": "code",
   "execution_count": 3,
   "outputs": [
    {
     "data": {
      "text/plain": "   carat      cut color clarity  depth  table  price     x     y     z\n0   0.23    Ideal     E     SI2   61.5   55.0    326  3.95  3.98  2.43\n1   0.21  Premium     E     SI1   59.8   61.0    326  3.89  3.84  2.31",
      "text/html": "<div>\n<style scoped>\n    .dataframe tbody tr th:only-of-type {\n        vertical-align: middle;\n    }\n\n    .dataframe tbody tr th {\n        vertical-align: top;\n    }\n\n    .dataframe thead th {\n        text-align: right;\n    }\n</style>\n<table border=\"1\" class=\"dataframe\">\n  <thead>\n    <tr style=\"text-align: right;\">\n      <th></th>\n      <th>carat</th>\n      <th>cut</th>\n      <th>color</th>\n      <th>clarity</th>\n      <th>depth</th>\n      <th>table</th>\n      <th>price</th>\n      <th>x</th>\n      <th>y</th>\n      <th>z</th>\n    </tr>\n  </thead>\n  <tbody>\n    <tr>\n      <th>0</th>\n      <td>0.23</td>\n      <td>Ideal</td>\n      <td>E</td>\n      <td>SI2</td>\n      <td>61.5</td>\n      <td>55.0</td>\n      <td>326</td>\n      <td>3.95</td>\n      <td>3.98</td>\n      <td>2.43</td>\n    </tr>\n    <tr>\n      <th>1</th>\n      <td>0.21</td>\n      <td>Premium</td>\n      <td>E</td>\n      <td>SI1</td>\n      <td>59.8</td>\n      <td>61.0</td>\n      <td>326</td>\n      <td>3.89</td>\n      <td>3.84</td>\n      <td>2.31</td>\n    </tr>\n  </tbody>\n</table>\n</div>"
     },
     "execution_count": 3,
     "metadata": {},
     "output_type": "execute_result"
    }
   ],
   "source": [
    "dia = pd.read_csv('../datasets/diamonds.csv')\n",
    "dia.head(2)"
   ],
   "metadata": {
    "collapsed": false
   }
  },
  {
   "cell_type": "code",
   "execution_count": 4,
   "outputs": [
    {
     "data": {
      "text/plain": "clarity     I1    IF   SI1   SI2   VS1   VS2  VVS1  VVS2\ncut                                                     \nFair       210     9   408   466   170   261    17    69\nGood        96    71  1560  1081   648   978   186   286\nIdeal      146  1212  4282  2598  3589  5071  2047  2606\nPremium    205   230  3575  2949  1989  3357   616   870\nVery Good   84   268  3240  2100  1775  2591   789  1235",
      "text/html": "<div>\n<style scoped>\n    .dataframe tbody tr th:only-of-type {\n        vertical-align: middle;\n    }\n\n    .dataframe tbody tr th {\n        vertical-align: top;\n    }\n\n    .dataframe thead th {\n        text-align: right;\n    }\n</style>\n<table border=\"1\" class=\"dataframe\">\n  <thead>\n    <tr style=\"text-align: right;\">\n      <th>clarity</th>\n      <th>I1</th>\n      <th>IF</th>\n      <th>SI1</th>\n      <th>SI2</th>\n      <th>VS1</th>\n      <th>VS2</th>\n      <th>VVS1</th>\n      <th>VVS2</th>\n    </tr>\n    <tr>\n      <th>cut</th>\n      <th></th>\n      <th></th>\n      <th></th>\n      <th></th>\n      <th></th>\n      <th></th>\n      <th></th>\n      <th></th>\n    </tr>\n  </thead>\n  <tbody>\n    <tr>\n      <th>Fair</th>\n      <td>210</td>\n      <td>9</td>\n      <td>408</td>\n      <td>466</td>\n      <td>170</td>\n      <td>261</td>\n      <td>17</td>\n      <td>69</td>\n    </tr>\n    <tr>\n      <th>Good</th>\n      <td>96</td>\n      <td>71</td>\n      <td>1560</td>\n      <td>1081</td>\n      <td>648</td>\n      <td>978</td>\n      <td>186</td>\n      <td>286</td>\n    </tr>\n    <tr>\n      <th>Ideal</th>\n      <td>146</td>\n      <td>1212</td>\n      <td>4282</td>\n      <td>2598</td>\n      <td>3589</td>\n      <td>5071</td>\n      <td>2047</td>\n      <td>2606</td>\n    </tr>\n    <tr>\n      <th>Premium</th>\n      <td>205</td>\n      <td>230</td>\n      <td>3575</td>\n      <td>2949</td>\n      <td>1989</td>\n      <td>3357</td>\n      <td>616</td>\n      <td>870</td>\n    </tr>\n    <tr>\n      <th>Very Good</th>\n      <td>84</td>\n      <td>268</td>\n      <td>3240</td>\n      <td>2100</td>\n      <td>1775</td>\n      <td>2591</td>\n      <td>789</td>\n      <td>1235</td>\n    </tr>\n  </tbody>\n</table>\n</div>"
     },
     "execution_count": 4,
     "metadata": {},
     "output_type": "execute_result"
    }
   ],
   "source": [
    "pd.crosstab(dia['cut'], dia['clarity'])"
   ],
   "metadata": {
    "collapsed": false
   }
  },
  {
   "cell_type": "code",
   "execution_count": 5,
   "outputs": [
    {
     "data": {
      "text/plain": "clarity          I1        IF       SI1       SI2       VS1       VS2  \\\ncut                                                                     \nFair       0.003893  0.000167  0.007564  0.008639  0.003152  0.004839   \nGood       0.001780  0.001316  0.028921  0.020041  0.012013  0.018131   \nIdeal      0.002707  0.022469  0.079385  0.048165  0.066537  0.094012   \nPremium    0.003801  0.004264  0.066277  0.054672  0.036874  0.062236   \nVery Good  0.001557  0.004968  0.060067  0.038932  0.032907  0.048035   \n\nclarity        VVS1      VVS2  \ncut                            \nFair       0.000315  0.001279  \nGood       0.003448  0.005302  \nIdeal      0.037950  0.048313  \nPremium    0.011420  0.016129  \nVery Good  0.014627  0.022896  ",
      "text/html": "<div>\n<style scoped>\n    .dataframe tbody tr th:only-of-type {\n        vertical-align: middle;\n    }\n\n    .dataframe tbody tr th {\n        vertical-align: top;\n    }\n\n    .dataframe thead th {\n        text-align: right;\n    }\n</style>\n<table border=\"1\" class=\"dataframe\">\n  <thead>\n    <tr style=\"text-align: right;\">\n      <th>clarity</th>\n      <th>I1</th>\n      <th>IF</th>\n      <th>SI1</th>\n      <th>SI2</th>\n      <th>VS1</th>\n      <th>VS2</th>\n      <th>VVS1</th>\n      <th>VVS2</th>\n    </tr>\n    <tr>\n      <th>cut</th>\n      <th></th>\n      <th></th>\n      <th></th>\n      <th></th>\n      <th></th>\n      <th></th>\n      <th></th>\n      <th></th>\n    </tr>\n  </thead>\n  <tbody>\n    <tr>\n      <th>Fair</th>\n      <td>0.003893</td>\n      <td>0.000167</td>\n      <td>0.007564</td>\n      <td>0.008639</td>\n      <td>0.003152</td>\n      <td>0.004839</td>\n      <td>0.000315</td>\n      <td>0.001279</td>\n    </tr>\n    <tr>\n      <th>Good</th>\n      <td>0.001780</td>\n      <td>0.001316</td>\n      <td>0.028921</td>\n      <td>0.020041</td>\n      <td>0.012013</td>\n      <td>0.018131</td>\n      <td>0.003448</td>\n      <td>0.005302</td>\n    </tr>\n    <tr>\n      <th>Ideal</th>\n      <td>0.002707</td>\n      <td>0.022469</td>\n      <td>0.079385</td>\n      <td>0.048165</td>\n      <td>0.066537</td>\n      <td>0.094012</td>\n      <td>0.037950</td>\n      <td>0.048313</td>\n    </tr>\n    <tr>\n      <th>Premium</th>\n      <td>0.003801</td>\n      <td>0.004264</td>\n      <td>0.066277</td>\n      <td>0.054672</td>\n      <td>0.036874</td>\n      <td>0.062236</td>\n      <td>0.011420</td>\n      <td>0.016129</td>\n    </tr>\n    <tr>\n      <th>Very Good</th>\n      <td>0.001557</td>\n      <td>0.004968</td>\n      <td>0.060067</td>\n      <td>0.038932</td>\n      <td>0.032907</td>\n      <td>0.048035</td>\n      <td>0.014627</td>\n      <td>0.022896</td>\n    </tr>\n  </tbody>\n</table>\n</div>"
     },
     "execution_count": 5,
     "metadata": {},
     "output_type": "execute_result"
    }
   ],
   "source": [
    "pd.crosstab(dia['cut'], dia['clarity'], normalize=True)"
   ],
   "metadata": {
    "collapsed": false
   }
  },
  {
   "cell_type": "code",
   "execution_count": 6,
   "outputs": [
    {
     "data": {
      "text/plain": "clarity     I1    IF   SI1   SI2   VS1   VS2  VVS1  VVS2\ncut                                                     \nFair       0.0  0.00  0.01  0.01  0.00  0.00  0.00  0.00\nGood       0.0  0.00  0.03  0.02  0.01  0.02  0.00  0.01\nIdeal      0.0  0.02  0.08  0.05  0.07  0.09  0.04  0.05\nPremium    0.0  0.00  0.07  0.05  0.04  0.06  0.01  0.02\nVery Good  0.0  0.00  0.06  0.04  0.03  0.05  0.01  0.02",
      "text/html": "<div>\n<style scoped>\n    .dataframe tbody tr th:only-of-type {\n        vertical-align: middle;\n    }\n\n    .dataframe tbody tr th {\n        vertical-align: top;\n    }\n\n    .dataframe thead th {\n        text-align: right;\n    }\n</style>\n<table border=\"1\" class=\"dataframe\">\n  <thead>\n    <tr style=\"text-align: right;\">\n      <th>clarity</th>\n      <th>I1</th>\n      <th>IF</th>\n      <th>SI1</th>\n      <th>SI2</th>\n      <th>VS1</th>\n      <th>VS2</th>\n      <th>VVS1</th>\n      <th>VVS2</th>\n    </tr>\n    <tr>\n      <th>cut</th>\n      <th></th>\n      <th></th>\n      <th></th>\n      <th></th>\n      <th></th>\n      <th></th>\n      <th></th>\n      <th></th>\n    </tr>\n  </thead>\n  <tbody>\n    <tr>\n      <th>Fair</th>\n      <td>0.0</td>\n      <td>0.00</td>\n      <td>0.01</td>\n      <td>0.01</td>\n      <td>0.00</td>\n      <td>0.00</td>\n      <td>0.00</td>\n      <td>0.00</td>\n    </tr>\n    <tr>\n      <th>Good</th>\n      <td>0.0</td>\n      <td>0.00</td>\n      <td>0.03</td>\n      <td>0.02</td>\n      <td>0.01</td>\n      <td>0.02</td>\n      <td>0.00</td>\n      <td>0.01</td>\n    </tr>\n    <tr>\n      <th>Ideal</th>\n      <td>0.0</td>\n      <td>0.02</td>\n      <td>0.08</td>\n      <td>0.05</td>\n      <td>0.07</td>\n      <td>0.09</td>\n      <td>0.04</td>\n      <td>0.05</td>\n    </tr>\n    <tr>\n      <th>Premium</th>\n      <td>0.0</td>\n      <td>0.00</td>\n      <td>0.07</td>\n      <td>0.05</td>\n      <td>0.04</td>\n      <td>0.06</td>\n      <td>0.01</td>\n      <td>0.02</td>\n    </tr>\n    <tr>\n      <th>Very Good</th>\n      <td>0.0</td>\n      <td>0.00</td>\n      <td>0.06</td>\n      <td>0.04</td>\n      <td>0.03</td>\n      <td>0.05</td>\n      <td>0.01</td>\n      <td>0.02</td>\n    </tr>\n  </tbody>\n</table>\n</div>"
     },
     "execution_count": 6,
     "metadata": {},
     "output_type": "execute_result"
    }
   ],
   "source": [
    "pd.crosstab(dia['cut'], dia['clarity'], normalize=True).round(2)"
   ],
   "metadata": {
    "collapsed": false
   }
  },
  {
   "cell_type": "code",
   "execution_count": 7,
   "outputs": [
    {
     "data": {
      "text/plain": "clarity          I1        IF       SI1       SI2       VS1       VS2  \\\ncut                                                                     \nFair       0.130435  0.005590  0.253416  0.289441  0.105590  0.162112   \nGood       0.019568  0.014472  0.317978  0.220342  0.132083  0.199348   \nIdeal      0.006775  0.056239  0.198691  0.120551  0.166535  0.235302   \nPremium    0.014865  0.016678  0.259227  0.213835  0.144224  0.243420   \nVery Good  0.006952  0.022182  0.268168  0.173812  0.146913  0.214451   \n\nclarity        VVS1      VVS2  \ncut                            \nFair       0.010559  0.042857  \nGood       0.037913  0.058296  \nIdeal      0.094984  0.120922  \nPremium    0.044667  0.063085  \nVery Good  0.065304  0.102218  ",
      "text/html": "<div>\n<style scoped>\n    .dataframe tbody tr th:only-of-type {\n        vertical-align: middle;\n    }\n\n    .dataframe tbody tr th {\n        vertical-align: top;\n    }\n\n    .dataframe thead th {\n        text-align: right;\n    }\n</style>\n<table border=\"1\" class=\"dataframe\">\n  <thead>\n    <tr style=\"text-align: right;\">\n      <th>clarity</th>\n      <th>I1</th>\n      <th>IF</th>\n      <th>SI1</th>\n      <th>SI2</th>\n      <th>VS1</th>\n      <th>VS2</th>\n      <th>VVS1</th>\n      <th>VVS2</th>\n    </tr>\n    <tr>\n      <th>cut</th>\n      <th></th>\n      <th></th>\n      <th></th>\n      <th></th>\n      <th></th>\n      <th></th>\n      <th></th>\n      <th></th>\n    </tr>\n  </thead>\n  <tbody>\n    <tr>\n      <th>Fair</th>\n      <td>0.130435</td>\n      <td>0.005590</td>\n      <td>0.253416</td>\n      <td>0.289441</td>\n      <td>0.105590</td>\n      <td>0.162112</td>\n      <td>0.010559</td>\n      <td>0.042857</td>\n    </tr>\n    <tr>\n      <th>Good</th>\n      <td>0.019568</td>\n      <td>0.014472</td>\n      <td>0.317978</td>\n      <td>0.220342</td>\n      <td>0.132083</td>\n      <td>0.199348</td>\n      <td>0.037913</td>\n      <td>0.058296</td>\n    </tr>\n    <tr>\n      <th>Ideal</th>\n      <td>0.006775</td>\n      <td>0.056239</td>\n      <td>0.198691</td>\n      <td>0.120551</td>\n      <td>0.166535</td>\n      <td>0.235302</td>\n      <td>0.094984</td>\n      <td>0.120922</td>\n    </tr>\n    <tr>\n      <th>Premium</th>\n      <td>0.014865</td>\n      <td>0.016678</td>\n      <td>0.259227</td>\n      <td>0.213835</td>\n      <td>0.144224</td>\n      <td>0.243420</td>\n      <td>0.044667</td>\n      <td>0.063085</td>\n    </tr>\n    <tr>\n      <th>Very Good</th>\n      <td>0.006952</td>\n      <td>0.022182</td>\n      <td>0.268168</td>\n      <td>0.173812</td>\n      <td>0.146913</td>\n      <td>0.214451</td>\n      <td>0.065304</td>\n      <td>0.102218</td>\n    </tr>\n  </tbody>\n</table>\n</div>"
     },
     "execution_count": 7,
     "metadata": {},
     "output_type": "execute_result"
    }
   ],
   "source": [
    "pd.crosstab(dia['cut'], dia['clarity'], normalize=0)    # row 기준"
   ],
   "metadata": {
    "collapsed": false
   }
  },
  {
   "cell_type": "code",
   "execution_count": 8,
   "outputs": [
    {
     "data": {
      "text/plain": "clarity          I1        IF       SI1       SI2       VS1       VS2  \\\ncut                                                                     \nFair       0.283401  0.005028  0.031228  0.050685  0.020805  0.021292   \nGood       0.129555  0.039665  0.119403  0.117577  0.079305  0.079785   \nIdeal      0.197031  0.677095  0.327746  0.282576  0.439236  0.413689   \nPremium    0.276653  0.128492  0.273632  0.320753  0.243422  0.273862   \nVery Good  0.113360  0.149721  0.247991  0.228410  0.217232  0.211372   \n\nclarity        VVS1      VVS2  \ncut                            \nFair       0.004651  0.013620  \nGood       0.050889  0.056455  \nIdeal      0.560055  0.514410  \nPremium    0.168536  0.171733  \nVery Good  0.215869  0.243782  ",
      "text/html": "<div>\n<style scoped>\n    .dataframe tbody tr th:only-of-type {\n        vertical-align: middle;\n    }\n\n    .dataframe tbody tr th {\n        vertical-align: top;\n    }\n\n    .dataframe thead th {\n        text-align: right;\n    }\n</style>\n<table border=\"1\" class=\"dataframe\">\n  <thead>\n    <tr style=\"text-align: right;\">\n      <th>clarity</th>\n      <th>I1</th>\n      <th>IF</th>\n      <th>SI1</th>\n      <th>SI2</th>\n      <th>VS1</th>\n      <th>VS2</th>\n      <th>VVS1</th>\n      <th>VVS2</th>\n    </tr>\n    <tr>\n      <th>cut</th>\n      <th></th>\n      <th></th>\n      <th></th>\n      <th></th>\n      <th></th>\n      <th></th>\n      <th></th>\n      <th></th>\n    </tr>\n  </thead>\n  <tbody>\n    <tr>\n      <th>Fair</th>\n      <td>0.283401</td>\n      <td>0.005028</td>\n      <td>0.031228</td>\n      <td>0.050685</td>\n      <td>0.020805</td>\n      <td>0.021292</td>\n      <td>0.004651</td>\n      <td>0.013620</td>\n    </tr>\n    <tr>\n      <th>Good</th>\n      <td>0.129555</td>\n      <td>0.039665</td>\n      <td>0.119403</td>\n      <td>0.117577</td>\n      <td>0.079305</td>\n      <td>0.079785</td>\n      <td>0.050889</td>\n      <td>0.056455</td>\n    </tr>\n    <tr>\n      <th>Ideal</th>\n      <td>0.197031</td>\n      <td>0.677095</td>\n      <td>0.327746</td>\n      <td>0.282576</td>\n      <td>0.439236</td>\n      <td>0.413689</td>\n      <td>0.560055</td>\n      <td>0.514410</td>\n    </tr>\n    <tr>\n      <th>Premium</th>\n      <td>0.276653</td>\n      <td>0.128492</td>\n      <td>0.273632</td>\n      <td>0.320753</td>\n      <td>0.243422</td>\n      <td>0.273862</td>\n      <td>0.168536</td>\n      <td>0.171733</td>\n    </tr>\n    <tr>\n      <th>Very Good</th>\n      <td>0.113360</td>\n      <td>0.149721</td>\n      <td>0.247991</td>\n      <td>0.228410</td>\n      <td>0.217232</td>\n      <td>0.211372</td>\n      <td>0.215869</td>\n      <td>0.243782</td>\n    </tr>\n  </tbody>\n</table>\n</div>"
     },
     "execution_count": 8,
     "metadata": {},
     "output_type": "execute_result"
    }
   ],
   "source": [
    "pd.crosstab(dia['cut'], dia['clarity'], normalize=1)    # column 기준"
   ],
   "metadata": {
    "collapsed": false
   }
  },
  {
   "cell_type": "code",
   "execution_count": 9,
   "outputs": [
    {
     "data": {
      "text/plain": "clarity             I1           IF          SI1          SI2          VS1  \\\ncut                                                                          \nFair       3703.533333  1912.333333  4208.279412  5173.916309  4165.141176   \nGood       3596.635417  4098.323944  3689.533333  4580.260870  3801.445988   \nIdeal      4335.726027  2272.913366  3752.118169  4755.952656  3489.744497   \nPremium    3947.331707  3856.143478  4455.269371  5545.936928  4485.462041   \nVery Good  4078.226190  4396.216418  3932.391049  4988.688095  3805.353239   \n\nclarity            VS2         VVS1         VVS2  \ncut                                               \nFair       4174.724138  3871.352941  3349.768116  \nGood       4262.236196  2254.774194  3079.108392  \nIdeal      3284.550385  2468.129458  3250.290100  \nPremium    4550.331248  2831.206169  3795.122989  \nVery Good  4215.759552  2459.441065  3037.765182  ",
      "text/html": "<div>\n<style scoped>\n    .dataframe tbody tr th:only-of-type {\n        vertical-align: middle;\n    }\n\n    .dataframe tbody tr th {\n        vertical-align: top;\n    }\n\n    .dataframe thead th {\n        text-align: right;\n    }\n</style>\n<table border=\"1\" class=\"dataframe\">\n  <thead>\n    <tr style=\"text-align: right;\">\n      <th>clarity</th>\n      <th>I1</th>\n      <th>IF</th>\n      <th>SI1</th>\n      <th>SI2</th>\n      <th>VS1</th>\n      <th>VS2</th>\n      <th>VVS1</th>\n      <th>VVS2</th>\n    </tr>\n    <tr>\n      <th>cut</th>\n      <th></th>\n      <th></th>\n      <th></th>\n      <th></th>\n      <th></th>\n      <th></th>\n      <th></th>\n      <th></th>\n    </tr>\n  </thead>\n  <tbody>\n    <tr>\n      <th>Fair</th>\n      <td>3703.533333</td>\n      <td>1912.333333</td>\n      <td>4208.279412</td>\n      <td>5173.916309</td>\n      <td>4165.141176</td>\n      <td>4174.724138</td>\n      <td>3871.352941</td>\n      <td>3349.768116</td>\n    </tr>\n    <tr>\n      <th>Good</th>\n      <td>3596.635417</td>\n      <td>4098.323944</td>\n      <td>3689.533333</td>\n      <td>4580.260870</td>\n      <td>3801.445988</td>\n      <td>4262.236196</td>\n      <td>2254.774194</td>\n      <td>3079.108392</td>\n    </tr>\n    <tr>\n      <th>Ideal</th>\n      <td>4335.726027</td>\n      <td>2272.913366</td>\n      <td>3752.118169</td>\n      <td>4755.952656</td>\n      <td>3489.744497</td>\n      <td>3284.550385</td>\n      <td>2468.129458</td>\n      <td>3250.290100</td>\n    </tr>\n    <tr>\n      <th>Premium</th>\n      <td>3947.331707</td>\n      <td>3856.143478</td>\n      <td>4455.269371</td>\n      <td>5545.936928</td>\n      <td>4485.462041</td>\n      <td>4550.331248</td>\n      <td>2831.206169</td>\n      <td>3795.122989</td>\n    </tr>\n    <tr>\n      <th>Very Good</th>\n      <td>4078.226190</td>\n      <td>4396.216418</td>\n      <td>3932.391049</td>\n      <td>4988.688095</td>\n      <td>3805.353239</td>\n      <td>4215.759552</td>\n      <td>2459.441065</td>\n      <td>3037.765182</td>\n    </tr>\n  </tbody>\n</table>\n</div>"
     },
     "execution_count": 9,
     "metadata": {},
     "output_type": "execute_result"
    }
   ],
   "source": [
    "pd.crosstab(dia['cut'], dia['clarity'], values=dia['price'], aggfunc=pd.Series.mean)"
   ],
   "metadata": {
    "collapsed": false
   }
  },
  {
   "cell_type": "code",
   "execution_count": 11,
   "outputs": [
    {
     "data": {
      "text/plain": "          cut clarity        price\n0        Fair      I1  3703.533333\n1        Fair      IF  1912.333333\n2        Fair     SI1  4208.279412\n3        Fair     SI2  5173.916309\n4        Fair     VS1  4165.141176\n5        Fair     VS2  4174.724138\n6        Fair    VVS1  3871.352941\n7        Fair    VVS2  3349.768116\n8        Good      I1  3596.635417\n9        Good      IF  4098.323944\n10       Good     SI1  3689.533333\n11       Good     SI2  4580.260870\n12       Good     VS1  3801.445988\n13       Good     VS2  4262.236196\n14       Good    VVS1  2254.774194\n15       Good    VVS2  3079.108392\n16      Ideal      I1  4335.726027\n17      Ideal      IF  2272.913366\n18      Ideal     SI1  3752.118169\n19      Ideal     SI2  4755.952656\n20      Ideal     VS1  3489.744497\n21      Ideal     VS2  3284.550385\n22      Ideal    VVS1  2468.129458\n23      Ideal    VVS2  3250.290100\n24    Premium      I1  3947.331707\n25    Premium      IF  3856.143478\n26    Premium     SI1  4455.269371\n27    Premium     SI2  5545.936928\n28    Premium     VS1  4485.462041\n29    Premium     VS2  4550.331248\n30    Premium    VVS1  2831.206169\n31    Premium    VVS2  3795.122989\n32  Very Good      I1  4078.226190\n33  Very Good      IF  4396.216418\n34  Very Good     SI1  3932.391049\n35  Very Good     SI2  4988.688095\n36  Very Good     VS1  3805.353239\n37  Very Good     VS2  4215.759552\n38  Very Good    VVS1  2459.441065\n39  Very Good    VVS2  3037.765182",
      "text/html": "<div>\n<style scoped>\n    .dataframe tbody tr th:only-of-type {\n        vertical-align: middle;\n    }\n\n    .dataframe tbody tr th {\n        vertical-align: top;\n    }\n\n    .dataframe thead th {\n        text-align: right;\n    }\n</style>\n<table border=\"1\" class=\"dataframe\">\n  <thead>\n    <tr style=\"text-align: right;\">\n      <th></th>\n      <th>cut</th>\n      <th>clarity</th>\n      <th>price</th>\n    </tr>\n  </thead>\n  <tbody>\n    <tr>\n      <th>0</th>\n      <td>Fair</td>\n      <td>I1</td>\n      <td>3703.533333</td>\n    </tr>\n    <tr>\n      <th>1</th>\n      <td>Fair</td>\n      <td>IF</td>\n      <td>1912.333333</td>\n    </tr>\n    <tr>\n      <th>2</th>\n      <td>Fair</td>\n      <td>SI1</td>\n      <td>4208.279412</td>\n    </tr>\n    <tr>\n      <th>3</th>\n      <td>Fair</td>\n      <td>SI2</td>\n      <td>5173.916309</td>\n    </tr>\n    <tr>\n      <th>4</th>\n      <td>Fair</td>\n      <td>VS1</td>\n      <td>4165.141176</td>\n    </tr>\n    <tr>\n      <th>5</th>\n      <td>Fair</td>\n      <td>VS2</td>\n      <td>4174.724138</td>\n    </tr>\n    <tr>\n      <th>6</th>\n      <td>Fair</td>\n      <td>VVS1</td>\n      <td>3871.352941</td>\n    </tr>\n    <tr>\n      <th>7</th>\n      <td>Fair</td>\n      <td>VVS2</td>\n      <td>3349.768116</td>\n    </tr>\n    <tr>\n      <th>8</th>\n      <td>Good</td>\n      <td>I1</td>\n      <td>3596.635417</td>\n    </tr>\n    <tr>\n      <th>9</th>\n      <td>Good</td>\n      <td>IF</td>\n      <td>4098.323944</td>\n    </tr>\n    <tr>\n      <th>10</th>\n      <td>Good</td>\n      <td>SI1</td>\n      <td>3689.533333</td>\n    </tr>\n    <tr>\n      <th>11</th>\n      <td>Good</td>\n      <td>SI2</td>\n      <td>4580.260870</td>\n    </tr>\n    <tr>\n      <th>12</th>\n      <td>Good</td>\n      <td>VS1</td>\n      <td>3801.445988</td>\n    </tr>\n    <tr>\n      <th>13</th>\n      <td>Good</td>\n      <td>VS2</td>\n      <td>4262.236196</td>\n    </tr>\n    <tr>\n      <th>14</th>\n      <td>Good</td>\n      <td>VVS1</td>\n      <td>2254.774194</td>\n    </tr>\n    <tr>\n      <th>15</th>\n      <td>Good</td>\n      <td>VVS2</td>\n      <td>3079.108392</td>\n    </tr>\n    <tr>\n      <th>16</th>\n      <td>Ideal</td>\n      <td>I1</td>\n      <td>4335.726027</td>\n    </tr>\n    <tr>\n      <th>17</th>\n      <td>Ideal</td>\n      <td>IF</td>\n      <td>2272.913366</td>\n    </tr>\n    <tr>\n      <th>18</th>\n      <td>Ideal</td>\n      <td>SI1</td>\n      <td>3752.118169</td>\n    </tr>\n    <tr>\n      <th>19</th>\n      <td>Ideal</td>\n      <td>SI2</td>\n      <td>4755.952656</td>\n    </tr>\n    <tr>\n      <th>20</th>\n      <td>Ideal</td>\n      <td>VS1</td>\n      <td>3489.744497</td>\n    </tr>\n    <tr>\n      <th>21</th>\n      <td>Ideal</td>\n      <td>VS2</td>\n      <td>3284.550385</td>\n    </tr>\n    <tr>\n      <th>22</th>\n      <td>Ideal</td>\n      <td>VVS1</td>\n      <td>2468.129458</td>\n    </tr>\n    <tr>\n      <th>23</th>\n      <td>Ideal</td>\n      <td>VVS2</td>\n      <td>3250.290100</td>\n    </tr>\n    <tr>\n      <th>24</th>\n      <td>Premium</td>\n      <td>I1</td>\n      <td>3947.331707</td>\n    </tr>\n    <tr>\n      <th>25</th>\n      <td>Premium</td>\n      <td>IF</td>\n      <td>3856.143478</td>\n    </tr>\n    <tr>\n      <th>26</th>\n      <td>Premium</td>\n      <td>SI1</td>\n      <td>4455.269371</td>\n    </tr>\n    <tr>\n      <th>27</th>\n      <td>Premium</td>\n      <td>SI2</td>\n      <td>5545.936928</td>\n    </tr>\n    <tr>\n      <th>28</th>\n      <td>Premium</td>\n      <td>VS1</td>\n      <td>4485.462041</td>\n    </tr>\n    <tr>\n      <th>29</th>\n      <td>Premium</td>\n      <td>VS2</td>\n      <td>4550.331248</td>\n    </tr>\n    <tr>\n      <th>30</th>\n      <td>Premium</td>\n      <td>VVS1</td>\n      <td>2831.206169</td>\n    </tr>\n    <tr>\n      <th>31</th>\n      <td>Premium</td>\n      <td>VVS2</td>\n      <td>3795.122989</td>\n    </tr>\n    <tr>\n      <th>32</th>\n      <td>Very Good</td>\n      <td>I1</td>\n      <td>4078.226190</td>\n    </tr>\n    <tr>\n      <th>33</th>\n      <td>Very Good</td>\n      <td>IF</td>\n      <td>4396.216418</td>\n    </tr>\n    <tr>\n      <th>34</th>\n      <td>Very Good</td>\n      <td>SI1</td>\n      <td>3932.391049</td>\n    </tr>\n    <tr>\n      <th>35</th>\n      <td>Very Good</td>\n      <td>SI2</td>\n      <td>4988.688095</td>\n    </tr>\n    <tr>\n      <th>36</th>\n      <td>Very Good</td>\n      <td>VS1</td>\n      <td>3805.353239</td>\n    </tr>\n    <tr>\n      <th>37</th>\n      <td>Very Good</td>\n      <td>VS2</td>\n      <td>4215.759552</td>\n    </tr>\n    <tr>\n      <th>38</th>\n      <td>Very Good</td>\n      <td>VVS1</td>\n      <td>2459.441065</td>\n    </tr>\n    <tr>\n      <th>39</th>\n      <td>Very Good</td>\n      <td>VVS2</td>\n      <td>3037.765182</td>\n    </tr>\n  </tbody>\n</table>\n</div>"
     },
     "execution_count": 11,
     "metadata": {},
     "output_type": "execute_result"
    }
   ],
   "source": [
    "# pd.crosstab(dia['cut'], dia['clarity'], values=dia['price'], aggfunc=pd.Series.mean)\n",
    "\n",
    "dia.groupby(['cut', 'clarity'])['price'].mean().reset_index()"
   ],
   "metadata": {
    "collapsed": false
   }
  },
  {
   "cell_type": "code",
   "execution_count": 12,
   "outputs": [
    {
     "data": {
      "text/plain": "    cut clarity        price\n0  Fair      I1  3703.533333\n1  Fair      IF  1912.333333\n2  Fair     SI1  4208.279412\n3  Fair     SI2  5173.916309\n4  Fair     VS1  4165.141176",
      "text/html": "<div>\n<style scoped>\n    .dataframe tbody tr th:only-of-type {\n        vertical-align: middle;\n    }\n\n    .dataframe tbody tr th {\n        vertical-align: top;\n    }\n\n    .dataframe thead th {\n        text-align: right;\n    }\n</style>\n<table border=\"1\" class=\"dataframe\">\n  <thead>\n    <tr style=\"text-align: right;\">\n      <th></th>\n      <th>cut</th>\n      <th>clarity</th>\n      <th>price</th>\n    </tr>\n  </thead>\n  <tbody>\n    <tr>\n      <th>0</th>\n      <td>Fair</td>\n      <td>I1</td>\n      <td>3703.533333</td>\n    </tr>\n    <tr>\n      <th>1</th>\n      <td>Fair</td>\n      <td>IF</td>\n      <td>1912.333333</td>\n    </tr>\n    <tr>\n      <th>2</th>\n      <td>Fair</td>\n      <td>SI1</td>\n      <td>4208.279412</td>\n    </tr>\n    <tr>\n      <th>3</th>\n      <td>Fair</td>\n      <td>SI2</td>\n      <td>5173.916309</td>\n    </tr>\n    <tr>\n      <th>4</th>\n      <td>Fair</td>\n      <td>VS1</td>\n      <td>4165.141176</td>\n    </tr>\n  </tbody>\n</table>\n</div>"
     },
     "execution_count": 12,
     "metadata": {},
     "output_type": "execute_result"
    }
   ],
   "source": [
    "dig_agg = dia.groupby(['cut', 'clarity'])['price'].mean().reset_index()\n",
    "dig_agg.head()"
   ],
   "metadata": {
    "collapsed": false
   }
  },
  {
   "cell_type": "code",
   "execution_count": 15,
   "outputs": [
    {
     "data": {
      "text/plain": "          cut clarity        price\n1        Fair      IF  1912.333333\n14       Good    VVS1  2254.774194\n17      Ideal      IF  2272.913366\n38  Very Good    VVS1  2459.441065\n22      Ideal    VVS1  2468.129458",
      "text/html": "<div>\n<style scoped>\n    .dataframe tbody tr th:only-of-type {\n        vertical-align: middle;\n    }\n\n    .dataframe tbody tr th {\n        vertical-align: top;\n    }\n\n    .dataframe thead th {\n        text-align: right;\n    }\n</style>\n<table border=\"1\" class=\"dataframe\">\n  <thead>\n    <tr style=\"text-align: right;\">\n      <th></th>\n      <th>cut</th>\n      <th>clarity</th>\n      <th>price</th>\n    </tr>\n  </thead>\n  <tbody>\n    <tr>\n      <th>1</th>\n      <td>Fair</td>\n      <td>IF</td>\n      <td>1912.333333</td>\n    </tr>\n    <tr>\n      <th>14</th>\n      <td>Good</td>\n      <td>VVS1</td>\n      <td>2254.774194</td>\n    </tr>\n    <tr>\n      <th>17</th>\n      <td>Ideal</td>\n      <td>IF</td>\n      <td>2272.913366</td>\n    </tr>\n    <tr>\n      <th>38</th>\n      <td>Very Good</td>\n      <td>VVS1</td>\n      <td>2459.441065</td>\n    </tr>\n    <tr>\n      <th>22</th>\n      <td>Ideal</td>\n      <td>VVS1</td>\n      <td>2468.129458</td>\n    </tr>\n  </tbody>\n</table>\n</div>"
     },
     "execution_count": 15,
     "metadata": {},
     "output_type": "execute_result"
    }
   ],
   "source": [
    "dig_agg.sort_values('price').head() # lower value 5"
   ],
   "metadata": {
    "collapsed": false
   }
  },
  {
   "cell_type": "code",
   "execution_count": 16,
   "outputs": [
    {
     "data": {
      "text/plain": "          cut clarity        price\n27    Premium     SI2  5545.936928\n3        Fair     SI2  5173.916309\n35  Very Good     SI2  4988.688095\n19      Ideal     SI2  4755.952656\n11       Good     SI2  4580.260870",
      "text/html": "<div>\n<style scoped>\n    .dataframe tbody tr th:only-of-type {\n        vertical-align: middle;\n    }\n\n    .dataframe tbody tr th {\n        vertical-align: top;\n    }\n\n    .dataframe thead th {\n        text-align: right;\n    }\n</style>\n<table border=\"1\" class=\"dataframe\">\n  <thead>\n    <tr style=\"text-align: right;\">\n      <th></th>\n      <th>cut</th>\n      <th>clarity</th>\n      <th>price</th>\n    </tr>\n  </thead>\n  <tbody>\n    <tr>\n      <th>27</th>\n      <td>Premium</td>\n      <td>SI2</td>\n      <td>5545.936928</td>\n    </tr>\n    <tr>\n      <th>3</th>\n      <td>Fair</td>\n      <td>SI2</td>\n      <td>5173.916309</td>\n    </tr>\n    <tr>\n      <th>35</th>\n      <td>Very Good</td>\n      <td>SI2</td>\n      <td>4988.688095</td>\n    </tr>\n    <tr>\n      <th>19</th>\n      <td>Ideal</td>\n      <td>SI2</td>\n      <td>4755.952656</td>\n    </tr>\n    <tr>\n      <th>11</th>\n      <td>Good</td>\n      <td>SI2</td>\n      <td>4580.260870</td>\n    </tr>\n  </tbody>\n</table>\n</div>"
     },
     "execution_count": 16,
     "metadata": {},
     "output_type": "execute_result"
    }
   ],
   "source": [
    "dig_agg.sort_values('price', ascending=False).head() # upper value 5"
   ],
   "metadata": {
    "collapsed": false
   }
  },
  {
   "cell_type": "code",
   "execution_count": 17,
   "outputs": [
    {
     "data": {
      "text/plain": "    cut clarity        price\n7  Fair    VVS2  3349.768116\n6  Fair    VVS1  3871.352941\n5  Fair     VS2  4174.724138\n4  Fair     VS1  4165.141176\n3  Fair     SI2  5173.916309",
      "text/html": "<div>\n<style scoped>\n    .dataframe tbody tr th:only-of-type {\n        vertical-align: middle;\n    }\n\n    .dataframe tbody tr th {\n        vertical-align: top;\n    }\n\n    .dataframe thead th {\n        text-align: right;\n    }\n</style>\n<table border=\"1\" class=\"dataframe\">\n  <thead>\n    <tr style=\"text-align: right;\">\n      <th></th>\n      <th>cut</th>\n      <th>clarity</th>\n      <th>price</th>\n    </tr>\n  </thead>\n  <tbody>\n    <tr>\n      <th>7</th>\n      <td>Fair</td>\n      <td>VVS2</td>\n      <td>3349.768116</td>\n    </tr>\n    <tr>\n      <th>6</th>\n      <td>Fair</td>\n      <td>VVS1</td>\n      <td>3871.352941</td>\n    </tr>\n    <tr>\n      <th>5</th>\n      <td>Fair</td>\n      <td>VS2</td>\n      <td>4174.724138</td>\n    </tr>\n    <tr>\n      <th>4</th>\n      <td>Fair</td>\n      <td>VS1</td>\n      <td>4165.141176</td>\n    </tr>\n    <tr>\n      <th>3</th>\n      <td>Fair</td>\n      <td>SI2</td>\n      <td>5173.916309</td>\n    </tr>\n  </tbody>\n</table>\n</div>"
     },
     "execution_count": 17,
     "metadata": {},
     "output_type": "execute_result"
    }
   ],
   "source": [
    "dig_agg.sort_values(['cut', 'clarity'], ascending=[True, False]).head()"
   ],
   "metadata": {
    "collapsed": false
   }
  },
  {
   "cell_type": "code",
   "execution_count": 19,
   "outputs": [
    {
     "data": {
      "text/plain": "   YEAR  MONTH  DAY   X1HR   X2HR   X3HR   X4HR   X5HR   X6HR   X7HR  ...  \\\n0  2017      1    1  60178  57862  56165  55135  54450  54401  54147  ...   \n1  2017      1    2  57067  55148  53983  53571  54027  55388  57753  ...   \n\n   X15HR  X16HR  X17HR  X18HR  X19HR  X20HR  X21HR  X22HR  X23HR  X24HR  \n0  49213  49357  50362  53115  55205  55437  55348  55790  58195  59330  \n1  72228  71945  72641  73387  72294  69989  67893  66504  67435  69275  \n\n[2 rows x 27 columns]",
      "text/html": "<div>\n<style scoped>\n    .dataframe tbody tr th:only-of-type {\n        vertical-align: middle;\n    }\n\n    .dataframe tbody tr th {\n        vertical-align: top;\n    }\n\n    .dataframe thead th {\n        text-align: right;\n    }\n</style>\n<table border=\"1\" class=\"dataframe\">\n  <thead>\n    <tr style=\"text-align: right;\">\n      <th></th>\n      <th>YEAR</th>\n      <th>MONTH</th>\n      <th>DAY</th>\n      <th>X1HR</th>\n      <th>X2HR</th>\n      <th>X3HR</th>\n      <th>X4HR</th>\n      <th>X5HR</th>\n      <th>X6HR</th>\n      <th>X7HR</th>\n      <th>...</th>\n      <th>X15HR</th>\n      <th>X16HR</th>\n      <th>X17HR</th>\n      <th>X18HR</th>\n      <th>X19HR</th>\n      <th>X20HR</th>\n      <th>X21HR</th>\n      <th>X22HR</th>\n      <th>X23HR</th>\n      <th>X24HR</th>\n    </tr>\n  </thead>\n  <tbody>\n    <tr>\n      <th>0</th>\n      <td>2017</td>\n      <td>1</td>\n      <td>1</td>\n      <td>60178</td>\n      <td>57862</td>\n      <td>56165</td>\n      <td>55135</td>\n      <td>54450</td>\n      <td>54401</td>\n      <td>54147</td>\n      <td>...</td>\n      <td>49213</td>\n      <td>49357</td>\n      <td>50362</td>\n      <td>53115</td>\n      <td>55205</td>\n      <td>55437</td>\n      <td>55348</td>\n      <td>55790</td>\n      <td>58195</td>\n      <td>59330</td>\n    </tr>\n    <tr>\n      <th>1</th>\n      <td>2017</td>\n      <td>1</td>\n      <td>2</td>\n      <td>57067</td>\n      <td>55148</td>\n      <td>53983</td>\n      <td>53571</td>\n      <td>54027</td>\n      <td>55388</td>\n      <td>57753</td>\n      <td>...</td>\n      <td>72228</td>\n      <td>71945</td>\n      <td>72641</td>\n      <td>73387</td>\n      <td>72294</td>\n      <td>69989</td>\n      <td>67893</td>\n      <td>66504</td>\n      <td>67435</td>\n      <td>69275</td>\n    </tr>\n  </tbody>\n</table>\n<p>2 rows × 27 columns</p>\n</div>"
     },
     "execution_count": 19,
     "metadata": {},
     "output_type": "execute_result"
    }
   ],
   "source": [
    "elec = pd.read_csv('../datasets/elec_load_2017_7d.csv')\n",
    "elec.head(2)"
   ],
   "metadata": {
    "collapsed": false
   }
  },
  {
   "cell_type": "code",
   "execution_count": 20,
   "outputs": [
    {
     "data": {
      "text/plain": "   YEAR  MONTH  DAY variable  value\n0  2017      1    1     X1HR  60178\n1  2017      1    2     X1HR  57067",
      "text/html": "<div>\n<style scoped>\n    .dataframe tbody tr th:only-of-type {\n        vertical-align: middle;\n    }\n\n    .dataframe tbody tr th {\n        vertical-align: top;\n    }\n\n    .dataframe thead th {\n        text-align: right;\n    }\n</style>\n<table border=\"1\" class=\"dataframe\">\n  <thead>\n    <tr style=\"text-align: right;\">\n      <th></th>\n      <th>YEAR</th>\n      <th>MONTH</th>\n      <th>DAY</th>\n      <th>variable</th>\n      <th>value</th>\n    </tr>\n  </thead>\n  <tbody>\n    <tr>\n      <th>0</th>\n      <td>2017</td>\n      <td>1</td>\n      <td>1</td>\n      <td>X1HR</td>\n      <td>60178</td>\n    </tr>\n    <tr>\n      <th>1</th>\n      <td>2017</td>\n      <td>1</td>\n      <td>2</td>\n      <td>X1HR</td>\n      <td>57067</td>\n    </tr>\n  </tbody>\n</table>\n</div>"
     },
     "execution_count": 20,
     "metadata": {},
     "output_type": "execute_result"
    }
   ],
   "source": [
    "elec_ment = elec.melt(id_vars=['YEAR', 'MONTH', 'DAY'])\n",
    "elec_ment.head(2)"
   ],
   "metadata": {
    "collapsed": false
   }
  },
  {
   "cell_type": "code",
   "execution_count": 21,
   "outputs": [
    {
     "name": "stdout",
     "output_type": "stream",
     "text": [
      "7\n",
      "168\n"
     ]
    }
   ],
   "source": [
    "print(len(elec))\n",
    "print(len(elec_ment))"
   ],
   "metadata": {
    "collapsed": false
   }
  },
  {
   "cell_type": "code",
   "execution_count": 23,
   "outputs": [
    {
     "data": {
      "text/plain": "variable  YEAR  MONTH  DAY  X10HR  X11HR  X12HR  X13HR  X14HR  X15HR  X16HR  \\\n0         2017      1    1  49572  50034  50026  49515  49365  49213  49357   \n1         2017      1    2  70869  72867  73115  69165  71429  72228  71945   \n2         2017      1    3  75999  76522  76019  72203  74725  75576  75168   \n3         2017      1    4  76175  76375  75862  72288  74360  74977  74275   \n4         2017      1    5  66806  68030  67878  64439  64986  64767  63613   \n5         2017      1    6  55679  56548  56435  55563  55759  55408  55256   \n6         2017      1    7  75383  74984  74066  70335  72507  73064  72466   \n\nvariable  ...  X23HR  X24HR   X2HR   X3HR   X4HR   X5HR   X6HR   X7HR   X8HR  \\\n0         ...  58195  59330  57862  56165  55135  54450  54401  54147  52467   \n1         ...  67435  69275  55148  53983  53571  54027  55388  57753  60781   \n2         ...  69593  71346  64233  63194  62461  62649  63396  65098  67745   \n3         ...  68948  70834  66143  65051  64245  64152  64678  66494  68851   \n4         ...  64350  66687  65801  64439  63437  63135  63250  63658  63441   \n5         ...  62288  63214  62010  60783  59779  59398  59296  58984  57533   \n6         ...  67697  69219  58974  57845  57387  57749  58794  60869  64665   \n\nvariable   X9HR  \n0         50469  \n1         66494  \n2         72982  \n3         73835  \n4         65640  \n5         56159  \n6         71544  \n\n[7 rows x 27 columns]",
      "text/html": "<div>\n<style scoped>\n    .dataframe tbody tr th:only-of-type {\n        vertical-align: middle;\n    }\n\n    .dataframe tbody tr th {\n        vertical-align: top;\n    }\n\n    .dataframe thead th {\n        text-align: right;\n    }\n</style>\n<table border=\"1\" class=\"dataframe\">\n  <thead>\n    <tr style=\"text-align: right;\">\n      <th>variable</th>\n      <th>YEAR</th>\n      <th>MONTH</th>\n      <th>DAY</th>\n      <th>X10HR</th>\n      <th>X11HR</th>\n      <th>X12HR</th>\n      <th>X13HR</th>\n      <th>X14HR</th>\n      <th>X15HR</th>\n      <th>X16HR</th>\n      <th>...</th>\n      <th>X23HR</th>\n      <th>X24HR</th>\n      <th>X2HR</th>\n      <th>X3HR</th>\n      <th>X4HR</th>\n      <th>X5HR</th>\n      <th>X6HR</th>\n      <th>X7HR</th>\n      <th>X8HR</th>\n      <th>X9HR</th>\n    </tr>\n  </thead>\n  <tbody>\n    <tr>\n      <th>0</th>\n      <td>2017</td>\n      <td>1</td>\n      <td>1</td>\n      <td>49572</td>\n      <td>50034</td>\n      <td>50026</td>\n      <td>49515</td>\n      <td>49365</td>\n      <td>49213</td>\n      <td>49357</td>\n      <td>...</td>\n      <td>58195</td>\n      <td>59330</td>\n      <td>57862</td>\n      <td>56165</td>\n      <td>55135</td>\n      <td>54450</td>\n      <td>54401</td>\n      <td>54147</td>\n      <td>52467</td>\n      <td>50469</td>\n    </tr>\n    <tr>\n      <th>1</th>\n      <td>2017</td>\n      <td>1</td>\n      <td>2</td>\n      <td>70869</td>\n      <td>72867</td>\n      <td>73115</td>\n      <td>69165</td>\n      <td>71429</td>\n      <td>72228</td>\n      <td>71945</td>\n      <td>...</td>\n      <td>67435</td>\n      <td>69275</td>\n      <td>55148</td>\n      <td>53983</td>\n      <td>53571</td>\n      <td>54027</td>\n      <td>55388</td>\n      <td>57753</td>\n      <td>60781</td>\n      <td>66494</td>\n    </tr>\n    <tr>\n      <th>2</th>\n      <td>2017</td>\n      <td>1</td>\n      <td>3</td>\n      <td>75999</td>\n      <td>76522</td>\n      <td>76019</td>\n      <td>72203</td>\n      <td>74725</td>\n      <td>75576</td>\n      <td>75168</td>\n      <td>...</td>\n      <td>69593</td>\n      <td>71346</td>\n      <td>64233</td>\n      <td>63194</td>\n      <td>62461</td>\n      <td>62649</td>\n      <td>63396</td>\n      <td>65098</td>\n      <td>67745</td>\n      <td>72982</td>\n    </tr>\n    <tr>\n      <th>3</th>\n      <td>2017</td>\n      <td>1</td>\n      <td>4</td>\n      <td>76175</td>\n      <td>76375</td>\n      <td>75862</td>\n      <td>72288</td>\n      <td>74360</td>\n      <td>74977</td>\n      <td>74275</td>\n      <td>...</td>\n      <td>68948</td>\n      <td>70834</td>\n      <td>66143</td>\n      <td>65051</td>\n      <td>64245</td>\n      <td>64152</td>\n      <td>64678</td>\n      <td>66494</td>\n      <td>68851</td>\n      <td>73835</td>\n    </tr>\n    <tr>\n      <th>4</th>\n      <td>2017</td>\n      <td>1</td>\n      <td>5</td>\n      <td>66806</td>\n      <td>68030</td>\n      <td>67878</td>\n      <td>64439</td>\n      <td>64986</td>\n      <td>64767</td>\n      <td>63613</td>\n      <td>...</td>\n      <td>64350</td>\n      <td>66687</td>\n      <td>65801</td>\n      <td>64439</td>\n      <td>63437</td>\n      <td>63135</td>\n      <td>63250</td>\n      <td>63658</td>\n      <td>63441</td>\n      <td>65640</td>\n    </tr>\n    <tr>\n      <th>5</th>\n      <td>2017</td>\n      <td>1</td>\n      <td>6</td>\n      <td>55679</td>\n      <td>56548</td>\n      <td>56435</td>\n      <td>55563</td>\n      <td>55759</td>\n      <td>55408</td>\n      <td>55256</td>\n      <td>...</td>\n      <td>62288</td>\n      <td>63214</td>\n      <td>62010</td>\n      <td>60783</td>\n      <td>59779</td>\n      <td>59398</td>\n      <td>59296</td>\n      <td>58984</td>\n      <td>57533</td>\n      <td>56159</td>\n    </tr>\n    <tr>\n      <th>6</th>\n      <td>2017</td>\n      <td>1</td>\n      <td>7</td>\n      <td>75383</td>\n      <td>74984</td>\n      <td>74066</td>\n      <td>70335</td>\n      <td>72507</td>\n      <td>73064</td>\n      <td>72466</td>\n      <td>...</td>\n      <td>67697</td>\n      <td>69219</td>\n      <td>58974</td>\n      <td>57845</td>\n      <td>57387</td>\n      <td>57749</td>\n      <td>58794</td>\n      <td>60869</td>\n      <td>64665</td>\n      <td>71544</td>\n    </tr>\n  </tbody>\n</table>\n<p>7 rows × 27 columns</p>\n</div>"
     },
     "execution_count": 23,
     "metadata": {},
     "output_type": "execute_result"
    }
   ],
   "source": [
    "elec_pivot = elec_ment.pivot(\n",
    "    index=['YEAR', 'MONTH', 'DAY'],\n",
    "    columns='variable',\n",
    "    values='value'\n",
    ").reset_index()\n",
    "elec_pivot"
   ],
   "metadata": {
    "collapsed": false
   }
  },
  {
   "cell_type": "markdown",
   "source": [
    "### 1. workingday가 아니면서 holiday가 아닌 날의 비율은?\n",
    "\n",
    "bike.csv 사용\n",
    "\n",
    "1. 0\n",
    "2. 0.25\n",
    "3. 0.29\n",
    "4. 0.91"
   ],
   "metadata": {
    "collapsed": false
   }
  },
  {
   "cell_type": "code",
   "execution_count": 24,
   "outputs": [
    {
     "data": {
      "text/plain": "              datetime  season  holiday  workingday  weather  temp   atemp  \\\n0  2011-01-01 00:00:00       1        0           0        1  9.84  14.395   \n1  2011-01-01 01:00:00       1        0           0        1  9.02  13.635   \n2  2011-01-01 02:00:00       1        0           0        1  9.02  13.635   \n3  2011-01-01 03:00:00       1        0           0        1  9.84  14.395   \n4  2011-01-01 04:00:00       1        0           0        1  9.84  14.395   \n\n   humidity  windspeed  casual  registered  count  \n0        81        0.0       3          13     16  \n1        80        0.0       8          32     40  \n2        80        0.0       5          27     32  \n3        75        0.0       3          10     13  \n4        75        0.0       0           1      1  ",
      "text/html": "<div>\n<style scoped>\n    .dataframe tbody tr th:only-of-type {\n        vertical-align: middle;\n    }\n\n    .dataframe tbody tr th {\n        vertical-align: top;\n    }\n\n    .dataframe thead th {\n        text-align: right;\n    }\n</style>\n<table border=\"1\" class=\"dataframe\">\n  <thead>\n    <tr style=\"text-align: right;\">\n      <th></th>\n      <th>datetime</th>\n      <th>season</th>\n      <th>holiday</th>\n      <th>workingday</th>\n      <th>weather</th>\n      <th>temp</th>\n      <th>atemp</th>\n      <th>humidity</th>\n      <th>windspeed</th>\n      <th>casual</th>\n      <th>registered</th>\n      <th>count</th>\n    </tr>\n  </thead>\n  <tbody>\n    <tr>\n      <th>0</th>\n      <td>2011-01-01 00:00:00</td>\n      <td>1</td>\n      <td>0</td>\n      <td>0</td>\n      <td>1</td>\n      <td>9.84</td>\n      <td>14.395</td>\n      <td>81</td>\n      <td>0.0</td>\n      <td>3</td>\n      <td>13</td>\n      <td>16</td>\n    </tr>\n    <tr>\n      <th>1</th>\n      <td>2011-01-01 01:00:00</td>\n      <td>1</td>\n      <td>0</td>\n      <td>0</td>\n      <td>1</td>\n      <td>9.02</td>\n      <td>13.635</td>\n      <td>80</td>\n      <td>0.0</td>\n      <td>8</td>\n      <td>32</td>\n      <td>40</td>\n    </tr>\n    <tr>\n      <th>2</th>\n      <td>2011-01-01 02:00:00</td>\n      <td>1</td>\n      <td>0</td>\n      <td>0</td>\n      <td>1</td>\n      <td>9.02</td>\n      <td>13.635</td>\n      <td>80</td>\n      <td>0.0</td>\n      <td>5</td>\n      <td>27</td>\n      <td>32</td>\n    </tr>\n    <tr>\n      <th>3</th>\n      <td>2011-01-01 03:00:00</td>\n      <td>1</td>\n      <td>0</td>\n      <td>0</td>\n      <td>1</td>\n      <td>9.84</td>\n      <td>14.395</td>\n      <td>75</td>\n      <td>0.0</td>\n      <td>3</td>\n      <td>10</td>\n      <td>13</td>\n    </tr>\n    <tr>\n      <th>4</th>\n      <td>2011-01-01 04:00:00</td>\n      <td>1</td>\n      <td>0</td>\n      <td>0</td>\n      <td>1</td>\n      <td>9.84</td>\n      <td>14.395</td>\n      <td>75</td>\n      <td>0.0</td>\n      <td>0</td>\n      <td>1</td>\n      <td>1</td>\n    </tr>\n  </tbody>\n</table>\n</div>"
     },
     "execution_count": 24,
     "metadata": {},
     "output_type": "execute_result"
    }
   ],
   "source": [
    "bike = pd.read_csv('../datasets/bike.csv')\n",
    "bike.head()"
   ],
   "metadata": {
    "collapsed": false
   }
  },
  {
   "cell_type": "code",
   "execution_count": 26,
   "outputs": [
    {
     "data": {
      "text/plain": "holiday            0         1\nworkingday                    \n0           0.290557  0.028569\n1           0.680875  0.000000",
      "text/html": "<div>\n<style scoped>\n    .dataframe tbody tr th:only-of-type {\n        vertical-align: middle;\n    }\n\n    .dataframe tbody tr th {\n        vertical-align: top;\n    }\n\n    .dataframe thead th {\n        text-align: right;\n    }\n</style>\n<table border=\"1\" class=\"dataframe\">\n  <thead>\n    <tr style=\"text-align: right;\">\n      <th>holiday</th>\n      <th>0</th>\n      <th>1</th>\n    </tr>\n    <tr>\n      <th>workingday</th>\n      <th></th>\n      <th></th>\n    </tr>\n  </thead>\n  <tbody>\n    <tr>\n      <th>0</th>\n      <td>0.290557</td>\n      <td>0.028569</td>\n    </tr>\n    <tr>\n      <th>1</th>\n      <td>0.680875</td>\n      <td>0.000000</td>\n    </tr>\n  </tbody>\n</table>\n</div>"
     },
     "execution_count": 26,
     "metadata": {},
     "output_type": "execute_result"
    }
   ],
   "source": [
    "pd.crosstab(bike['workingday'], bike['holiday'], normalize=True)"
   ],
   "metadata": {
    "collapsed": false
   }
  },
  {
   "cell_type": "markdown",
   "source": [
    "### 2. 가장 많은 데이터가 있는 세공 수준과 색상 조합을 순서대로 고르면?\n",
    "\n",
    "diamonds.csv 사용\n",
    "\n",
    "1. Ideal, G\n",
    "2. Fair, D\n",
    "3. Premium, E\n",
    "4. Good, I"
   ],
   "metadata": {
    "collapsed": false
   }
  },
  {
   "cell_type": "code",
   "execution_count": 27,
   "outputs": [
    {
     "data": {
      "text/plain": "   carat      cut color clarity  depth  table  price     x     y     z\n0   0.23    Ideal     E     SI2   61.5   55.0    326  3.95  3.98  2.43\n1   0.21  Premium     E     SI1   59.8   61.0    326  3.89  3.84  2.31\n2   0.23     Good     E     VS1   56.9   65.0    327  4.05  4.07  2.31\n3   0.29  Premium     I     VS2   62.4   58.0    334  4.20  4.23  2.63\n4   0.31     Good     J     SI2   63.3   58.0    335  4.34  4.35  2.75",
      "text/html": "<div>\n<style scoped>\n    .dataframe tbody tr th:only-of-type {\n        vertical-align: middle;\n    }\n\n    .dataframe tbody tr th {\n        vertical-align: top;\n    }\n\n    .dataframe thead th {\n        text-align: right;\n    }\n</style>\n<table border=\"1\" class=\"dataframe\">\n  <thead>\n    <tr style=\"text-align: right;\">\n      <th></th>\n      <th>carat</th>\n      <th>cut</th>\n      <th>color</th>\n      <th>clarity</th>\n      <th>depth</th>\n      <th>table</th>\n      <th>price</th>\n      <th>x</th>\n      <th>y</th>\n      <th>z</th>\n    </tr>\n  </thead>\n  <tbody>\n    <tr>\n      <th>0</th>\n      <td>0.23</td>\n      <td>Ideal</td>\n      <td>E</td>\n      <td>SI2</td>\n      <td>61.5</td>\n      <td>55.0</td>\n      <td>326</td>\n      <td>3.95</td>\n      <td>3.98</td>\n      <td>2.43</td>\n    </tr>\n    <tr>\n      <th>1</th>\n      <td>0.21</td>\n      <td>Premium</td>\n      <td>E</td>\n      <td>SI1</td>\n      <td>59.8</td>\n      <td>61.0</td>\n      <td>326</td>\n      <td>3.89</td>\n      <td>3.84</td>\n      <td>2.31</td>\n    </tr>\n    <tr>\n      <th>2</th>\n      <td>0.23</td>\n      <td>Good</td>\n      <td>E</td>\n      <td>VS1</td>\n      <td>56.9</td>\n      <td>65.0</td>\n      <td>327</td>\n      <td>4.05</td>\n      <td>4.07</td>\n      <td>2.31</td>\n    </tr>\n    <tr>\n      <th>3</th>\n      <td>0.29</td>\n      <td>Premium</td>\n      <td>I</td>\n      <td>VS2</td>\n      <td>62.4</td>\n      <td>58.0</td>\n      <td>334</td>\n      <td>4.20</td>\n      <td>4.23</td>\n      <td>2.63</td>\n    </tr>\n    <tr>\n      <th>4</th>\n      <td>0.31</td>\n      <td>Good</td>\n      <td>J</td>\n      <td>SI2</td>\n      <td>63.3</td>\n      <td>58.0</td>\n      <td>335</td>\n      <td>4.34</td>\n      <td>4.35</td>\n      <td>2.75</td>\n    </tr>\n  </tbody>\n</table>\n</div>"
     },
     "execution_count": 27,
     "metadata": {},
     "output_type": "execute_result"
    }
   ],
   "source": [
    "dia = pd.read_csv('../datasets/diamonds.csv')\n",
    "dia.head()"
   ],
   "metadata": {
    "collapsed": false
   }
  },
  {
   "cell_type": "code",
   "execution_count": 44,
   "outputs": [
    {
     "data": {
      "text/plain": "color         D     E     F     G     H     I    J\ncut                                               \nFair        163   224   312   314   303   175  119\nGood        662   933   909   871   702   522  307\nIdeal      2834  3903  3826  4884  3115  2093  896\nPremium    1603  2337  2331  2924  2360  1428  808\nVery Good  1513  2400  2164  2299  1824  1204  678",
      "text/html": "<div>\n<style scoped>\n    .dataframe tbody tr th:only-of-type {\n        vertical-align: middle;\n    }\n\n    .dataframe tbody tr th {\n        vertical-align: top;\n    }\n\n    .dataframe thead th {\n        text-align: right;\n    }\n</style>\n<table border=\"1\" class=\"dataframe\">\n  <thead>\n    <tr style=\"text-align: right;\">\n      <th>color</th>\n      <th>D</th>\n      <th>E</th>\n      <th>F</th>\n      <th>G</th>\n      <th>H</th>\n      <th>I</th>\n      <th>J</th>\n    </tr>\n    <tr>\n      <th>cut</th>\n      <th></th>\n      <th></th>\n      <th></th>\n      <th></th>\n      <th></th>\n      <th></th>\n      <th></th>\n    </tr>\n  </thead>\n  <tbody>\n    <tr>\n      <th>Fair</th>\n      <td>163</td>\n      <td>224</td>\n      <td>312</td>\n      <td>314</td>\n      <td>303</td>\n      <td>175</td>\n      <td>119</td>\n    </tr>\n    <tr>\n      <th>Good</th>\n      <td>662</td>\n      <td>933</td>\n      <td>909</td>\n      <td>871</td>\n      <td>702</td>\n      <td>522</td>\n      <td>307</td>\n    </tr>\n    <tr>\n      <th>Ideal</th>\n      <td>2834</td>\n      <td>3903</td>\n      <td>3826</td>\n      <td>4884</td>\n      <td>3115</td>\n      <td>2093</td>\n      <td>896</td>\n    </tr>\n    <tr>\n      <th>Premium</th>\n      <td>1603</td>\n      <td>2337</td>\n      <td>2331</td>\n      <td>2924</td>\n      <td>2360</td>\n      <td>1428</td>\n      <td>808</td>\n    </tr>\n    <tr>\n      <th>Very Good</th>\n      <td>1513</td>\n      <td>2400</td>\n      <td>2164</td>\n      <td>2299</td>\n      <td>1824</td>\n      <td>1204</td>\n      <td>678</td>\n    </tr>\n  </tbody>\n</table>\n</div>"
     },
     "execution_count": 44,
     "metadata": {},
     "output_type": "execute_result"
    }
   ],
   "source": [
    "cross = pd.crosstab(dia['cut'], dia['color'])\n",
    "cross"
   ],
   "metadata": {
    "collapsed": false
   }
  },
  {
   "cell_type": "code",
   "execution_count": 45,
   "outputs": [
    {
     "data": {
      "text/plain": "color   cut    D    E    F    G    H    I    J\n0      Fair  163  224  312  314  303  175  119\n1      Good  662  933  909  871  702  522  307",
      "text/html": "<div>\n<style scoped>\n    .dataframe tbody tr th:only-of-type {\n        vertical-align: middle;\n    }\n\n    .dataframe tbody tr th {\n        vertical-align: top;\n    }\n\n    .dataframe thead th {\n        text-align: right;\n    }\n</style>\n<table border=\"1\" class=\"dataframe\">\n  <thead>\n    <tr style=\"text-align: right;\">\n      <th>color</th>\n      <th>cut</th>\n      <th>D</th>\n      <th>E</th>\n      <th>F</th>\n      <th>G</th>\n      <th>H</th>\n      <th>I</th>\n      <th>J</th>\n    </tr>\n  </thead>\n  <tbody>\n    <tr>\n      <th>0</th>\n      <td>Fair</td>\n      <td>163</td>\n      <td>224</td>\n      <td>312</td>\n      <td>314</td>\n      <td>303</td>\n      <td>175</td>\n      <td>119</td>\n    </tr>\n    <tr>\n      <th>1</th>\n      <td>Good</td>\n      <td>662</td>\n      <td>933</td>\n      <td>909</td>\n      <td>871</td>\n      <td>702</td>\n      <td>522</td>\n      <td>307</td>\n    </tr>\n  </tbody>\n</table>\n</div>"
     },
     "execution_count": 45,
     "metadata": {},
     "output_type": "execute_result"
    }
   ],
   "source": [
    "cross.reset_index().head(2)"
   ],
   "metadata": {
    "collapsed": false
   }
  },
  {
   "cell_type": "code",
   "execution_count": 47,
   "outputs": [
    {
     "data": {
      "text/plain": "         cut color  value\n0       Fair     D    163\n1       Good     D    662\n2      Ideal     D   2834\n3    Premium     D   1603\n4  Very Good     D   1513",
      "text/html": "<div>\n<style scoped>\n    .dataframe tbody tr th:only-of-type {\n        vertical-align: middle;\n    }\n\n    .dataframe tbody tr th {\n        vertical-align: top;\n    }\n\n    .dataframe thead th {\n        text-align: right;\n    }\n</style>\n<table border=\"1\" class=\"dataframe\">\n  <thead>\n    <tr style=\"text-align: right;\">\n      <th></th>\n      <th>cut</th>\n      <th>color</th>\n      <th>value</th>\n    </tr>\n  </thead>\n  <tbody>\n    <tr>\n      <th>0</th>\n      <td>Fair</td>\n      <td>D</td>\n      <td>163</td>\n    </tr>\n    <tr>\n      <th>1</th>\n      <td>Good</td>\n      <td>D</td>\n      <td>662</td>\n    </tr>\n    <tr>\n      <th>2</th>\n      <td>Ideal</td>\n      <td>D</td>\n      <td>2834</td>\n    </tr>\n    <tr>\n      <th>3</th>\n      <td>Premium</td>\n      <td>D</td>\n      <td>1603</td>\n    </tr>\n    <tr>\n      <th>4</th>\n      <td>Very Good</td>\n      <td>D</td>\n      <td>1513</td>\n    </tr>\n  </tbody>\n</table>\n</div>"
     },
     "execution_count": 47,
     "metadata": {},
     "output_type": "execute_result"
    }
   ],
   "source": [
    "cross_melt = cross.reset_index().melt(id_vars='cut')\n",
    "cross_melt.head()"
   ],
   "metadata": {
    "collapsed": false
   }
  },
  {
   "cell_type": "code",
   "execution_count": 48,
   "outputs": [
    {
     "data": {
      "text/plain": "      cut color  value\n17  Ideal     G   4884\n7   Ideal     E   3903",
      "text/html": "<div>\n<style scoped>\n    .dataframe tbody tr th:only-of-type {\n        vertical-align: middle;\n    }\n\n    .dataframe tbody tr th {\n        vertical-align: top;\n    }\n\n    .dataframe thead th {\n        text-align: right;\n    }\n</style>\n<table border=\"1\" class=\"dataframe\">\n  <thead>\n    <tr style=\"text-align: right;\">\n      <th></th>\n      <th>cut</th>\n      <th>color</th>\n      <th>value</th>\n    </tr>\n  </thead>\n  <tbody>\n    <tr>\n      <th>17</th>\n      <td>Ideal</td>\n      <td>G</td>\n      <td>4884</td>\n    </tr>\n    <tr>\n      <th>7</th>\n      <td>Ideal</td>\n      <td>E</td>\n      <td>3903</td>\n    </tr>\n  </tbody>\n</table>\n</div>"
     },
     "execution_count": 48,
     "metadata": {},
     "output_type": "execute_result"
    }
   ],
   "source": [
    "cross_melt.sort_values('value', ascending=False).head(2)"
   ],
   "metadata": {
    "collapsed": false
   }
  },
  {
   "cell_type": "markdown",
   "source": [
    "### 3. 세공수준별 색상별 가격과 캐럿의 평균을 구하고 1캐럿당 가격이 가장 높은 세공수준과 색상 조합을 순서대로 고르면?\n",
    "\n",
    "diamonds.csv 사용\n",
    "\n",
    "1. Ideal, E\n",
    "2. Ideal, G\n",
    "3. Premium, E\n",
    "4. Premium, G"
   ],
   "metadata": {
    "collapsed": false
   }
  },
  {
   "cell_type": "code",
   "execution_count": 49,
   "outputs": [
    {
     "data": {
      "text/plain": "   carat      cut color clarity  depth  table  price     x     y     z\n0   0.23    Ideal     E     SI2   61.5   55.0    326  3.95  3.98  2.43\n1   0.21  Premium     E     SI1   59.8   61.0    326  3.89  3.84  2.31\n2   0.23     Good     E     VS1   56.9   65.0    327  4.05  4.07  2.31\n3   0.29  Premium     I     VS2   62.4   58.0    334  4.20  4.23  2.63\n4   0.31     Good     J     SI2   63.3   58.0    335  4.34  4.35  2.75",
      "text/html": "<div>\n<style scoped>\n    .dataframe tbody tr th:only-of-type {\n        vertical-align: middle;\n    }\n\n    .dataframe tbody tr th {\n        vertical-align: top;\n    }\n\n    .dataframe thead th {\n        text-align: right;\n    }\n</style>\n<table border=\"1\" class=\"dataframe\">\n  <thead>\n    <tr style=\"text-align: right;\">\n      <th></th>\n      <th>carat</th>\n      <th>cut</th>\n      <th>color</th>\n      <th>clarity</th>\n      <th>depth</th>\n      <th>table</th>\n      <th>price</th>\n      <th>x</th>\n      <th>y</th>\n      <th>z</th>\n    </tr>\n  </thead>\n  <tbody>\n    <tr>\n      <th>0</th>\n      <td>0.23</td>\n      <td>Ideal</td>\n      <td>E</td>\n      <td>SI2</td>\n      <td>61.5</td>\n      <td>55.0</td>\n      <td>326</td>\n      <td>3.95</td>\n      <td>3.98</td>\n      <td>2.43</td>\n    </tr>\n    <tr>\n      <th>1</th>\n      <td>0.21</td>\n      <td>Premium</td>\n      <td>E</td>\n      <td>SI1</td>\n      <td>59.8</td>\n      <td>61.0</td>\n      <td>326</td>\n      <td>3.89</td>\n      <td>3.84</td>\n      <td>2.31</td>\n    </tr>\n    <tr>\n      <th>2</th>\n      <td>0.23</td>\n      <td>Good</td>\n      <td>E</td>\n      <td>VS1</td>\n      <td>56.9</td>\n      <td>65.0</td>\n      <td>327</td>\n      <td>4.05</td>\n      <td>4.07</td>\n      <td>2.31</td>\n    </tr>\n    <tr>\n      <th>3</th>\n      <td>0.29</td>\n      <td>Premium</td>\n      <td>I</td>\n      <td>VS2</td>\n      <td>62.4</td>\n      <td>58.0</td>\n      <td>334</td>\n      <td>4.20</td>\n      <td>4.23</td>\n      <td>2.63</td>\n    </tr>\n    <tr>\n      <th>4</th>\n      <td>0.31</td>\n      <td>Good</td>\n      <td>J</td>\n      <td>SI2</td>\n      <td>63.3</td>\n      <td>58.0</td>\n      <td>335</td>\n      <td>4.34</td>\n      <td>4.35</td>\n      <td>2.75</td>\n    </tr>\n  </tbody>\n</table>\n</div>"
     },
     "execution_count": 49,
     "metadata": {},
     "output_type": "execute_result"
    }
   ],
   "source": [
    "dia = pd.read_csv('../datasets/diamonds.csv')\n",
    "dia.head()"
   ],
   "metadata": {
    "collapsed": false
   }
  },
  {
   "cell_type": "code",
   "execution_count": 62,
   "outputs": [
    {
     "data": {
      "text/plain": "    cut clarity        price\n0  Fair      I1  3703.533333\n1  Fair      IF  1912.333333\n2  Fair     SI1  4208.279412\n3  Fair     SI2  5173.916309\n4  Fair     VS1  4165.141176",
      "text/html": "<div>\n<style scoped>\n    .dataframe tbody tr th:only-of-type {\n        vertical-align: middle;\n    }\n\n    .dataframe tbody tr th {\n        vertical-align: top;\n    }\n\n    .dataframe thead th {\n        text-align: right;\n    }\n</style>\n<table border=\"1\" class=\"dataframe\">\n  <thead>\n    <tr style=\"text-align: right;\">\n      <th></th>\n      <th>cut</th>\n      <th>clarity</th>\n      <th>price</th>\n    </tr>\n  </thead>\n  <tbody>\n    <tr>\n      <th>0</th>\n      <td>Fair</td>\n      <td>I1</td>\n      <td>3703.533333</td>\n    </tr>\n    <tr>\n      <th>1</th>\n      <td>Fair</td>\n      <td>IF</td>\n      <td>1912.333333</td>\n    </tr>\n    <tr>\n      <th>2</th>\n      <td>Fair</td>\n      <td>SI1</td>\n      <td>4208.279412</td>\n    </tr>\n    <tr>\n      <th>3</th>\n      <td>Fair</td>\n      <td>SI2</td>\n      <td>5173.916309</td>\n    </tr>\n    <tr>\n      <th>4</th>\n      <td>Fair</td>\n      <td>VS1</td>\n      <td>4165.141176</td>\n    </tr>\n  </tbody>\n</table>\n</div>"
     },
     "execution_count": 62,
     "metadata": {},
     "output_type": "execute_result"
    }
   ],
   "source": [
    "dia_agg = dia.groupby(['cut', 'color'])[['price', 'carat']].mean().reset_index()\n",
    "dia_agg.head()"
   ],
   "metadata": {
    "collapsed": false
   }
  },
  {
   "cell_type": "code",
   "execution_count": null,
   "outputs": [],
   "source": [
    "dia_agg['ratio'] = dia_agg['price'] / dia_agg['carat']\n",
    "dia_agg.sort_values('ratio', ascending=False)"
   ],
   "metadata": {
    "collapsed": false
   }
  }
 ],
 "metadata": {
  "kernelspec": {
   "display_name": "Python 3",
   "language": "python",
   "name": "python3"
  },
  "language_info": {
   "codemirror_mode": {
    "name": "ipython",
    "version": 2
   },
   "file_extension": ".py",
   "mimetype": "text/x-python",
   "name": "python",
   "nbconvert_exporter": "python",
   "pygments_lexer": "ipython2",
   "version": "2.7.6"
  }
 },
 "nbformat": 4,
 "nbformat_minor": 0
}
